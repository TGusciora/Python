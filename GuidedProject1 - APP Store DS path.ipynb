{
 "cells": [
  {
   "cell_type": "markdown",
   "metadata": {},
   "source": [
    "# Dataquest.io Guided Project 1 - Profitable App Profiles for the App Store and Google Play Markets\n",
    "Description:\n",
    "Sources:\n",
    "https://www.kaggle.com/lava18/google-play-store-apps/home\n",
    "https://www.kaggle.com/ramamet4/app-store-apple-data-set-10k-apps/home\n",
    "Goal: finding application characteristics most likely to maximize revenue from application"
   ]
  },
  {
   "cell_type": "markdown",
   "metadata": {},
   "source": [
    "Defining explore function. Will be useful to take a look at\n",
    "source databases. "
   ]
  },
  {
   "cell_type": "code",
   "execution_count": 1,
   "metadata": {
    "collapsed": false
   },
   "outputs": [],
   "source": [
    "import operator\n",
    "#importing operator library to sort dictionaries\n",
    "\n",
    "def explore_data(dataset, start, end, rows_and_columns=False):\n",
    "    dataset_slice = dataset[start:end]    \n",
    "    for row in dataset_slice:\n",
    "        print(row)\n",
    "        print('\\n') # adds a new (empty) line after each row\n",
    "\n",
    "    if rows_and_columns:\n",
    "        print('Number of rows:', len(dataset))\n",
    "        print('Number of columns:', len(dataset[0]))\n"
   ]
  },
  {
   "cell_type": "markdown",
   "metadata": {},
   "source": [
    "Importing source datasets and transforming them to list variables."
   ]
  },
  {
   "cell_type": "code",
   "execution_count": 2,
   "metadata": {
    "collapsed": false
   },
   "outputs": [],
   "source": [
    "apple_open=open('AppleStore.csv',encoding=\"utf8\")\n",
    "google_open=open('googleplaystore.csv',encoding=\"utf8\")\n",
    "import csv\n",
    "apple_read=csv.reader(apple_open)\n",
    "google_read=csv.reader(google_open)\n",
    "google_list=list(google_read)\n",
    "apple_list=list(apple_read)"
   ]
  },
  {
   "cell_type": "markdown",
   "metadata": {},
   "source": [
    "Exploration of datasets using created explore_data function."
   ]
  },
  {
   "cell_type": "code",
   "execution_count": 3,
   "metadata": {
    "collapsed": false
   },
   "outputs": [
    {
     "name": "stdout",
     "output_type": "stream",
     "text": [
      "['App', 'Category', 'Rating', 'Reviews', 'Size', 'Installs', 'Type', 'Price', 'Content Rating', 'Genres', 'Last Updated', 'Current Ver', 'Android Ver']\n",
      "\n",
      "\n",
      "['Photo Editor & Candy Camera & Grid & ScrapBook', 'ART_AND_DESIGN', '4.1', '159', '19M', '10,000+', 'Free', '0', 'Everyone', 'Art & Design', 'January 7, 2018', '1.0.0', '4.0.3 and up']\n",
      "\n",
      "\n",
      "Number of rows: 10842\n",
      "Number of columns: 13\n"
     ]
    }
   ],
   "source": [
    "explore_data(google_list,0,2,True)"
   ]
  },
  {
   "cell_type": "markdown",
   "metadata": {},
   "source": [
    "Google Store application dataset offes below structure:\n",
    "\n",
    "| Variable       | Explanation                             | \n",
    "| -------------- | --------------------------------------- |\n",
    "| App            | unique identifier.Variable name. String |\n",
    "| Category       | type of app. String                     |\n",
    "| Rating         | App rating. Float from 0 to 10          |\n",
    "| Reviews        | Number of reviews. Integer              |\n",
    "| Size           | Size in Megabytes. String               |\n",
    "| Installs       | Number of installs range. String.       |\n",
    "| Type           | 'Free' or 'Paid'. String                |\n",
    "| Price          | Price in dollars. 0 for free apps.      |\n",
    "| Content Rating | Age limit to use app. String            |\n",
    "| Genres         | Genre of app. String                    |\n",
    "| Last updated   | Date of last update. String             |\n",
    "| Current Ver    | current version. String                 |\n",
    "| Android Ver    | Min Android ver to use this app. String | \n"
   ]
  },
  {
   "cell_type": "code",
   "execution_count": 4,
   "metadata": {
    "collapsed": false
   },
   "outputs": [
    {
     "name": "stdout",
     "output_type": "stream",
     "text": [
      "['id', 'track_name', 'size_bytes', 'currency', 'price', 'rating_count_tot', 'rating_count_ver', 'user_rating', 'user_rating_ver', 'ver', 'cont_rating', 'prime_genre', 'sup_devices.num', 'ipadSc_urls.num', 'lang.num', 'vpp_lic']\n",
      "\n",
      "\n",
      "['284882215', 'Facebook', '389879808', 'USD', '0.0', '2974676', '212', '3.5', '3.5', '95.0', '4+', 'Social Networking', '37', '1', '29', '1']\n",
      "\n",
      "\n",
      "Number of rows: 7198\n",
      "Number of columns: 16\n"
     ]
    }
   ],
   "source": [
    "explore_data(apple_list,0,2,True)"
   ]
  },
  {
   "cell_type": "markdown",
   "metadata": {},
   "source": [
    "Apple Store application dataset offes below structure:\n",
    "\n",
    "| Variable         | Explanation                             | \n",
    "| ---------------  | --------------------------------------- |\n",
    "| id               | unique application number. Key. Integer |\n",
    "| track_name       | name of application. String             |\n",
    "| size_bytes       | size of app in bytes. Integer           |\n",
    "| currency         | currency of app price. String           |\n",
    "| price            | price of app. 0 for free apps. Float.   |\n",
    "| rating_count_tot | total number of ratings. Integer        |\n",
    "| rating_count_ver | aaa                                     |\n",
    "| user_rating      | Rating of users. Float from 0 to 10.    |\n",
    "| user_rating_ver  | aaa                                     |\n",
    "| ver              | application version. Float.             |\n",
    "| cont_rating      | Content Rating on 5 star scale. String  |\n",
    "| prime_genre      | App Genre. String                       |\n",
    "| sup_devices.num  | number of supported devices. Integer    |\n",
    "| ipadSc_urls.num  | aaa                                     |\n",
    "| lang.num         | number of supported languages. Integer  |\n",
    "| vpp_lic          | aaa                                     |"
   ]
  },
  {
   "cell_type": "markdown",
   "metadata": {},
   "source": [
    "II Data cleansing\n",
    "a) Preparing function to detect outliers and incorrect values."
   ]
  },
  {
   "cell_type": "code",
   "execution_count": 5,
   "metadata": {
    "collapsed": false
   },
   "outputs": [],
   "source": [
    "#Dataset - name of dataset\n",
    "#variable - case-sensitive name of variable in dataset\n",
    "def variable_desc(dataset,variable):\n",
    "    header=dataset[0]\n",
    "    index_temp=int(header.index(variable))\n",
    "    dict_temp={}\n",
    "    for temp in dataset[1:]:\n",
    "        b=str(temp[index_temp])\n",
    "        if b in dict_temp:\n",
    "            dict_temp[b] += 1\n",
    "        else:\n",
    "            dict_temp[b] = 1\n",
    "\n",
    "    sorted_dict = list(sorted(dict_temp.items(), key=operator.itemgetter(1)))\n",
    "    print('Variable analysed: ' + variable)\n",
    "    print('Number of distinct values:', len(sorted_dict))\n",
    "    for row in sorted_dict:\n",
    "        print(row)"
   ]
  },
  {
   "cell_type": "code",
   "execution_count": 6,
   "metadata": {
    "collapsed": false,
    "scrolled": true
   },
   "outputs": [
    {
     "name": "stdout",
     "output_type": "stream",
     "text": [
      "Variable analysed: Category\n",
      "Number of distinct values: 34\n",
      "('1.9', 1)\n",
      "('BEAUTY', 53)\n",
      "('PARENTING', 60)\n",
      "('COMICS', 60)\n",
      "('EVENTS', 64)\n",
      "('ART_AND_DESIGN', 65)\n",
      "('WEATHER', 82)\n",
      "('LIBRARIES_AND_DEMO', 85)\n",
      "('AUTO_AND_VEHICLES', 85)\n",
      "('HOUSE_AND_HOME', 88)\n",
      "('FOOD_AND_DRINK', 127)\n",
      "('MAPS_AND_NAVIGATION', 137)\n",
      "('ENTERTAINMENT', 149)\n",
      "('EDUCATION', 156)\n",
      "('VIDEO_PLAYERS', 175)\n",
      "('BOOKS_AND_REFERENCE', 231)\n",
      "('DATING', 234)\n",
      "('TRAVEL_AND_LOCAL', 258)\n",
      "('SHOPPING', 260)\n",
      "('NEWS_AND_MAGAZINES', 283)\n",
      "('SOCIAL', 295)\n",
      "('PHOTOGRAPHY', 335)\n",
      "('HEALTH_AND_FITNESS', 341)\n",
      "('FINANCE', 366)\n",
      "('LIFESTYLE', 382)\n",
      "('SPORTS', 384)\n",
      "('COMMUNICATION', 387)\n",
      "('PERSONALIZATION', 392)\n",
      "('PRODUCTIVITY', 424)\n",
      "('BUSINESS', 460)\n",
      "('MEDICAL', 463)\n",
      "('TOOLS', 843)\n",
      "('GAME', 1144)\n",
      "('FAMILY', 1972)\n"
     ]
    }
   ],
   "source": [
    "variable_desc(google_list,'Category')"
   ]
  },
  {
   "cell_type": "markdown",
   "metadata": {
    "collapsed": true
   },
   "source": [
    "b) Function to find duplicates among primary key"
   ]
  },
  {
   "cell_type": "code",
   "execution_count": 7,
   "metadata": {
    "collapsed": false
   },
   "outputs": [
    {
     "name": "stdout",
     "output_type": "stream",
     "text": [
      "['Life Made WI-Fi Touchscreen Photo Frame', '1.9', '19', '3.0M', '1,000+', 'Free', '0', 'Everyone', '', 'February 11, 2018', '1.0.19', '4.0 and up']\n",
      "['osmino Wi-Fi: free WiFi', 'TOOLS', '4.2', '134203', '4.1M', '10,000,000+', 'Free', '0', 'Everyone', 'Tools', 'August 7, 2018', '6.06.14', '4.4 and up']\n"
     ]
    }
   ],
   "source": [
    "print(google_list[10473])\n",
    "del google_list[10473]\n",
    "print(google_list[10473])"
   ]
  },
  {
   "cell_type": "code",
   "execution_count": 8,
   "metadata": {
    "collapsed": false
   },
   "outputs": [],
   "source": [
    "#Dataset - name of dataset\n",
    "#variable - case-sensitive name of primary key variable in dataset\n",
    "#output dataset - clean list based on primary key\n",
    "#max_var - variable that we will use to deduplicate (we will take\n",
    "# only max values)\n",
    "\n",
    "def duplicates(dataset,primary_key,max_var):\n",
    "    print('Length of input dataset - ' + str(len(dataset)))\n",
    "    header=dataset[0]\n",
    "    index_temp=int(header.index(primary_key))\n",
    "    print('Index of primary key - ' + primary_key + ' : ' + str(index_temp))\n",
    "    index_max=int(header.index(max_var))\n",
    "    print('Index of variable used for deduplication - ' + max_var + ' : ' + str(index_max))\n",
    "    dict_temp={}  \n",
    "    clean_list=[]\n",
    "    clean_list.append(header)\n",
    "    for temp in dataset[1:]:   \n",
    "        b=str(temp[index_temp])\n",
    "        c=float(temp[index_max])\n",
    "        if b in dict_temp and dict_temp[b] < c:\n",
    "            dict_temp[b] = c\n",
    "        if b not in dict_temp:\n",
    "            dict_temp[b] = c\n",
    "    print('Length of dictionary: ' + str(len(dict_temp)))\n",
    "    deduped_list=[]\n",
    "    already_added=[]\n",
    "    deduped_list.append(header)\n",
    "    for tempo in dataset[1:]:\n",
    "        name=str(tempo[index_temp])\n",
    "        d=float(tempo[index_max])\n",
    "        if name not in already_added and d==dict_temp[name]:\n",
    "            deduped_list.append(tempo)\n",
    "            already_added.append(name)\n",
    "    print('Length of deduplicated end-dataset: ' + str(len(deduped_list)))\n",
    "    return deduped_list\n",
    "    "
   ]
  },
  {
   "cell_type": "code",
   "execution_count": 9,
   "metadata": {
    "collapsed": false
   },
   "outputs": [
    {
     "name": "stdout",
     "output_type": "stream",
     "text": [
      "Length of input dataset - 10841\n",
      "Index of primary key - App : 0\n",
      "Index of variable used for deduplication - Reviews : 3\n",
      "Length of dictionary: 9659\n",
      "Length of deduplicated end-dataset: 9660\n"
     ]
    }
   ],
   "source": [
    "google_dedup=duplicates(google_list,'App','Reviews')"
   ]
  },
  {
   "cell_type": "code",
   "execution_count": 10,
   "metadata": {
    "collapsed": false,
    "scrolled": false
   },
   "outputs": [
    {
     "name": "stdout",
     "output_type": "stream",
     "text": [
      "['Microsoft Outlook', 'PRODUCTIVITY', '4.3', '3252896', '50M', '100,000,000+', 'Free', '0', 'Everyone', 'Productivity', 'August 2, 2018', '2.2.194', '4.4 and up']\n",
      "['Microsoft Outlook', 'PRODUCTIVITY', '4.3', '3249518', '50M', '100,000,000+', 'Free', '0', 'Everyone', 'Productivity', 'August 2, 2018', '2.2.194', '4.4 and up']\n"
     ]
    }
   ],
   "source": [
    "#Source dataset\n",
    "for a in google_list:\n",
    "    if a[0]=='Microsoft Outlook':\n",
    "        print(a)"
   ]
  },
  {
   "cell_type": "code",
   "execution_count": 11,
   "metadata": {
    "collapsed": false
   },
   "outputs": [
    {
     "name": "stdout",
     "output_type": "stream",
     "text": [
      "['Microsoft Outlook', 'PRODUCTIVITY', '4.3', '3252896', '50M', '100,000,000+', 'Free', '0', 'Everyone', 'Productivity', 'August 2, 2018', '2.2.194', '4.4 and up']\n"
     ]
    }
   ],
   "source": [
    "#Dataset cleaned from app name duplicates\n",
    "for a in google_dedup:\n",
    "    if a[0]=='Microsoft Outlook':\n",
    "        print(a)"
   ]
  },
  {
   "cell_type": "code",
   "execution_count": 12,
   "metadata": {
    "collapsed": false
   },
   "outputs": [
    {
     "name": "stdout",
     "output_type": "stream",
     "text": [
      "Length of input dataset - 7198\n",
      "Index of primary key - id : 0\n",
      "Index of variable used for deduplication - rating_count_tot : 5\n",
      "Length of dictionary: 7197\n",
      "Length of deduplicated end-dataset: 7198\n"
     ]
    }
   ],
   "source": [
    "apple_dedup=duplicates(apple_list,'id','rating_count_tot')\n",
    "#No duplicates in apple_list dataset"
   ]
  },
  {
   "cell_type": "code",
   "execution_count": 13,
   "metadata": {
    "collapsed": false
   },
   "outputs": [],
   "source": [
    "#Noneng - function returning list of english names from list potentially containing non-english names\n",
    "#Recognition of non-english name - more than 3 non-ASCII characters \n",
    "#Dataset - name of dataset\n",
    "#primary_key - case-sensitive name name containing non-english entries\n",
    "#prnt - if prnt=1 then function prints all non-eng app names\n",
    "def noneng(dataset,primary_key,prnt=0):\n",
    "    print('Records in input dataset - ' + str(len(dataset)))\n",
    "    header=dataset[0]\n",
    "    index_temp=int(header.index(primary_key))\n",
    "    print('Index of primary key - ' + primary_key + ' : ' + str(index_temp))\n",
    "    list_noneng=[]\n",
    "    clean_list=[]\n",
    "    clean_list.append(header)\n",
    "    for a in dataset[1:]:\n",
    "        b=str(a[index_temp])\n",
    "        c=0    \n",
    "        for character in b:\n",
    "            if ord(character)>127 and b not in list_noneng:\n",
    "                c += 1\n",
    "                if c>3 and b not in list_noneng:\n",
    "                    list_noneng.append(b)\n",
    "        if b not in list_noneng:\n",
    "            clean_list.append(a)\n",
    "    print('Number of records in english-app end-dataset: ' + str(len(clean_list)))\n",
    "    if prnt==1:\n",
    "        print('List of non-english apps')\n",
    "        print(str(list_noneng))\n",
    "    return clean_list         "
   ]
  },
  {
   "cell_type": "code",
   "execution_count": 14,
   "metadata": {
    "collapsed": false
   },
   "outputs": [
    {
     "name": "stdout",
     "output_type": "stream",
     "text": [
      "Records in input dataset - 9660\n",
      "Index of primary key - App : 0\n",
      "Number of records in english-app end-dataset: 9615\n",
      "List of non-english apps\n",
      "['Flame - درب عقلك يوميا', 'သိင်္ Astrology - Min Thein Kha BayDin', 'РИА Новости', 'صور حرف H', 'L.POINT - 엘포인트 [ 포인트, 멤버십, 적립, 사용, 모바일 카드, 쿠폰, 롯데]', 'RMEduS - 음성인식을 활용한 R 프로그래밍 실습 시스템', 'AJ렌터카 법인 카셰어링', 'Al Quran Free - القرآن (Islam)', '中国語 AQリスニング', '日本AV历史', 'Ay Yıldız Duvar Kağıtları', 'বাংলা টিভি প্রো BD Bangla TV', 'Cъновник BG', 'CSCS BG (в български)', '뽕티비 - 개인방송, 인터넷방송, BJ방송', 'BL 女性向け恋愛ゲーム◆俺プリクロス', 'SecondSecret ‐「恋を読む」BLノベルゲーム‐', 'BL 女性向け恋愛ゲーム◆ごくメン', 'あなカレ【BL】無料ゲーム', '감성학원 BL 첫사랑', 'BQ-መጽሐፍ ቅዱሳዊ ጥያቄዎች', 'BS Calendar / Patro / पात्रो', 'Vip视频免费看-BT磁力搜索', 'Билеты ПДД CD 2019 PRO', 'Offline Jízdní řády CG Transit', 'Bonjour 2017 Abidjan CI ❤❤❤❤❤', 'CK 初一 十五', 'الفاتحون Conquerors', 'DG ग्राम / Digital Gram Panchayat', 'DM הפקות', 'DW فارسی By dw-arab.com', 'لعبة تقدر تربح DZ', 'বাংলাflix', 'RPG ブレイジング ソウルズ アクセレイト', '英漢字典 EC Dictionary', 'ECナビ×シュフー', 'أحداث وحقائق | خبر عاجل في اخبار العالم', 'EG SIM CARD (EGSIMCARD, 이지심카드)', 'パーリーゲイツ公式通販｜EJ STYLE（イージェイスタイル）', 'FAHREDDİN er-RÂZİ TEFSİRİ', \"I'm Rich/Eu sou Rico/أنا غني/我很有錢\", 'AÖF Ev İdaresi 1. Sınıf', 'Ey Sey Storytime រឿងនិទានតាឥសី', '哈哈姆特不EY', 'FP Разбитый дисплей']\n"
     ]
    }
   ],
   "source": [
    "google_noneng=noneng(google_dedup,'App',1)"
   ]
  },
  {
   "cell_type": "code",
   "execution_count": 15,
   "metadata": {
    "collapsed": false
   },
   "outputs": [
    {
     "name": "stdout",
     "output_type": "stream",
     "text": [
      "Records in input dataset - 7198\n",
      "Index of primary key - track_name : 1\n",
      "Number of records in english-app end-dataset: 6184\n"
     ]
    }
   ],
   "source": [
    "apple_noneng=noneng(apple_dedup,'track_name')"
   ]
  },
  {
   "cell_type": "code",
   "execution_count": 16,
   "metadata": {
    "collapsed": false
   },
   "outputs": [
    {
     "name": "stdout",
     "output_type": "stream",
     "text": [
      "Variable analysed: Price\n",
      "Number of distinct values: 92\n",
      "('$4.84', 1)\n",
      "('$19.40', 1)\n",
      "('$5.00', 1)\n",
      "('$9.00', 1)\n",
      "('$25.99', 1)\n",
      "('$109.99', 1)\n",
      "('$18.99', 1)\n",
      "('$1.29', 1)\n",
      "('$37.99', 1)\n",
      "('$299.99', 1)\n",
      "('$154.99', 1)\n",
      "('$4.85', 1)\n",
      "('$400.00', 1)\n",
      "('$394.99', 1)\n",
      "('$3.95', 1)\n",
      "('$3.02', 1)\n",
      "('$1.04', 1)\n",
      "('$3.28', 1)\n",
      "('$15.99', 1)\n",
      "('$10.99', 1)\n",
      "('$3.04', 1)\n",
      "('$3.61', 1)\n",
      "('$74.99', 1)\n",
      "('$3.08', 1)\n",
      "('$30.99', 1)\n",
      "('$15.46', 1)\n",
      "('$379.99', 1)\n",
      "('$1.96', 1)\n",
      "('$3.88', 1)\n",
      "('$4.29', 1)\n",
      "('$1.26', 1)\n",
      "('$46.99', 1)\n",
      "('$4.59', 1)\n",
      "('$2.60', 1)\n",
      "('$1.97', 1)\n",
      "('$3.90', 1)\n",
      "('$19.90', 1)\n",
      "('$200.00', 1)\n",
      "('$4.77', 1)\n",
      "('$1.75', 1)\n",
      "('$79.99', 1)\n",
      "('$4.60', 1)\n",
      "('$14.00', 1)\n",
      "('$1.61', 1)\n",
      "('$2.90', 1)\n",
      "('$2.95', 1)\n",
      "('$1.76', 1)\n",
      "('$2.56', 1)\n",
      "('$1.20', 1)\n",
      "('$89.99', 1)\n",
      "('$4.80', 1)\n",
      "('$2.50', 1)\n",
      "('$33.99', 1)\n",
      "('$1.50', 1)\n",
      "('$389.99', 1)\n",
      "('$28.99', 1)\n",
      "('$2.59', 1)\n",
      "('$1.59', 1)\n",
      "('$10.00', 2)\n",
      "('$13.99', 2)\n",
      "('$1.70', 2)\n",
      "('$16.99', 2)\n",
      "('$7.49', 2)\n",
      "('$8.49', 2)\n",
      "('$17.99', 2)\n",
      "('$39.99', 2)\n",
      "('$24.99', 3)\n",
      "('$12.99', 3)\n",
      "('$1.00', 3)\n",
      "('$11.99', 3)\n",
      "('$2.00', 3)\n",
      "('$6.49', 5)\n",
      "('$8.99', 5)\n",
      "('$29.99', 5)\n",
      "('$19.99', 5)\n",
      "('$5.49', 5)\n",
      "('$3.49', 7)\n",
      "('$7.99', 7)\n",
      "('$4.49', 9)\n",
      "('$14.99', 9)\n",
      "('$6.99', 10)\n",
      "('$399.99', 11)\n",
      "('$9.99', 19)\n",
      "('$2.49', 25)\n",
      "('$5.99', 26)\n",
      "('$1.49', 45)\n",
      "('$3.99', 56)\n",
      "('$4.99', 70)\n",
      "('$1.99', 73)\n",
      "('$2.99', 124)\n",
      "('$0.99', 145)\n",
      "('0', 8864)\n"
     ]
    }
   ],
   "source": [
    "variable_desc(google_noneng,'Price')"
   ]
  },
  {
   "cell_type": "code",
   "execution_count": 17,
   "metadata": {
    "collapsed": false
   },
   "outputs": [
    {
     "name": "stdout",
     "output_type": "stream",
     "text": [
      "Variable analysed: price\n",
      "Number of distinct values: 34\n",
      "('299.99', 1)\n",
      "('21.99', 1)\n",
      "('249.99', 1)\n",
      "('99.99', 1)\n",
      "('27.99', 1)\n",
      "('22.99', 1)\n",
      "('18.99', 1)\n",
      "('20.99', 1)\n",
      "('34.99', 1)\n",
      "('12.99', 1)\n",
      "('74.99', 1)\n",
      "('39.99', 2)\n",
      "('16.99', 2)\n",
      "('49.99', 2)\n",
      "('11.99', 3)\n",
      "('17.99', 3)\n",
      "('59.99', 3)\n",
      "('15.99', 4)\n",
      "('13.99', 6)\n",
      "('29.99', 6)\n",
      "('8.99', 8)\n",
      "('24.99', 8)\n",
      "('19.99', 13)\n",
      "('14.99', 15)\n",
      "('7.99', 30)\n",
      "('5.99', 43)\n",
      "('9.99', 76)\n",
      "('6.99', 165)\n",
      "('3.99', 266)\n",
      "('4.99', 375)\n",
      "('1.99', 610)\n",
      "('0.99', 641)\n",
      "('2.99', 669)\n",
      "('0.0', 3222)\n"
     ]
    }
   ],
   "source": [
    "variable_desc(apple_noneng,'price')"
   ]
  },
  {
   "cell_type": "code",
   "execution_count": 18,
   "metadata": {
    "collapsed": false
   },
   "outputs": [],
   "source": [
    "#free - function returning free applications from a super-set of paid and free applications\n",
    "#Recognition of non-english name - more than 3 non-ASCII characters \n",
    "#Dataset - name of dataset\n",
    "#primary_key - case-sensitive name name containing non-english entries\n",
    "#prnt - if prnt=1 then function prints all non-eng app names\n",
    "def free(dataset,primary_key):\n",
    "    print('Records in input dataset - ' + str(len(dataset)))\n",
    "    header=dataset[0]\n",
    "    index_temp=int(header.index(primary_key))\n",
    "    print('Index of primary key - ' + primary_key + ' : ' + str(index_temp))\n",
    "    paid_apps=[]\n",
    "    free_apps=[]\n",
    "    free_apps.append(header)\n",
    "    for a in dataset[1:]:\n",
    "        b=str(a[index_temp])  \n",
    "        if b != '0' and b != '0.0':\n",
    "            paid_apps.append(b)\n",
    "        else:\n",
    "            free_apps.append(a)\n",
    "    print('Number of records in free app end-dataset: ' + str(len(free_apps)))\n",
    "    return free_apps    "
   ]
  },
  {
   "cell_type": "code",
   "execution_count": 19,
   "metadata": {
    "collapsed": false
   },
   "outputs": [
    {
     "name": "stdout",
     "output_type": "stream",
     "text": [
      "Records in input dataset - 9615\n",
      "Index of primary key - Price : 7\n",
      "Number of records in free app end-dataset: 8865\n"
     ]
    }
   ],
   "source": [
    "free_google=free(google_noneng,'Price')"
   ]
  },
  {
   "cell_type": "code",
   "execution_count": 20,
   "metadata": {
    "collapsed": false
   },
   "outputs": [
    {
     "name": "stdout",
     "output_type": "stream",
     "text": [
      "Records in input dataset - 6184\n",
      "Index of primary key - price : 4\n",
      "Number of records in free app end-dataset: 3223\n"
     ]
    }
   ],
   "source": [
    "free_apple=free(apple_noneng,'price')"
   ]
  },
  {
   "cell_type": "code",
   "execution_count": 21,
   "metadata": {
    "collapsed": true
   },
   "outputs": [],
   "source": [
    "#Build a minimal Android version of the app, and add it to Google Play.\n",
    "#If the app has a good response from users, we then develop it further.\n",
    "#If the app is profitable after six months, we also build an iOS version of the app and add it to the App Store.\n",
    "#Variables we are going to inspect\n",
    "\n",
    "#Google dataset\n",
    "#Rating\n",
    "#Size\n",
    "#Content Rating\n",
    "#Genre"
   ]
  },
  {
   "cell_type": "code",
   "execution_count": 24,
   "metadata": {
    "collapsed": true
   },
   "outputs": [],
   "source": [
    "#Dataset - name of dataset\n",
    "#variable - case-sensitive name of variable in dataset\n",
    "def freq(dataset,variable):\n",
    "    header=dataset[0]\n",
    "    index_temp=int(header.index(variable))\n",
    "    dict_temp={}\n",
    "    for temp in dataset[1:]:\n",
    "        b=str(temp[index_temp])\n",
    "        if b in dict_temp:\n",
    "            dict_temp[b] += 1\n",
    "        else:\n",
    "            dict_temp[b] = 1\n",
    "\n",
    "    sorted_dict = list(sorted(dict_temp.items(), key=operator.itemgetter(1)))\n",
    "    print('Variable analysed: ' + variable)\n",
    "    print('Number of distinct values:', len(sorted_dict))\n",
    "    for row in sorted_dict:\n",
    "        print(row)"
   ]
  },
  {
   "cell_type": "code",
   "execution_count": 25,
   "metadata": {
    "collapsed": false
   },
   "outputs": [
    {
     "name": "stdout",
     "output_type": "stream",
     "text": [
      "Variable analysed: prime_genre\n",
      "Number of distinct values: 23\n",
      "('Catalogs', 4)\n",
      "('Medical', 6)\n",
      "('Navigation', 6)\n",
      "('Book', 14)\n",
      "('Business', 17)\n",
      "('Reference', 18)\n",
      "('Food & Drink', 26)\n",
      "('Weather', 28)\n",
      "('Finance', 36)\n",
      "('Travel', 40)\n",
      "('News', 43)\n",
      "('Lifestyle', 51)\n",
      "('Productivity', 56)\n",
      "('Health & Fitness', 65)\n",
      "('Music', 66)\n",
      "('Sports', 69)\n",
      "('Utilities', 81)\n",
      "('Shopping', 84)\n",
      "('Social Networking', 106)\n",
      "('Education', 118)\n",
      "('Photo & Video', 160)\n",
      "('Entertainment', 254)\n",
      "('Games', 1874)\n"
     ]
    }
   ],
   "source": [
    "check_apple=freq(free_apple,'prime_genre')"
   ]
  },
  {
   "cell_type": "code",
   "execution_count": 26,
   "metadata": {
    "collapsed": false
   },
   "outputs": [
    {
     "name": "stdout",
     "output_type": "stream",
     "text": [
      "Variable analysed: Category\n",
      "Number of distinct values: 33\n",
      "('BEAUTY', 53)\n",
      "('COMICS', 55)\n",
      "('ART_AND_DESIGN', 57)\n",
      "('PARENTING', 58)\n",
      "('EVENTS', 63)\n",
      "('WEATHER', 71)\n",
      "('HOUSE_AND_HOME', 73)\n",
      "('AUTO_AND_VEHICLES', 82)\n",
      "('LIBRARIES_AND_DEMO', 83)\n",
      "('ENTERTAINMENT', 85)\n",
      "('EDUCATION', 103)\n",
      "('FOOD_AND_DRINK', 110)\n",
      "('MAPS_AND_NAVIGATION', 124)\n",
      "('VIDEO_PLAYERS', 159)\n",
      "('DATING', 165)\n",
      "('BOOKS_AND_REFERENCE', 190)\n",
      "('SHOPPING', 199)\n",
      "('TRAVEL_AND_LOCAL', 207)\n",
      "('SOCIAL', 236)\n",
      "('NEWS_AND_MAGAZINES', 248)\n",
      "('PHOTOGRAPHY', 261)\n",
      "('HEALTH_AND_FITNESS', 273)\n",
      "('COMMUNICATION', 287)\n",
      "('PERSONALIZATION', 294)\n",
      "('SPORTS', 301)\n",
      "('MEDICAL', 313)\n",
      "('FINANCE', 328)\n",
      "('PRODUCTIVITY', 345)\n",
      "('LIFESTYLE', 346)\n",
      "('BUSINESS', 407)\n",
      "('TOOLS', 750)\n",
      "('GAME', 862)\n",
      "('FAMILY', 1676)\n"
     ]
    }
   ],
   "source": [
    "check_google=freq(free_google,'Category')"
   ]
  },
  {
   "cell_type": "code",
   "execution_count": null,
   "metadata": {
    "collapsed": true
   },
   "outputs": [],
   "source": [
    "# zrob funkcje sortujaca tabele po n-tym elementcie malejaco. \n",
    "# Funkcja z neta ponizej. Zaadaptuj.\n",
    "\n",
    "def custom_sort(t):\n",
    "    return t[1]\n",
    "\n",
    "L = [(\"Alice\", 25), (\"Bob\", 20), (\"Alex\", 5)]\n",
    "L.sort(key=custom_sort)\n",
    "print(L)"
   ]
  }
 ],
 "metadata": {
  "kernelspec": {
   "display_name": "Python 3",
   "language": "python",
   "name": "python3"
  },
  "language_info": {
   "codemirror_mode": {
    "name": "ipython",
    "version": 3
   },
   "file_extension": ".py",
   "mimetype": "text/x-python",
   "name": "python",
   "nbconvert_exporter": "python",
   "pygments_lexer": "ipython3",
   "version": "3.4.3"
  }
 },
 "nbformat": 4,
 "nbformat_minor": 2
}
