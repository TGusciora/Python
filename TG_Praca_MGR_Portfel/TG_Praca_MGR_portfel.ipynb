{
 "cells": [
  {
   "cell_type": "markdown",
   "id": "150bf9a5",
   "metadata": {},
   "source": [
    "Praca Magisterska - budowa optymalnego portfela na podstawie wybranych klas aktywów\n",
    "Tomasz G"
   ]
  },
  {
   "cell_type": "markdown",
   "id": "b94d4b3e",
   "metadata": {},
   "source": [
    "Zrodlo api: "
   ]
  },
  {
   "cell_type": "code",
   "execution_count": 1,
   "id": "1a144ec3",
   "metadata": {},
   "outputs": [],
   "source": [
    "#libraries\n",
    "\n",
    "from urllib.request import urlretrieve\n",
    "from datetime import datetime\n",
    "import pandas as pd\n",
    "import mplfinance as mpl #https://pypi.org/project/mplfinance/\n",
    "import os\n",
    "import string\n",
    "import re\n"
   ]
  },
  {
   "cell_type": "markdown",
   "id": "cbc0045e",
   "metadata": {},
   "source": [
    "Useful:  \n",
    "https://campus.datacamp.com/courses/introduction-to-portfolio-analysis-in-python/introduction-to-portfolio-analysis?ex=9\n",
    "dir() #list of variables  \n",
    "%whos #list of objects in environment  "
   ]
  },
  {
   "cell_type": "markdown",
   "id": "958c1c37",
   "metadata": {},
   "source": [
    "Stooq notes:  \n",
    "Indices are prefixed by ^ e.g. ^DJI (Dow Jones Industrial), ^UK100 (FTSE100)  \n",
    "US stocks are suffixed by .US e.g. AAPL.US, MSFT.US, TSLA.US  \n",
    "Cryptocurrencies are suffixed by .V e.g. BTC.V (BitCoin)  \n",
    "UK stocks are suffixed by .UK e.g. AV.UK (Aviva)  \n",
    "Price/Earnings are suffixed by _PE.US e.g. AAPL_PE.US  \n"
   ]
  },
  {
   "cell_type": "markdown",
   "id": "82f702a5",
   "metadata": {},
   "source": [
    "Libraries to explore:\n",
    "https://www.activestate.com/blog/top-10-python-packages-for-finance-and-financial-modeling/\n",
    "https://quantlib-python-docs.readthedocs.io/en/latest/\n",
    "https://github.com/quandl/quandl-python\n",
    "https://github.com/quantopian/pyfolio\n",
    "https://gbeced.github.io/pyalgotrade/docs/v0.20/html/tutorial.html"
   ]
  },
  {
   "cell_type": "code",
   "execution_count": 2,
   "id": "6bdde3e2",
   "metadata": {},
   "outputs": [],
   "source": [
    "# PARAMETERS for calculations\n",
    "portfolio_securities = [\"SPX\",\"V80ADE\",\"WIG\",\"PKO\"] # securities chosen  for your porfolio\n",
    "portfolio_weights = [0.25, 0.25, 0.25 ,0.25] # weights for your securities in portfolio. Number of weights must match number of securities\n",
    "capital = 100000 #starting capital"
   ]
  },
  {
   "cell_type": "code",
   "execution_count": 3,
   "id": "96c3f7c4",
   "metadata": {},
   "outputs": [],
   "source": [
    "ticker_list = ['WIG','WIG20','^SPX','V80A.DE','^TBSP','EURPLN','USDPLN','BTC.V','XAGPLN','XAUPLN','HUG','KGH','PCF','PKO','PZU',\n",
    "              'AAPL.US', 'MSFT.US', 'AMZN.US', 'GOOGL.US', 'GOOG.US', 'TSLA.US', 'NVDA.US', 'META.US', 'BRK-B.US', 'UNH.US']\n",
    "\n",
    "# WIG - indeks WIG\n",
    "# WIG20 - indeks 20 największych spółek indeksu WIG\n",
    "# ^SPX - indeks S&P 500\n",
    "# V80A.DE - ETF Vanguard Life Strategy 80/20 ACC notowany na gieldzie Xetra (portfelm na DM BOS IKE)\n",
    "# ^TBSP - indeks polskich obligacji skarbowych\n",
    "# EURPLN - kurs wymiany eur/pln\n",
    "# USDPLN - kurs wymian usd/pln\n",
    "# BTC.V - bitcoin\n",
    "# XAGPLN - srebro (ozt - uncja trojanska - 31,1034768 g)\n",
    "# XAUPLN - zloto (ozt - uncja trojanska - 31,1034768 g)\n",
    "# HUG - Huuuge Inc (producent gier; portfel na MBANK)\n",
    "# KGH - KGHM (wydobywca surowców; portfel na MBANK)\n",
    "# PCF - PFC Group (producent gier; portfel na MBANK)\n",
    "# PKO - PKO BP (bank polski; porfel na MBANK)\n",
    "# PZU - PZU (ubezpieczyciel; portfel na MBANK)"
   ]
  },
  {
   "cell_type": "code",
   "execution_count": 4,
   "id": "9838b766",
   "metadata": {},
   "outputs": [],
   "source": [
    "#Parameters\n",
    "#List of securities / variables to track\n",
    "data_folder=\"data/\"\n",
    "\n",
    "os.makedirs(data_folder, exist_ok=True)"
   ]
  },
  {
   "cell_type": "code",
   "execution_count": 5,
   "id": "16f362fe",
   "metadata": {},
   "outputs": [],
   "source": [
    "for ticker in ticker_list:\n",
    "    interval = 'd'\n",
    "    url = f'https://stooq.com/q/d/l/?s={ticker}&i={interval}'\n",
    "    csv_file = data_folder + ticker + '.csv'\n",
    "    urlretrieve(url, csv_file)"
   ]
  },
  {
   "cell_type": "code",
   "execution_count": 6,
   "id": "5ef88ac4",
   "metadata": {},
   "outputs": [
    {
     "name": "stdout",
     "output_type": "stream",
     "text": [
      "./data\n",
      "[]\n",
      "['AAPL.US.csv', 'AMZN.US.csv', 'BRK-B.US.csv', 'BTC.V.csv', 'EURPLN.csv', 'GOOG.US.csv', 'GOOGL.US.csv', 'HUG.csv', 'KGH.csv', 'META.US.csv', 'MSFT.US.csv', 'NVDA.US.csv', 'PCF.csv', 'PKO.csv', 'PZU.csv', 'TSLA.US.csv', 'UNH.US.csv', 'USDPLN.csv', 'V80A.DE.csv', 'WIG.csv', 'WIG20.csv', 'XAGPLN.csv', 'XAUPLN.csv', '^SPX.csv', '^TBSP.csv']\n"
     ]
    }
   ],
   "source": [
    "path, dirs, files = next(os.walk(\"./data\"))\n",
    "print(path)\n",
    "print(dirs)\n",
    "print(files)"
   ]
  },
  {
   "cell_type": "code",
   "execution_count": 7,
   "id": "095b3445",
   "metadata": {
    "scrolled": true
   },
   "outputs": [
    {
     "data": {
      "text/plain": [
       "['AAPLUS',\n",
       " 'AMZNUS',\n",
       " 'BRKBUS',\n",
       " 'BTCV',\n",
       " 'EURPLN',\n",
       " 'GOOGLUS',\n",
       " 'GOOGUS',\n",
       " 'HUG',\n",
       " 'KGH',\n",
       " 'METAUS',\n",
       " 'MSFTUS',\n",
       " 'NVDAUS',\n",
       " 'PCF',\n",
       " 'PKO',\n",
       " 'PZU',\n",
       " 'TSLAUS',\n",
       " 'UNHUS',\n",
       " 'USDPLN',\n",
       " 'V80ADE',\n",
       " 'WIG',\n",
       " 'WIG20',\n",
       " 'XAGPLN',\n",
       " 'XAUPLN',\n",
       " 'SPX',\n",
       " 'TBSP']"
      ]
     },
     "execution_count": 7,
     "metadata": {},
     "output_type": "execute_result"
    }
   ],
   "source": [
    "# Creating list of dataframe names out of tickers list \n",
    "# Deleting special characters\n",
    "files_clean = []\n",
    "pattern = r'[' + string.punctuation + ']'\n",
    "for file in ticker_list:\n",
    "    sample_str = re.sub(pattern, '', file)\n",
    "    files_clean.append(sample_str)\n",
    "    \n",
    "# Sorting to match files order\n",
    "files_clean.sort()\n",
    "\n",
    "# Adjusting order of list to match files order - manual\n",
    "element = 'SPX'\n",
    "del files_clean[files_clean.index(element)]\n",
    "files_clean.append(element)\n",
    "element = 'TBSP'\n",
    "del files_clean[files_clean.index(element)]\n",
    "files_clean.append(element)\n",
    "\n",
    "#displaying list\n",
    "files_clean\n"
   ]
  },
  {
   "cell_type": "code",
   "execution_count": 8,
   "id": "9032e858",
   "metadata": {
    "scrolled": true
   },
   "outputs": [
    {
     "name": "stdout",
     "output_type": "stream",
     "text": [
      "AAPL.US.csv\n",
      "AMZN.US.csv\n",
      "BRK-B.US.csv\n",
      "BTC.V.csv\n",
      "EURPLN.csv\n",
      "GOOG.US.csv\n",
      "GOOGL.US.csv\n",
      "HUG.csv\n",
      "KGH.csv\n",
      "META.US.csv\n",
      "MSFT.US.csv\n",
      "NVDA.US.csv\n",
      "PCF.csv\n",
      "PKO.csv\n",
      "PZU.csv\n",
      "TSLA.US.csv\n",
      "UNH.US.csv\n",
      "USDPLN.csv\n",
      "V80A.DE.csv\n",
      "WIG.csv\n",
      "WIG20.csv\n",
      "XAGPLN.csv\n",
      "XAUPLN.csv\n",
      "^SPX.csv\n",
      "^TBSP.csv\n"
     ]
    },
    {
     "data": {
      "text/plain": [
       "dict_keys(['AAPLUS', 'AMZNUS', 'BRKBUS', 'BTCV', 'EURPLN', 'GOOGLUS', 'GOOGUS', 'HUG', 'KGH', 'METAUS', 'MSFTUS', 'NVDAUS', 'PCF', 'PKO', 'PZU', 'TSLAUS', 'UNHUS', 'USDPLN', 'V80ADE', 'WIG', 'WIG20', 'XAGPLN', 'XAUPLN', 'SPX', 'TBSP'])"
      ]
     },
     "execution_count": 8,
     "metadata": {},
     "output_type": "execute_result"
    }
   ],
   "source": [
    "# Create a dictionary containing security name and corresponding dataframe\n",
    "securities = dict()\n",
    "for i, row in enumerate(files):\n",
    "    print(row)\n",
    "    dfName = files_clean[i]\n",
    "    dfNew = pd.read_csv(\"./data/\"+row, index_col='Date', parse_dates=['Date'],\n",
    "                date_parser=lambda x: datetime.strptime(x, '%Y-%m-%d'))\n",
    "    securities[dfName] = dfNew\n",
    "\n",
    "#Check key names\n",
    "securities.keys()"
   ]
  },
  {
   "cell_type": "code",
   "execution_count": 9,
   "id": "d6ef9b8e",
   "metadata": {},
   "outputs": [
    {
     "data": {
      "text/html": [
       "<div>\n",
       "<style scoped>\n",
       "    .dataframe tbody tr th:only-of-type {\n",
       "        vertical-align: middle;\n",
       "    }\n",
       "\n",
       "    .dataframe tbody tr th {\n",
       "        vertical-align: top;\n",
       "    }\n",
       "\n",
       "    .dataframe thead th {\n",
       "        text-align: right;\n",
       "    }\n",
       "</style>\n",
       "<table border=\"1\" class=\"dataframe\">\n",
       "  <thead>\n",
       "    <tr style=\"text-align: right;\">\n",
       "      <th></th>\n",
       "      <th>Open</th>\n",
       "      <th>High</th>\n",
       "      <th>Low</th>\n",
       "      <th>Close</th>\n",
       "      <th>Volume</th>\n",
       "      <th>daily_return</th>\n",
       "      <th>cum_return</th>\n",
       "    </tr>\n",
       "    <tr>\n",
       "      <th>Date</th>\n",
       "      <th></th>\n",
       "      <th></th>\n",
       "      <th></th>\n",
       "      <th></th>\n",
       "      <th></th>\n",
       "      <th></th>\n",
       "      <th></th>\n",
       "    </tr>\n",
       "  </thead>\n",
       "  <tbody>\n",
       "    <tr>\n",
       "      <th>1789-05-01</th>\n",
       "      <td>0.51</td>\n",
       "      <td>0.51</td>\n",
       "      <td>0.51</td>\n",
       "      <td>0.51</td>\n",
       "      <td>NaN</td>\n",
       "      <td>NaN</td>\n",
       "      <td>NaN</td>\n",
       "    </tr>\n",
       "    <tr>\n",
       "      <th>1789-06-01</th>\n",
       "      <td>0.51</td>\n",
       "      <td>0.51</td>\n",
       "      <td>0.51</td>\n",
       "      <td>0.51</td>\n",
       "      <td>NaN</td>\n",
       "      <td>0.000000</td>\n",
       "      <td>1.000000</td>\n",
       "    </tr>\n",
       "    <tr>\n",
       "      <th>1789-07-01</th>\n",
       "      <td>0.50</td>\n",
       "      <td>0.50</td>\n",
       "      <td>0.50</td>\n",
       "      <td>0.50</td>\n",
       "      <td>NaN</td>\n",
       "      <td>-0.019608</td>\n",
       "      <td>0.980392</td>\n",
       "    </tr>\n",
       "    <tr>\n",
       "      <th>1789-08-01</th>\n",
       "      <td>0.50</td>\n",
       "      <td>0.51</td>\n",
       "      <td>0.50</td>\n",
       "      <td>0.51</td>\n",
       "      <td>NaN</td>\n",
       "      <td>0.020000</td>\n",
       "      <td>1.000000</td>\n",
       "    </tr>\n",
       "    <tr>\n",
       "      <th>1789-09-01</th>\n",
       "      <td>0.51</td>\n",
       "      <td>0.51</td>\n",
       "      <td>0.50</td>\n",
       "      <td>0.51</td>\n",
       "      <td>NaN</td>\n",
       "      <td>0.000000</td>\n",
       "      <td>1.000000</td>\n",
       "    </tr>\n",
       "    <tr>\n",
       "      <th>...</th>\n",
       "      <td>...</td>\n",
       "      <td>...</td>\n",
       "      <td>...</td>\n",
       "      <td>...</td>\n",
       "      <td>...</td>\n",
       "      <td>...</td>\n",
       "      <td>...</td>\n",
       "    </tr>\n",
       "    <tr>\n",
       "      <th>2022-11-16</th>\n",
       "      <td>3976.82</td>\n",
       "      <td>3983.09</td>\n",
       "      <td>3954.34</td>\n",
       "      <td>3958.79</td>\n",
       "      <td>2.405875e+09</td>\n",
       "      <td>-0.008252</td>\n",
       "      <td>7762.333333</td>\n",
       "    </tr>\n",
       "    <tr>\n",
       "      <th>2022-11-17</th>\n",
       "      <td>3919.26</td>\n",
       "      <td>3954.33</td>\n",
       "      <td>3906.54</td>\n",
       "      <td>3946.56</td>\n",
       "      <td>2.196018e+09</td>\n",
       "      <td>-0.003089</td>\n",
       "      <td>7738.352941</td>\n",
       "    </tr>\n",
       "    <tr>\n",
       "      <th>2022-11-18</th>\n",
       "      <td>3966.39</td>\n",
       "      <td>3979.89</td>\n",
       "      <td>3935.98</td>\n",
       "      <td>3965.34</td>\n",
       "      <td>2.233623e+09</td>\n",
       "      <td>0.004759</td>\n",
       "      <td>7775.176471</td>\n",
       "    </tr>\n",
       "    <tr>\n",
       "      <th>2022-11-21</th>\n",
       "      <td>3956.23</td>\n",
       "      <td>3962.00</td>\n",
       "      <td>3933.34</td>\n",
       "      <td>3949.94</td>\n",
       "      <td>2.114063e+09</td>\n",
       "      <td>-0.003884</td>\n",
       "      <td>7744.980392</td>\n",
       "    </tr>\n",
       "    <tr>\n",
       "      <th>2022-11-22</th>\n",
       "      <td>3965.51</td>\n",
       "      <td>4005.88</td>\n",
       "      <td>3956.88</td>\n",
       "      <td>4003.58</td>\n",
       "      <td>1.995897e+09</td>\n",
       "      <td>0.013580</td>\n",
       "      <td>7850.156863</td>\n",
       "    </tr>\n",
       "  </tbody>\n",
       "</table>\n",
       "<p>38827 rows × 7 columns</p>\n",
       "</div>"
      ],
      "text/plain": [
       "               Open     High      Low    Close        Volume  daily_return  \\\n",
       "Date                                                                         \n",
       "1789-05-01     0.51     0.51     0.51     0.51           NaN           NaN   \n",
       "1789-06-01     0.51     0.51     0.51     0.51           NaN      0.000000   \n",
       "1789-07-01     0.50     0.50     0.50     0.50           NaN     -0.019608   \n",
       "1789-08-01     0.50     0.51     0.50     0.51           NaN      0.020000   \n",
       "1789-09-01     0.51     0.51     0.50     0.51           NaN      0.000000   \n",
       "...             ...      ...      ...      ...           ...           ...   \n",
       "2022-11-16  3976.82  3983.09  3954.34  3958.79  2.405875e+09     -0.008252   \n",
       "2022-11-17  3919.26  3954.33  3906.54  3946.56  2.196018e+09     -0.003089   \n",
       "2022-11-18  3966.39  3979.89  3935.98  3965.34  2.233623e+09      0.004759   \n",
       "2022-11-21  3956.23  3962.00  3933.34  3949.94  2.114063e+09     -0.003884   \n",
       "2022-11-22  3965.51  4005.88  3956.88  4003.58  1.995897e+09      0.013580   \n",
       "\n",
       "             cum_return  \n",
       "Date                     \n",
       "1789-05-01          NaN  \n",
       "1789-06-01     1.000000  \n",
       "1789-07-01     0.980392  \n",
       "1789-08-01     1.000000  \n",
       "1789-09-01     1.000000  \n",
       "...                 ...  \n",
       "2022-11-16  7762.333333  \n",
       "2022-11-17  7738.352941  \n",
       "2022-11-18  7775.176471  \n",
       "2022-11-21  7744.980392  \n",
       "2022-11-22  7850.156863  \n",
       "\n",
       "[38827 rows x 7 columns]"
      ]
     },
     "execution_count": 9,
     "metadata": {},
     "output_type": "execute_result"
    }
   ],
   "source": [
    "securities[\"SPX\"][\"daily_return\"]=securities[\"SPX\"][\"Close\"].pct_change()\n",
    "securities[\"SPX\"][\"cum_return\"]=(securities[\"SPX\"][\"daily_return\"]+1).cumprod()\n",
    "securities[\"SPX\"]"
   ]
  },
  {
   "cell_type": "code",
   "execution_count": 11,
   "id": "d9ebcba1",
   "metadata": {},
   "outputs": [],
   "source": [
    "#BUDOWA PORTFOLIO\n",
    "\n",
    "portfolio = pd.DataFrame()\n",
    "for item in portfolio_securities:\n",
    "    item = pd.Series(data=securities[item][\"Close\"], name=item)\n",
    "    portfolio = pd.merge(portfolio, item, how='outer', left_index=True, right_index=True)\n",
    "    \n",
    "    "
   ]
  },
  {
   "cell_type": "code",
   "execution_count": 12,
   "id": "4a4f46c0",
   "metadata": {},
   "outputs": [
    {
     "data": {
      "text/html": [
       "<div>\n",
       "<style scoped>\n",
       "    .dataframe tbody tr th:only-of-type {\n",
       "        vertical-align: middle;\n",
       "    }\n",
       "\n",
       "    .dataframe tbody tr th {\n",
       "        vertical-align: top;\n",
       "    }\n",
       "\n",
       "    .dataframe thead th {\n",
       "        text-align: right;\n",
       "    }\n",
       "</style>\n",
       "<table border=\"1\" class=\"dataframe\">\n",
       "  <thead>\n",
       "    <tr style=\"text-align: right;\">\n",
       "      <th></th>\n",
       "      <th>SPX</th>\n",
       "      <th>V80ADE</th>\n",
       "      <th>WIG</th>\n",
       "      <th>PKO</th>\n",
       "    </tr>\n",
       "    <tr>\n",
       "      <th>Date</th>\n",
       "      <th></th>\n",
       "      <th></th>\n",
       "      <th></th>\n",
       "      <th></th>\n",
       "    </tr>\n",
       "  </thead>\n",
       "  <tbody>\n",
       "    <tr>\n",
       "      <th>1789-05-01</th>\n",
       "      <td>0.51</td>\n",
       "      <td>NaN</td>\n",
       "      <td>NaN</td>\n",
       "      <td>NaN</td>\n",
       "    </tr>\n",
       "    <tr>\n",
       "      <th>1789-06-01</th>\n",
       "      <td>0.51</td>\n",
       "      <td>NaN</td>\n",
       "      <td>NaN</td>\n",
       "      <td>NaN</td>\n",
       "    </tr>\n",
       "    <tr>\n",
       "      <th>1789-07-01</th>\n",
       "      <td>0.50</td>\n",
       "      <td>NaN</td>\n",
       "      <td>NaN</td>\n",
       "      <td>NaN</td>\n",
       "    </tr>\n",
       "    <tr>\n",
       "      <th>1789-08-01</th>\n",
       "      <td>0.51</td>\n",
       "      <td>NaN</td>\n",
       "      <td>NaN</td>\n",
       "      <td>NaN</td>\n",
       "    </tr>\n",
       "    <tr>\n",
       "      <th>1789-09-01</th>\n",
       "      <td>0.51</td>\n",
       "      <td>NaN</td>\n",
       "      <td>NaN</td>\n",
       "      <td>NaN</td>\n",
       "    </tr>\n",
       "    <tr>\n",
       "      <th>...</th>\n",
       "      <td>...</td>\n",
       "      <td>...</td>\n",
       "      <td>...</td>\n",
       "      <td>...</td>\n",
       "    </tr>\n",
       "    <tr>\n",
       "      <th>2022-11-17</th>\n",
       "      <td>3946.56</td>\n",
       "      <td>27.370</td>\n",
       "      <td>54791.43</td>\n",
       "      <td>27.88</td>\n",
       "    </tr>\n",
       "    <tr>\n",
       "      <th>2022-11-18</th>\n",
       "      <td>3965.34</td>\n",
       "      <td>27.515</td>\n",
       "      <td>54891.25</td>\n",
       "      <td>28.06</td>\n",
       "    </tr>\n",
       "    <tr>\n",
       "      <th>2022-11-21</th>\n",
       "      <td>3949.94</td>\n",
       "      <td>27.630</td>\n",
       "      <td>54259.77</td>\n",
       "      <td>27.86</td>\n",
       "    </tr>\n",
       "    <tr>\n",
       "      <th>2022-11-22</th>\n",
       "      <td>4003.58</td>\n",
       "      <td>27.730</td>\n",
       "      <td>55166.92</td>\n",
       "      <td>28.15</td>\n",
       "    </tr>\n",
       "    <tr>\n",
       "      <th>2022-11-23</th>\n",
       "      <td>NaN</td>\n",
       "      <td>NaN</td>\n",
       "      <td>55364.31</td>\n",
       "      <td>28.04</td>\n",
       "    </tr>\n",
       "  </tbody>\n",
       "</table>\n",
       "<p>39020 rows × 4 columns</p>\n",
       "</div>"
      ],
      "text/plain": [
       "                SPX  V80ADE       WIG    PKO\n",
       "Date                                        \n",
       "1789-05-01     0.51     NaN       NaN    NaN\n",
       "1789-06-01     0.51     NaN       NaN    NaN\n",
       "1789-07-01     0.50     NaN       NaN    NaN\n",
       "1789-08-01     0.51     NaN       NaN    NaN\n",
       "1789-09-01     0.51     NaN       NaN    NaN\n",
       "...             ...     ...       ...    ...\n",
       "2022-11-17  3946.56  27.370  54791.43  27.88\n",
       "2022-11-18  3965.34  27.515  54891.25  28.06\n",
       "2022-11-21  3949.94  27.630  54259.77  27.86\n",
       "2022-11-22  4003.58  27.730  55166.92  28.15\n",
       "2022-11-23      NaN     NaN  55364.31  28.04\n",
       "\n",
       "[39020 rows x 4 columns]"
      ]
     },
     "execution_count": 12,
     "metadata": {},
     "output_type": "execute_result"
    }
   ],
   "source": [
    "portfolio"
   ]
  },
  {
   "cell_type": "code",
   "execution_count": 13,
   "id": "ee7ff3be",
   "metadata": {
    "scrolled": true
   },
   "outputs": [
    {
     "data": {
      "image/png": "[encoded data removed]",
      "text/plain": [
       "<Figure size 576x414 with 4 Axes>"
      ]
     },
     "metadata": {
      "needs_background": "light"
     },
     "output_type": "display_data"
    }
   ],
   "source": [
    "mpl.plot(securities[\"SPX\"], type='line', volume=True, mav=(3,6,9))"
   ]
  },
  {
   "cell_type": "code",
   "execution_count": null,
   "id": "231ee0ab",
   "metadata": {},
   "outputs": [],
   "source": [
    "mpl.plot(securities[\"V80ADE\"], type='candle', volume=True, mav=(3,6,9))"
   ]
  },
  {
   "cell_type": "code",
   "execution_count": null,
   "id": "257e6ca0",
   "metadata": {},
   "outputs": [],
   "source": []
  }
 ],
 "metadata": {
  "kernelspec": {
   "display_name": "Python 3 (ipykernel)",
   "language": "python",
   "name": "python3"
  },
  "language_info": {
   "codemirror_mode": {
    "name": "ipython",
    "version": 3
   },
   "file_extension": ".py",
   "mimetype": "text/x-python",
   "name": "python",
   "nbconvert_exporter": "python",
   "pygments_lexer": "ipython3",
   "version": "3.9.13"
  }
 },
 "nbformat": 4,
 "nbformat_minor": 5
}
