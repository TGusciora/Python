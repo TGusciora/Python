{
 "cells": [
  {
   "cell_type": "code",
   "execution_count": 13,
   "id": "efd9267c",
   "metadata": {},
   "outputs": [],
   "source": [
    "import docx #pip install python-docx"
   ]
  },
  {
   "cell_type": "code",
   "execution_count": 14,
   "id": "d4427e9c",
   "metadata": {},
   "outputs": [],
   "source": [
    "# Declaring new docx document\n",
    "document = docx.Document()\n",
    "from docx.shared import Pt\n",
    "from docx.shared import Inches\n",
    "from docx.shared import Cm\n",
    "from docx.enum.text import WD_ALIGN_PARAGRAPH\n",
    "from docx.enum.style import WD_STYLE_TYPE\n",
    "\n",
    "# For adding breaks\n",
    "p = document.add_paragraph()\n",
    "run = p.add_run()"
   ]
  },
  {
   "cell_type": "code",
   "execution_count": 15,
   "id": "29a5b4ea",
   "metadata": {},
   "outputs": [],
   "source": [
    "font_styles = document.styles\n",
    "font_roman18 = font_styles.add_style('Roman18', WD_STYLE_TYPE.CHARACTER)\n",
    "font_object = font_roman18.font\n",
    "font_object.size = Pt(18)\n",
    "font_object.name = 'Times New Roman'\n",
    "\n",
    "font_roman14 = font_styles.add_style('Roman14', WD_STYLE_TYPE.CHARACTER)\n",
    "font_object = font_roman14.font\n",
    "font_object.size = Pt(14)\n",
    "font_object.name = 'Times New Roman'"
   ]
  },
  {
   "cell_type": "code",
   "execution_count": 16,
   "id": "c106d021",
   "metadata": {},
   "outputs": [],
   "source": [
    "sections = document.sections\n",
    "for section in sections:\n",
    "    section.top_margin = Cm(2.5)\n",
    "    section.bottom_margin = Cm(2.5)\n",
    "    section.left_margin = Cm(2.5)\n",
    "    section.right_margin = Cm(2.5)"
   ]
  },
  {
   "cell_type": "code",
   "execution_count": 17,
   "id": "67117106",
   "metadata": {},
   "outputs": [
    {
     "data": {
      "text/plain": [
       "<docx.text.run.Run at 0x246c23ed1c0>"
      ]
     },
     "execution_count": 17,
     "metadata": {},
     "output_type": "execute_result"
    }
   ],
   "source": [
    "p1 = document.add_paragraph()\n",
    "p1Format = p1.paragraph_format\n",
    "p1Format.alignment = WD_ALIGN_PARAGRAPH.CENTER\n",
    "p1.add_run('Uniwersytet Warszawski\\nWydział Nauk Ekonomicznych\\n\\n\\n\\n\\n', style='Roman18')\n",
    "\n",
    "p2 = document.add_paragraph()\n",
    "p2Format = p2.paragraph_format\n",
    "p2Format.alignment = WD_ALIGN_PARAGRAPH.CENTER\n",
    "p2.add_run('Tomasz Guściora\\nNr albumu: 281998', style='Roman14')\n"
   ]
  },
  {
   "cell_type": "code",
   "execution_count": 18,
   "id": "b2c5e16c",
   "metadata": {},
   "outputs": [],
   "source": [
    "# Saving changes\n",
    "document.save('2400-MGR-EK-PESEL.docx')"
   ]
  }
 ],
 "metadata": {
  "kernelspec": {
   "display_name": "Python 3 (ipykernel)",
   "language": "python",
   "name": "python3"
  },
  "language_info": {
   "codemirror_mode": {
    "name": "ipython",
    "version": 3
   },
   "file_extension": ".py",
   "mimetype": "text/x-python",
   "name": "python",
   "nbconvert_exporter": "python",
   "pygments_lexer": "ipython3",
   "version": "3.9.13"
  }
 },
 "nbformat": 4,
 "nbformat_minor": 5
}
