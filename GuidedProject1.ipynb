{
 "cells": [
  {
   "cell_type": "markdown",
   "metadata": {},
   "source": [
    "# Dataquest.io Guided Project 1 - Profitable App Profiles for the App Store and Google Play Markets\n",
    "Description:\n",
    "Sources:\n",
    "https://www.kaggle.com/lava18/google-play-store-apps/home\n",
    "https://www.kaggle.com/ramamet4/app-store-apple-data-set-10k-apps/home\n",
    "Goal: finding application characteristics most likely to maximize revenue from application"
   ]
  },
  {
   "cell_type": "markdown",
   "metadata": {},
   "source": [
    "Defining explore function. Will be useful to take a look at\n",
    "source databases. "
   ]
  },
  {
   "cell_type": "code",
   "execution_count": 1,
   "metadata": {},
   "outputs": [],
   "source": [
    "import operator\n",
    "#importing operator library to sort dictionaries\n",
    "\n",
    "def explore_data(dataset, start, end, rows_and_columns=False):\n",
    "    dataset_slice = dataset[start:end]    \n",
    "    for row in dataset_slice:\n",
    "        print(row)\n",
    "        print('\\n') # adds a new (empty) line after each row\n",
    "\n",
    "    if rows_and_columns:\n",
    "        print('Number of rows:', len(dataset))\n",
    "        print('Number of columns:', len(dataset[0]))\n"
   ]
  },
  {
   "cell_type": "markdown",
   "metadata": {},
   "source": [
    "Importing source datasets and transforming them to list variables."
   ]
  },
  {
   "cell_type": "code",
   "execution_count": 2,
   "metadata": {},
   "outputs": [],
   "source": [
    "def sum_column(table, C):\n",
    "    result = sum(row[C] for row in table)\n",
    "    return result"
   ]
  },
  {
   "cell_type": "code",
   "execution_count": 3,
   "metadata": {},
   "outputs": [],
   "source": [
    "apple_open=open('AppleStore.csv',encoding=\"utf8\")\n",
    "google_open=open('googleplaystore.csv',encoding=\"utf8\")\n",
    "import csv\n",
    "apple_read=csv.reader(apple_open)\n",
    "google_read=csv.reader(google_open)\n",
    "google_list=list(google_read)\n",
    "apple_list=list(apple_read)"
   ]
  },
  {
   "cell_type": "markdown",
   "metadata": {},
   "source": [
    "Exploration of datasets using created explore_data function."
   ]
  },
  {
   "cell_type": "code",
   "execution_count": 4,
   "metadata": {},
   "outputs": [
    {
     "name": "stdout",
     "output_type": "stream",
     "text": [
      "['App', 'Category', 'Rating', 'Reviews', 'Size', 'Installs', 'Type', 'Price', 'Content Rating', 'Genres', 'Last Updated', 'Current Ver', 'Android Ver']\n",
      "\n",
      "\n",
      "['Photo Editor & Candy Camera & Grid & ScrapBook', 'ART_AND_DESIGN', '4.1', '159', '19M', '10,000+', 'Free', '0', 'Everyone', 'Art & Design', 'January 7, 2018', '1.0.0', '4.0.3 and up']\n",
      "\n",
      "\n",
      "Number of rows: 10842\n",
      "Number of columns: 13\n"
     ]
    }
   ],
   "source": [
    "explore_data(google_list,0,2,True)"
   ]
  },
  {
   "cell_type": "markdown",
   "metadata": {},
   "source": [
    "Google Store application dataset offes below structure:\n",
    "\n",
    "| Variable       | Explanation                             | \n",
    "| -------------- | --------------------------------------- |\n",
    "| App            | unique identifier.Variable name. String |\n",
    "| Category       | type of app. String                     |\n",
    "| Rating         | App rating. Float from 0 to 10          |\n",
    "| Reviews        | Number of reviews. Integer              |\n",
    "| Size           | Size in Megabytes. String               |\n",
    "| Installs       | Number of installs range. String.       |\n",
    "| Type           | 'Free' or 'Paid'. String                |\n",
    "| Price          | Price in dollars. 0 for free apps.      |\n",
    "| Content Rating | Age limit to use app. String            |\n",
    "| Genres         | Genre of app. String                    |\n",
    "| Last updated   | Date of last update. String             |\n",
    "| Current Ver    | current version. String                 |\n",
    "| Android Ver    | Min Android ver to use this app. String | \n"
   ]
  },
  {
   "cell_type": "code",
   "execution_count": 5,
   "metadata": {},
   "outputs": [
    {
     "name": "stdout",
     "output_type": "stream",
     "text": [
      "['id', 'track_name', 'size_bytes', 'currency', 'price', 'rating_count_tot', 'rating_count_ver', 'user_rating', 'user_rating_ver', 'ver', 'cont_rating', 'prime_genre', 'sup_devices.num', 'ipadSc_urls.num', 'lang.num', 'vpp_lic']\n",
      "\n",
      "\n",
      "['284882215', 'Facebook', '389879808', 'USD', '0.0', '2974676', '212', '3.5', '3.5', '95.0', '4+', 'Social Networking', '37', '1', '29', '1']\n",
      "\n",
      "\n",
      "Number of rows: 7198\n",
      "Number of columns: 16\n"
     ]
    }
   ],
   "source": [
    "explore_data(apple_list,0,2,True)"
   ]
  },
  {
   "cell_type": "markdown",
   "metadata": {},
   "source": [
    "Apple Store application dataset offes below structure:\n",
    "\n",
    "| Variable         | Explanation                             | \n",
    "| ---------------  | --------------------------------------- |\n",
    "| id               | unique application number. Key. Integer |\n",
    "| track_name       | name of application. String             |\n",
    "| size_bytes       | size of app in bytes. Integer           |\n",
    "| currency         | currency of app price. String           |\n",
    "| price            | price of app. 0 for free apps. Float.   |\n",
    "| rating_count_tot | total number of ratings. Integer        |\n",
    "| rating_count_ver | aaa                                     |\n",
    "| user_rating      | Rating of users. Float from 0 to 10.    |\n",
    "| user_rating_ver  | aaa                                     |\n",
    "| ver              | application version. Float.             |\n",
    "| cont_rating      | Content Rating on 5 star scale. String  |\n",
    "| prime_genre      | App Genre. String                       |\n",
    "| sup_devices.num  | number of supported devices. Integer    |\n",
    "| ipadSc_urls.num  | aaa                                     |\n",
    "| lang.num         | number of supported languages. Integer  |\n",
    "| vpp_lic          | aaa                                     |"
   ]
  },
  {
   "cell_type": "markdown",
   "metadata": {},
   "source": [
    "II Data cleansing\n",
    "a) Preparing function to detect outliers and incorrect values."
   ]
  },
  {
   "cell_type": "code",
   "execution_count": 6,
   "metadata": {},
   "outputs": [],
   "source": [
    "#Dataset - name of dataset\n",
    "#variable - case-sensitive name of variable in dataset\n",
    "def variable_desc(dataset,variable):\n",
    "    header=dataset[0]\n",
    "    index_temp=int(header.index(variable))\n",
    "    dict_temp={}\n",
    "    for temp in dataset[1:]:\n",
    "        b=str(temp[index_temp])\n",
    "        if b in dict_temp:\n",
    "            dict_temp[b] += 1\n",
    "        else:\n",
    "            dict_temp[b] = 1\n",
    "\n",
    "    sorted_dict = list(sorted(dict_temp.items(), key=operator.itemgetter(1), reverse=True))\n",
    "    print('Variable analysed: ' + variable)\n",
    "    print('Number of distinct values:', len(sorted_dict))\n",
    "    for row in sorted_dict:\n",
    "        print(row)"
   ]
  },
  {
   "cell_type": "code",
   "execution_count": 7,
   "metadata": {
    "scrolled": true
   },
   "outputs": [
    {
     "name": "stdout",
     "output_type": "stream",
     "text": [
      "Variable analysed: Category\n",
      "Number of distinct values: 34\n",
      "('FAMILY', 1972)\n",
      "('GAME', 1144)\n",
      "('TOOLS', 843)\n",
      "('MEDICAL', 463)\n",
      "('BUSINESS', 460)\n",
      "('PRODUCTIVITY', 424)\n",
      "('PERSONALIZATION', 392)\n",
      "('COMMUNICATION', 387)\n",
      "('SPORTS', 384)\n",
      "('LIFESTYLE', 382)\n",
      "('FINANCE', 366)\n",
      "('HEALTH_AND_FITNESS', 341)\n",
      "('PHOTOGRAPHY', 335)\n",
      "('SOCIAL', 295)\n",
      "('NEWS_AND_MAGAZINES', 283)\n",
      "('SHOPPING', 260)\n",
      "('TRAVEL_AND_LOCAL', 258)\n",
      "('DATING', 234)\n",
      "('BOOKS_AND_REFERENCE', 231)\n",
      "('VIDEO_PLAYERS', 175)\n",
      "('EDUCATION', 156)\n",
      "('ENTERTAINMENT', 149)\n",
      "('MAPS_AND_NAVIGATION', 137)\n",
      "('FOOD_AND_DRINK', 127)\n",
      "('HOUSE_AND_HOME', 88)\n",
      "('AUTO_AND_VEHICLES', 85)\n",
      "('LIBRARIES_AND_DEMO', 85)\n",
      "('WEATHER', 82)\n",
      "('ART_AND_DESIGN', 65)\n",
      "('EVENTS', 64)\n",
      "('COMICS', 60)\n",
      "('PARENTING', 60)\n",
      "('BEAUTY', 53)\n",
      "('1.9', 1)\n"
     ]
    }
   ],
   "source": [
    "variable_desc(google_list,'Category')"
   ]
  },
  {
   "cell_type": "markdown",
   "metadata": {
    "collapsed": true
   },
   "source": [
    "b) Function to find duplicates among primary key"
   ]
  },
  {
   "cell_type": "code",
   "execution_count": 8,
   "metadata": {},
   "outputs": [
    {
     "name": "stdout",
     "output_type": "stream",
     "text": [
      "['Life Made WI-Fi Touchscreen Photo Frame', '1.9', '19', '3.0M', '1,000+', 'Free', '0', 'Everyone', '', 'February 11, 2018', '1.0.19', '4.0 and up']\n",
      "['osmino Wi-Fi: free WiFi', 'TOOLS', '4.2', '134203', '4.1M', '10,000,000+', 'Free', '0', 'Everyone', 'Tools', 'August 7, 2018', '6.06.14', '4.4 and up']\n"
     ]
    }
   ],
   "source": [
    "print(google_list[10473])\n",
    "del google_list[10473]\n",
    "print(google_list[10473])"
   ]
  },
  {
   "cell_type": "code",
   "execution_count": 9,
   "metadata": {},
   "outputs": [],
   "source": [
    "#Dataset - name of dataset\n",
    "#variable - case-sensitive name of primary key variable in dataset\n",
    "#output dataset - clean list based on primary key\n",
    "#max_var - variable that we will use to deduplicate (we will take\n",
    "# only max values)\n",
    "\n",
    "def duplicates(dataset,primary_key,max_var):\n",
    "    print('Length of input dataset - ' + str(len(dataset)))\n",
    "    header=dataset[0]\n",
    "    index_temp=int(header.index(primary_key))\n",
    "    print('Index of primary key - ' + primary_key + ' : ' + str(index_temp))\n",
    "    index_max=int(header.index(max_var))\n",
    "    print('Index of variable used for deduplication - ' + max_var + ' : ' + str(index_max))\n",
    "    dict_temp={}  \n",
    "    clean_list=[]\n",
    "    clean_list.append(header)\n",
    "    for temp in dataset[1:]:   \n",
    "        b=str(temp[index_temp])\n",
    "        c=float(temp[index_max])\n",
    "        if b in dict_temp and dict_temp[b] < c:\n",
    "            dict_temp[b] = c\n",
    "        if b not in dict_temp:\n",
    "            dict_temp[b] = c\n",
    "    print('Length of dictionary: ' + str(len(dict_temp)))\n",
    "    deduped_list=[]\n",
    "    already_added=[]\n",
    "    deduped_list.append(header)\n",
    "    for tempo in dataset[1:]:\n",
    "        name=str(tempo[index_temp])\n",
    "        d=float(tempo[index_max])\n",
    "        if name not in already_added and d==dict_temp[name]:\n",
    "            deduped_list.append(tempo)\n",
    "            already_added.append(name)\n",
    "    print('Length of deduplicated end-dataset: ' + str(len(deduped_list)))\n",
    "    return deduped_list\n",
    "    "
   ]
  },
  {
   "cell_type": "code",
   "execution_count": 10,
   "metadata": {},
   "outputs": [
    {
     "name": "stdout",
     "output_type": "stream",
     "text": [
      "Length of input dataset - 10841\n",
      "Index of primary key - App : 0\n",
      "Index of variable used for deduplication - Reviews : 3\n",
      "Length of dictionary: 9659\n",
      "Length of deduplicated end-dataset: 9660\n"
     ]
    }
   ],
   "source": [
    "google_dedup=duplicates(google_list,'App','Reviews')"
   ]
  },
  {
   "cell_type": "code",
   "execution_count": 11,
   "metadata": {
    "scrolled": false
   },
   "outputs": [
    {
     "name": "stdout",
     "output_type": "stream",
     "text": [
      "['Microsoft Outlook', 'PRODUCTIVITY', '4.3', '3252896', '50M', '100,000,000+', 'Free', '0', 'Everyone', 'Productivity', 'August 2, 2018', '2.2.194', '4.4 and up']\n",
      "['Microsoft Outlook', 'PRODUCTIVITY', '4.3', '3249518', '50M', '100,000,000+', 'Free', '0', 'Everyone', 'Productivity', 'August 2, 2018', '2.2.194', '4.4 and up']\n"
     ]
    }
   ],
   "source": [
    "#Source dataset\n",
    "for a in google_list:\n",
    "    if a[0]=='Microsoft Outlook':\n",
    "        print(a)"
   ]
  },
  {
   "cell_type": "code",
   "execution_count": 12,
   "metadata": {},
   "outputs": [
    {
     "name": "stdout",
     "output_type": "stream",
     "text": [
      "['Microsoft Outlook', 'PRODUCTIVITY', '4.3', '3252896', '50M', '100,000,000+', 'Free', '0', 'Everyone', 'Productivity', 'August 2, 2018', '2.2.194', '4.4 and up']\n"
     ]
    }
   ],
   "source": [
    "#Dataset cleaned from app name duplicates\n",
    "for a in google_dedup:\n",
    "    if a[0]=='Microsoft Outlook':\n",
    "        print(a)"
   ]
  },
  {
   "cell_type": "code",
   "execution_count": 13,
   "metadata": {},
   "outputs": [
    {
     "name": "stdout",
     "output_type": "stream",
     "text": [
      "Length of input dataset - 7198\n",
      "Index of primary key - id : 0\n",
      "Index of variable used for deduplication - rating_count_tot : 5\n",
      "Length of dictionary: 7197\n",
      "Length of deduplicated end-dataset: 7198\n"
     ]
    }
   ],
   "source": [
    "apple_dedup=duplicates(apple_list,'id','rating_count_tot')\n",
    "#No duplicates in apple_list dataset"
   ]
  },
  {
   "cell_type": "code",
   "execution_count": 14,
   "metadata": {},
   "outputs": [],
   "source": [
    "#Noneng - function returning list of english names from list potentially containing non-english names\n",
    "#Recognition of non-english name - more than 3 non-ASCII characters \n",
    "#Dataset - name of dataset\n",
    "#primary_key - case-sensitive name name containing non-english entries\n",
    "#prnt - if prnt=1 then function prints all non-eng app names\n",
    "def noneng(dataset,primary_key,prnt=0):\n",
    "    print('Records in input dataset - ' + str(len(dataset)))\n",
    "    header=dataset[0]\n",
    "    index_temp=int(header.index(primary_key))\n",
    "    print('Index of primary key - ' + primary_key + ' : ' + str(index_temp))\n",
    "    list_noneng=[]\n",
    "    clean_list=[]\n",
    "    clean_list.append(header)\n",
    "    for a in dataset[1:]:\n",
    "        b=str(a[index_temp])\n",
    "        c=0    \n",
    "        for character in b:\n",
    "            if ord(character)>127 and b not in list_noneng:\n",
    "                c += 1\n",
    "                if c>3 and b not in list_noneng:\n",
    "                    list_noneng.append(b)\n",
    "        if b not in list_noneng:\n",
    "            clean_list.append(a)\n",
    "    print('Number of records in english-app end-dataset: ' + str(len(clean_list)))\n",
    "    if prnt==1:\n",
    "        print('List of non-english apps')\n",
    "        print(str(list_noneng))\n",
    "    return clean_list         "
   ]
  },
  {
   "cell_type": "code",
   "execution_count": 15,
   "metadata": {},
   "outputs": [
    {
     "name": "stdout",
     "output_type": "stream",
     "text": [
      "Records in input dataset - 9660\n",
      "Index of primary key - App : 0\n",
      "Number of records in english-app end-dataset: 9615\n",
      "List of non-english apps\n",
      "['Flame - درب عقلك يوميا', 'သိင်္ Astrology - Min Thein Kha BayDin', 'РИА Новости', 'صور حرف H', 'L.POINT - 엘포인트 [ 포인트, 멤버십, 적립, 사용, 모바일 카드, 쿠폰, 롯데]', 'RMEduS - 음성인식을 활용한 R 프로그래밍 실습 시스템', 'AJ렌터카 법인 카셰어링', 'Al Quran Free - القرآن (Islam)', '中国語 AQリスニング', '日本AV历史', 'Ay Yıldız Duvar Kağıtları', 'বাংলা টিভি প্রো BD Bangla TV', 'Cъновник BG', 'CSCS BG (в български)', '뽕티비 - 개인방송, 인터넷방송, BJ방송', 'BL 女性向け恋愛ゲーム◆俺プリクロス', 'SecondSecret ‐「恋を読む」BLノベルゲーム‐', 'BL 女性向け恋愛ゲーム◆ごくメン', 'あなカレ【BL】無料ゲーム', '감성학원 BL 첫사랑', 'BQ-መጽሐፍ ቅዱሳዊ ጥያቄዎች', 'BS Calendar / Patro / पात्रो', 'Vip视频免费看-BT磁力搜索', 'Билеты ПДД CD 2019 PRO', 'Offline Jízdní řády CG Transit', 'Bonjour 2017 Abidjan CI ❤❤❤❤❤', 'CK 初一 十五', 'الفاتحون Conquerors', 'DG ग्राम / Digital Gram Panchayat', 'DM הפקות', 'DW فارسی By dw-arab.com', 'لعبة تقدر تربح DZ', 'বাংলাflix', 'RPG ブレイジング ソウルズ アクセレイト', '英漢字典 EC Dictionary', 'ECナビ×シュフー', 'أحداث وحقائق | خبر عاجل في اخبار العالم', 'EG SIM CARD (EGSIMCARD, 이지심카드)', 'パーリーゲイツ公式通販｜EJ STYLE（イージェイスタイル）', 'FAHREDDİN er-RÂZİ TEFSİRİ', \"I'm Rich/Eu sou Rico/أنا غني/我很有錢\", 'AÖF Ev İdaresi 1. Sınıf', 'Ey Sey Storytime រឿងនិទានតាឥសី', '哈哈姆特不EY', 'FP Разбитый дисплей']\n"
     ]
    }
   ],
   "source": [
    "google_noneng=noneng(google_dedup,'App',1)"
   ]
  },
  {
   "cell_type": "code",
   "execution_count": 16,
   "metadata": {},
   "outputs": [
    {
     "name": "stdout",
     "output_type": "stream",
     "text": [
      "Records in input dataset - 7198\n",
      "Index of primary key - track_name : 1\n",
      "Number of records in english-app end-dataset: 6184\n"
     ]
    }
   ],
   "source": [
    "apple_noneng=noneng(apple_dedup,'track_name')"
   ]
  },
  {
   "cell_type": "code",
   "execution_count": 17,
   "metadata": {},
   "outputs": [
    {
     "name": "stdout",
     "output_type": "stream",
     "text": [
      "Variable analysed: Price\n",
      "Number of distinct values: 92\n",
      "('0', 8864)\n",
      "('$0.99', 145)\n",
      "('$2.99', 124)\n",
      "('$1.99', 73)\n",
      "('$4.99', 70)\n",
      "('$3.99', 56)\n",
      "('$1.49', 45)\n",
      "('$5.99', 26)\n",
      "('$2.49', 25)\n",
      "('$9.99', 19)\n",
      "('$399.99', 11)\n",
      "('$6.99', 10)\n",
      "('$14.99', 9)\n",
      "('$4.49', 9)\n",
      "('$7.99', 7)\n",
      "('$3.49', 7)\n",
      "('$5.49', 5)\n",
      "('$29.99', 5)\n",
      "('$19.99', 5)\n",
      "('$8.99', 5)\n",
      "('$6.49', 5)\n",
      "('$11.99', 3)\n",
      "('$1.00', 3)\n",
      "('$24.99', 3)\n",
      "('$2.00', 3)\n",
      "('$12.99', 3)\n",
      "('$7.49', 2)\n",
      "('$10.00', 2)\n",
      "('$16.99', 2)\n",
      "('$39.99', 2)\n",
      "('$1.70', 2)\n",
      "('$17.99', 2)\n",
      "('$13.99', 2)\n",
      "('$8.49', 2)\n",
      "('$9.00', 1)\n",
      "('$79.99', 1)\n",
      "('$10.99', 1)\n",
      "('$1.50', 1)\n",
      "('$15.99', 1)\n",
      "('$33.99', 1)\n",
      "('$74.99', 1)\n",
      "('$3.95', 1)\n",
      "('$3.88', 1)\n",
      "('$25.99', 1)\n",
      "('$400.00', 1)\n",
      "('$3.02', 1)\n",
      "('$1.76', 1)\n",
      "('$4.84', 1)\n",
      "('$4.77', 1)\n",
      "('$1.61', 1)\n",
      "('$2.50', 1)\n",
      "('$1.59', 1)\n",
      "('$1.29', 1)\n",
      "('$5.00', 1)\n",
      "('$299.99', 1)\n",
      "('$379.99', 1)\n",
      "('$37.99', 1)\n",
      "('$18.99', 1)\n",
      "('$389.99', 1)\n",
      "('$19.90', 1)\n",
      "('$1.75', 1)\n",
      "('$14.00', 1)\n",
      "('$4.85', 1)\n",
      "('$46.99', 1)\n",
      "('$109.99', 1)\n",
      "('$154.99', 1)\n",
      "('$3.08', 1)\n",
      "('$2.59', 1)\n",
      "('$4.80', 1)\n",
      "('$1.96', 1)\n",
      "('$19.40', 1)\n",
      "('$3.90', 1)\n",
      "('$4.59', 1)\n",
      "('$15.46', 1)\n",
      "('$3.04', 1)\n",
      "('$4.29', 1)\n",
      "('$2.60', 1)\n",
      "('$3.28', 1)\n",
      "('$4.60', 1)\n",
      "('$28.99', 1)\n",
      "('$2.95', 1)\n",
      "('$2.90', 1)\n",
      "('$1.97', 1)\n",
      "('$200.00', 1)\n",
      "('$89.99', 1)\n",
      "('$2.56', 1)\n",
      "('$30.99', 1)\n",
      "('$3.61', 1)\n",
      "('$394.99', 1)\n",
      "('$1.26', 1)\n",
      "('$1.20', 1)\n",
      "('$1.04', 1)\n"
     ]
    }
   ],
   "source": [
    "variable_desc(google_noneng,'Price')"
   ]
  },
  {
   "cell_type": "code",
   "execution_count": 18,
   "metadata": {},
   "outputs": [
    {
     "name": "stdout",
     "output_type": "stream",
     "text": [
      "Variable analysed: price\n",
      "Number of distinct values: 34\n",
      "('0.0', 3222)\n",
      "('2.99', 669)\n",
      "('0.99', 641)\n",
      "('1.99', 610)\n",
      "('4.99', 375)\n",
      "('3.99', 266)\n",
      "('6.99', 165)\n",
      "('9.99', 76)\n",
      "('5.99', 43)\n",
      "('7.99', 30)\n",
      "('14.99', 15)\n",
      "('19.99', 13)\n",
      "('8.99', 8)\n",
      "('24.99', 8)\n",
      "('13.99', 6)\n",
      "('29.99', 6)\n",
      "('15.99', 4)\n",
      "('17.99', 3)\n",
      "('11.99', 3)\n",
      "('59.99', 3)\n",
      "('39.99', 2)\n",
      "('16.99', 2)\n",
      "('49.99', 2)\n",
      "('20.99', 1)\n",
      "('12.99', 1)\n",
      "('74.99', 1)\n",
      "('249.99', 1)\n",
      "('27.99', 1)\n",
      "('22.99', 1)\n",
      "('18.99', 1)\n",
      "('99.99', 1)\n",
      "('21.99', 1)\n",
      "('34.99', 1)\n",
      "('299.99', 1)\n"
     ]
    }
   ],
   "source": [
    "variable_desc(apple_noneng,'price')"
   ]
  },
  {
   "cell_type": "code",
   "execution_count": 19,
   "metadata": {},
   "outputs": [],
   "source": [
    "#free - function returning free applications from a super-set of paid and free applications\n",
    "#Recognition of non-english name - more than 3 non-ASCII characters \n",
    "#Dataset - name of dataset\n",
    "#primary_key - case-sensitive name name containing non-english entries\n",
    "#prnt - if prnt=1 then function prints all non-eng app names\n",
    "def free(dataset,primary_key):\n",
    "    print('Records in input dataset - ' + str(len(dataset)))\n",
    "    header=dataset[0]\n",
    "    index_temp=int(header.index(primary_key))\n",
    "    print('Index of primary key - ' + primary_key + ' : ' + str(index_temp))\n",
    "    paid_apps=[]\n",
    "    free_apps=[]\n",
    "    free_apps.append(header)\n",
    "    for a in dataset[1:]:\n",
    "        b=str(a[index_temp])  \n",
    "        if b != '0' and b != '0.0':\n",
    "            paid_apps.append(b)\n",
    "        else:\n",
    "            free_apps.append(a)\n",
    "    print('Number of records in free app end-dataset: ' + str(len(free_apps)))\n",
    "    return free_apps    "
   ]
  },
  {
   "cell_type": "code",
   "execution_count": 20,
   "metadata": {},
   "outputs": [
    {
     "name": "stdout",
     "output_type": "stream",
     "text": [
      "Records in input dataset - 9615\n",
      "Index of primary key - Price : 7\n",
      "Number of records in free app end-dataset: 8865\n"
     ]
    }
   ],
   "source": [
    "free_google=free(google_noneng,'Price')"
   ]
  },
  {
   "cell_type": "code",
   "execution_count": 21,
   "metadata": {},
   "outputs": [
    {
     "name": "stdout",
     "output_type": "stream",
     "text": [
      "Records in input dataset - 6184\n",
      "Index of primary key - price : 4\n",
      "Number of records in free app end-dataset: 3223\n"
     ]
    }
   ],
   "source": [
    "free_apple=free(apple_noneng,'price')"
   ]
  },
  {
   "cell_type": "markdown",
   "metadata": {
    "collapsed": true
   },
   "source": [
    "#Build a minimal Android version of the app, and add it to Google Play.\n",
    "If the app has a good response from users, we then develop it further.\n",
    "If the app is profitable after six months, we also build an iOS version of the app and add it to the App Store.\n",
    "Variables we are going to inspect:\n",
    "\n",
    "*Google dataset\n",
    "*Rating\n",
    "*Size\n",
    "*Content Rating\n",
    "*Genre"
   ]
  },
  {
   "cell_type": "code",
   "execution_count": 22,
   "metadata": {},
   "outputs": [],
   "source": [
    "#Dataset - name of dataset\n",
    "#variable - case-sensitive name of variable in dataset\n",
    "def freq(dataset,variable):\n",
    "    header=dataset[0]\n",
    "    index_temp=int(header.index(variable))\n",
    "    dict_temp={}\n",
    "    for temp in dataset[1:]:\n",
    "        b=str(temp[index_temp])\n",
    "        if b in dict_temp:\n",
    "            dict_temp[b] += 1\n",
    "        else:\n",
    "            dict_temp[b] = 1\n",
    "\n",
    "    sorted_dict = list(sorted(dict_temp.items(), key=operator.itemgetter(1), reverse=True))\n",
    "    total=sum_column(sorted_dict,1)  \n",
    "    print('Variable analysed: ' + variable)\n",
    "    print('Number of distinct values:', len(sorted_dict))\n",
    "    print('Total observations: ', total)\n",
    "    for row in sorted_dict:\n",
    "        print(row, \", Fraction of total:\", round(row[1]/total*100,1),'%')"
   ]
  },
  {
   "cell_type": "code",
   "execution_count": 23,
   "metadata": {},
   "outputs": [
    {
     "name": "stdout",
     "output_type": "stream",
     "text": [
      "Variable analysed: prime_genre\n",
      "Number of distinct values: 23\n",
      "Total observations:  3222\n",
      "('Games', 1874) , Fraction of total: 58.2 %\n",
      "('Entertainment', 254) , Fraction of total: 7.9 %\n",
      "('Photo & Video', 160) , Fraction of total: 5.0 %\n",
      "('Education', 118) , Fraction of total: 3.7 %\n",
      "('Social Networking', 106) , Fraction of total: 3.3 %\n",
      "('Shopping', 84) , Fraction of total: 2.6 %\n",
      "('Utilities', 81) , Fraction of total: 2.5 %\n",
      "('Sports', 69) , Fraction of total: 2.1 %\n",
      "('Music', 66) , Fraction of total: 2.0 %\n",
      "('Health & Fitness', 65) , Fraction of total: 2.0 %\n",
      "('Productivity', 56) , Fraction of total: 1.7 %\n",
      "('Lifestyle', 51) , Fraction of total: 1.6 %\n",
      "('News', 43) , Fraction of total: 1.3 %\n",
      "('Travel', 40) , Fraction of total: 1.2 %\n",
      "('Finance', 36) , Fraction of total: 1.1 %\n",
      "('Weather', 28) , Fraction of total: 0.9 %\n",
      "('Food & Drink', 26) , Fraction of total: 0.8 %\n",
      "('Reference', 18) , Fraction of total: 0.6 %\n",
      "('Business', 17) , Fraction of total: 0.5 %\n",
      "('Book', 14) , Fraction of total: 0.4 %\n",
      "('Navigation', 6) , Fraction of total: 0.2 %\n",
      "('Medical', 6) , Fraction of total: 0.2 %\n",
      "('Catalogs', 4) , Fraction of total: 0.1 %\n"
     ]
    }
   ],
   "source": [
    "freq(free_apple,'prime_genre')"
   ]
  },
  {
   "cell_type": "code",
   "execution_count": 24,
   "metadata": {},
   "outputs": [
    {
     "name": "stdout",
     "output_type": "stream",
     "text": [
      "Variable analysed: Category\n",
      "Number of distinct values: 33\n",
      "Total observations:  8864\n",
      "('FAMILY', 1676) , Fraction of total: 18.9 %\n",
      "('GAME', 862) , Fraction of total: 9.7 %\n",
      "('TOOLS', 750) , Fraction of total: 8.5 %\n",
      "('BUSINESS', 407) , Fraction of total: 4.6 %\n",
      "('LIFESTYLE', 346) , Fraction of total: 3.9 %\n",
      "('PRODUCTIVITY', 345) , Fraction of total: 3.9 %\n",
      "('FINANCE', 328) , Fraction of total: 3.7 %\n",
      "('MEDICAL', 313) , Fraction of total: 3.5 %\n",
      "('SPORTS', 301) , Fraction of total: 3.4 %\n",
      "('PERSONALIZATION', 294) , Fraction of total: 3.3 %\n",
      "('COMMUNICATION', 287) , Fraction of total: 3.2 %\n",
      "('HEALTH_AND_FITNESS', 273) , Fraction of total: 3.1 %\n",
      "('PHOTOGRAPHY', 261) , Fraction of total: 2.9 %\n",
      "('NEWS_AND_MAGAZINES', 248) , Fraction of total: 2.8 %\n",
      "('SOCIAL', 236) , Fraction of total: 2.7 %\n",
      "('TRAVEL_AND_LOCAL', 207) , Fraction of total: 2.3 %\n",
      "('SHOPPING', 199) , Fraction of total: 2.2 %\n",
      "('BOOKS_AND_REFERENCE', 190) , Fraction of total: 2.1 %\n",
      "('DATING', 165) , Fraction of total: 1.9 %\n",
      "('VIDEO_PLAYERS', 159) , Fraction of total: 1.8 %\n",
      "('MAPS_AND_NAVIGATION', 124) , Fraction of total: 1.4 %\n",
      "('FOOD_AND_DRINK', 110) , Fraction of total: 1.2 %\n",
      "('EDUCATION', 103) , Fraction of total: 1.2 %\n",
      "('ENTERTAINMENT', 85) , Fraction of total: 1.0 %\n",
      "('LIBRARIES_AND_DEMO', 83) , Fraction of total: 0.9 %\n",
      "('AUTO_AND_VEHICLES', 82) , Fraction of total: 0.9 %\n",
      "('HOUSE_AND_HOME', 73) , Fraction of total: 0.8 %\n",
      "('WEATHER', 71) , Fraction of total: 0.8 %\n",
      "('EVENTS', 63) , Fraction of total: 0.7 %\n",
      "('PARENTING', 58) , Fraction of total: 0.7 %\n",
      "('ART_AND_DESIGN', 57) , Fraction of total: 0.6 %\n",
      "('COMICS', 55) , Fraction of total: 0.6 %\n",
      "('BEAUTY', 53) , Fraction of total: 0.6 %\n"
     ]
    }
   ],
   "source": [
    "freq(free_google,'Category')"
   ]
  },
  {
   "cell_type": "code",
   "execution_count": 25,
   "metadata": {},
   "outputs": [
    {
     "name": "stdout",
     "output_type": "stream",
     "text": [
      "Variable analysed: Genres\n",
      "Number of distinct values: 114\n",
      "Total observations:  8864\n",
      "('Tools', 749) , Fraction of total: 8.4 %\n",
      "('Entertainment', 538) , Fraction of total: 6.1 %\n",
      "('Education', 474) , Fraction of total: 5.3 %\n",
      "('Business', 407) , Fraction of total: 4.6 %\n",
      "('Lifestyle', 345) , Fraction of total: 3.9 %\n",
      "('Productivity', 345) , Fraction of total: 3.9 %\n",
      "('Finance', 328) , Fraction of total: 3.7 %\n",
      "('Medical', 313) , Fraction of total: 3.5 %\n",
      "('Sports', 307) , Fraction of total: 3.5 %\n",
      "('Personalization', 294) , Fraction of total: 3.3 %\n",
      "('Communication', 287) , Fraction of total: 3.2 %\n",
      "('Action', 275) , Fraction of total: 3.1 %\n",
      "('Health & Fitness', 273) , Fraction of total: 3.1 %\n",
      "('Photography', 261) , Fraction of total: 2.9 %\n",
      "('News & Magazines', 248) , Fraction of total: 2.8 %\n",
      "('Social', 236) , Fraction of total: 2.7 %\n",
      "('Travel & Local', 206) , Fraction of total: 2.3 %\n",
      "('Shopping', 199) , Fraction of total: 2.2 %\n",
      "('Books & Reference', 190) , Fraction of total: 2.1 %\n",
      "('Simulation', 181) , Fraction of total: 2.0 %\n",
      "('Dating', 165) , Fraction of total: 1.9 %\n",
      "('Arcade', 164) , Fraction of total: 1.9 %\n",
      "('Video Players & Editors', 157) , Fraction of total: 1.8 %\n",
      "('Casual', 156) , Fraction of total: 1.8 %\n",
      "('Maps & Navigation', 124) , Fraction of total: 1.4 %\n",
      "('Food & Drink', 110) , Fraction of total: 1.2 %\n",
      "('Puzzle', 100) , Fraction of total: 1.1 %\n",
      "('Racing', 88) , Fraction of total: 1.0 %\n",
      "('Libraries & Demo', 83) , Fraction of total: 0.9 %\n",
      "('Role Playing', 83) , Fraction of total: 0.9 %\n",
      "('Auto & Vehicles', 82) , Fraction of total: 0.9 %\n",
      "('Strategy', 81) , Fraction of total: 0.9 %\n",
      "('House & Home', 73) , Fraction of total: 0.8 %\n",
      "('Weather', 71) , Fraction of total: 0.8 %\n",
      "('Events', 63) , Fraction of total: 0.7 %\n",
      "('Adventure', 60) , Fraction of total: 0.7 %\n",
      "('Comics', 54) , Fraction of total: 0.6 %\n",
      "('Art & Design', 53) , Fraction of total: 0.6 %\n",
      "('Beauty', 53) , Fraction of total: 0.6 %\n",
      "('Parenting', 44) , Fraction of total: 0.5 %\n",
      "('Card', 40) , Fraction of total: 0.5 %\n",
      "('Casino', 38) , Fraction of total: 0.4 %\n",
      "('Trivia', 37) , Fraction of total: 0.4 %\n",
      "('Educational;Education', 35) , Fraction of total: 0.4 %\n",
      "('Board', 34) , Fraction of total: 0.4 %\n",
      "('Educational', 33) , Fraction of total: 0.4 %\n",
      "('Education;Education', 30) , Fraction of total: 0.3 %\n",
      "('Word', 23) , Fraction of total: 0.3 %\n",
      "('Casual;Pretend Play', 21) , Fraction of total: 0.2 %\n",
      "('Music', 18) , Fraction of total: 0.2 %\n",
      "('Entertainment;Music & Video', 15) , Fraction of total: 0.2 %\n",
      "('Puzzle;Brain Games', 15) , Fraction of total: 0.2 %\n",
      "('Racing;Action & Adventure', 15) , Fraction of total: 0.2 %\n",
      "('Casual;Brain Games', 12) , Fraction of total: 0.1 %\n",
      "('Casual;Action & Adventure', 12) , Fraction of total: 0.1 %\n",
      "('Arcade;Action & Adventure', 11) , Fraction of total: 0.1 %\n",
      "('Action;Action & Adventure', 9) , Fraction of total: 0.1 %\n",
      "('Educational;Pretend Play', 8) , Fraction of total: 0.1 %\n",
      "('Entertainment;Brain Games', 7) , Fraction of total: 0.1 %\n",
      "('Simulation;Action & Adventure', 7) , Fraction of total: 0.1 %\n",
      "('Board;Brain Games', 7) , Fraction of total: 0.1 %\n",
      "('Parenting;Education', 7) , Fraction of total: 0.1 %\n",
      "('Art & Design;Creativity', 6) , Fraction of total: 0.1 %\n",
      "('Educational;Brain Games', 6) , Fraction of total: 0.1 %\n",
      "('Casual;Creativity', 6) , Fraction of total: 0.1 %\n",
      "('Parenting;Music & Video', 6) , Fraction of total: 0.1 %\n",
      "('Education;Pretend Play', 5) , Fraction of total: 0.1 %\n",
      "('Education;Creativity', 4) , Fraction of total: 0.0 %\n",
      "('Role Playing;Pretend Play', 4) , Fraction of total: 0.0 %\n",
      "('Education;Brain Games', 3) , Fraction of total: 0.0 %\n",
      "('Entertainment;Creativity', 3) , Fraction of total: 0.0 %\n",
      "('Educational;Creativity', 3) , Fraction of total: 0.0 %\n",
      "('Adventure;Action & Adventure', 3) , Fraction of total: 0.0 %\n",
      "('Role Playing;Action & Adventure', 3) , Fraction of total: 0.0 %\n",
      "('Educational;Action & Adventure', 3) , Fraction of total: 0.0 %\n",
      "('Entertainment;Action & Adventure', 3) , Fraction of total: 0.0 %\n",
      "('Puzzle;Action & Adventure', 3) , Fraction of total: 0.0 %\n",
      "('Education;Action & Adventure', 3) , Fraction of total: 0.0 %\n",
      "('Education;Music & Video', 3) , Fraction of total: 0.0 %\n",
      "('Casual;Education', 2) , Fraction of total: 0.0 %\n",
      "('Music;Music & Video', 2) , Fraction of total: 0.0 %\n",
      "('Simulation;Pretend Play', 2) , Fraction of total: 0.0 %\n",
      "('Puzzle;Creativity', 2) , Fraction of total: 0.0 %\n",
      "('Sports;Action & Adventure', 2) , Fraction of total: 0.0 %\n",
      "('Board;Action & Adventure', 2) , Fraction of total: 0.0 %\n",
      "('Entertainment;Pretend Play', 2) , Fraction of total: 0.0 %\n",
      "('Video Players & Editors;Music & Video', 2) , Fraction of total: 0.0 %\n",
      "('Comics;Creativity', 1) , Fraction of total: 0.0 %\n",
      "('Lifestyle;Pretend Play', 1) , Fraction of total: 0.0 %\n",
      "('Art & Design;Pretend Play', 1) , Fraction of total: 0.0 %\n",
      "('Entertainment;Education', 1) , Fraction of total: 0.0 %\n",
      "('Arcade;Pretend Play', 1) , Fraction of total: 0.0 %\n",
      "('Art & Design;Action & Adventure', 1) , Fraction of total: 0.0 %\n",
      "('Strategy;Action & Adventure', 1) , Fraction of total: 0.0 %\n",
      "('Music & Audio;Music & Video', 1) , Fraction of total: 0.0 %\n",
      "('Health & Fitness;Education', 1) , Fraction of total: 0.0 %\n",
      "('Casual;Music & Video', 1) , Fraction of total: 0.0 %\n",
      "('Travel & Local;Action & Adventure', 1) , Fraction of total: 0.0 %\n",
      "('Tools;Education', 1) , Fraction of total: 0.0 %\n",
      "('Parenting;Brain Games', 1) , Fraction of total: 0.0 %\n",
      "('Video Players & Editors;Creativity', 1) , Fraction of total: 0.0 %\n",
      "('Health & Fitness;Action & Adventure', 1) , Fraction of total: 0.0 %\n",
      "('Trivia;Education', 1) , Fraction of total: 0.0 %\n",
      "('Lifestyle;Education', 1) , Fraction of total: 0.0 %\n",
      "('Card;Action & Adventure', 1) , Fraction of total: 0.0 %\n",
      "('Books & Reference;Education', 1) , Fraction of total: 0.0 %\n",
      "('Simulation;Education', 1) , Fraction of total: 0.0 %\n",
      "('Puzzle;Education', 1) , Fraction of total: 0.0 %\n",
      "('Adventure;Education', 1) , Fraction of total: 0.0 %\n",
      "('Role Playing;Brain Games', 1) , Fraction of total: 0.0 %\n",
      "('Strategy;Education', 1) , Fraction of total: 0.0 %\n",
      "('Racing;Pretend Play', 1) , Fraction of total: 0.0 %\n",
      "('Communication;Creativity', 1) , Fraction of total: 0.0 %\n",
      "('Strategy;Creativity', 1) , Fraction of total: 0.0 %\n"
     ]
    }
   ],
   "source": [
    "freq(free_google,'Genres')"
   ]
  },
  {
   "cell_type": "code",
   "execution_count": 26,
   "metadata": {},
   "outputs": [],
   "source": [
    "#searches for maximum value of variables that can be converted to float type\n",
    "def max_value(dataset,variable):\n",
    "    header=dataset[0]\n",
    "    index_temp=int(header.index(variable))\n",
    "    values_list = [float(e[index_temp]) for e in dataset[1:]]\n",
    "    result = max(values_list)\n",
    "    print('Maximum value for ' + str(variable) + ' : ' + str(result))"
   ]
  },
  {
   "cell_type": "code",
   "execution_count": 28,
   "metadata": {},
   "outputs": [
    {
     "name": "stdout",
     "output_type": "stream",
     "text": [
      "Maximum value for Reviews : 78158306.0\n"
     ]
    }
   ],
   "source": [
    "max_value(free_google,'Reviews')\n",
    "#na reviews dziala dobrze ale na skategoryzowanych nie, \n",
    "#czy mozna to lepiej zrobic"
   ]
  },
  {
   "cell_type": "code",
   "execution_count": 46,
   "metadata": {},
   "outputs": [],
   "source": [
    "#WHERE function - returns rows equal to 'where' condition\n",
    "def print_where(dataset,variable,condition):\n",
    "    header=dataset[0]\n",
    "    index_temp=int(header.index(variable))\n",
    "    for a in dataset:\n",
    "        if a[index_temp]==condition:\n",
    "            print(a)"
   ]
  },
  {
   "cell_type": "code",
   "execution_count": 48,
   "metadata": {},
   "outputs": [
    {
     "name": "stdout",
     "output_type": "stream",
     "text": [
      "['Facebook', 'SOCIAL', '4.1', '78158306', 'Varies with device', '1,000,000,000+', 'Free', '0', 'Teen', 'Social', 'August 3, 2018', 'Varies with device', 'Varies with device']\n"
     ]
    }
   ],
   "source": [
    "print_where(free_google,'Reviews','78158306')"
   ]
  },
  {
   "cell_type": "code",
   "execution_count": 50,
   "metadata": {},
   "outputs": [
    {
     "name": "stdout",
     "output_type": "stream",
     "text": [
      "Variable analysed: Installs\n",
      "Number of distinct values: 21\n",
      "Total observations:  8864\n",
      "('1,000,000+', 1394) , Fraction of total: 15.7 %\n",
      "('100,000+', 1024) , Fraction of total: 11.6 %\n",
      "('10,000,000+', 935) , Fraction of total: 10.5 %\n",
      "('10,000+', 904) , Fraction of total: 10.2 %\n",
      "('1,000+', 744) , Fraction of total: 8.4 %\n",
      "('100+', 613) , Fraction of total: 6.9 %\n",
      "('5,000,000+', 605) , Fraction of total: 6.8 %\n",
      "('500,000+', 493) , Fraction of total: 5.6 %\n",
      "('50,000+', 423) , Fraction of total: 4.8 %\n",
      "('5,000+', 400) , Fraction of total: 4.5 %\n",
      "('10+', 314) , Fraction of total: 3.5 %\n",
      "('500+', 288) , Fraction of total: 3.2 %\n",
      "('50,000,000+', 204) , Fraction of total: 2.3 %\n",
      "('100,000,000+', 189) , Fraction of total: 2.1 %\n",
      "('50+', 170) , Fraction of total: 1.9 %\n",
      "('5+', 70) , Fraction of total: 0.8 %\n",
      "('1+', 45) , Fraction of total: 0.5 %\n",
      "('500,000,000+', 24) , Fraction of total: 0.3 %\n",
      "('1,000,000,000+', 20) , Fraction of total: 0.2 %\n",
      "('0+', 4) , Fraction of total: 0.0 %\n",
      "('0', 1) , Fraction of total: 0.0 %\n"
     ]
    }
   ],
   "source": [
    "freq(free_google,'Installs')"
   ]
  },
  {
   "cell_type": "code",
   "execution_count": 51,
   "metadata": {},
   "outputs": [
    {
     "name": "stdout",
     "output_type": "stream",
     "text": [
      "['Google Play Books', 'BOOKS_AND_REFERENCE', '3.9', '1433233', 'Varies with device', '1,000,000,000+', 'Free', '0', 'Teen', 'Books & Reference', 'August 3, 2018', 'Varies with device', 'Varies with device']\n",
      "['WhatsApp Messenger', 'COMMUNICATION', '4.4', '69119316', 'Varies with device', '1,000,000,000+', 'Free', '0', 'Everyone', 'Communication', 'August 3, 2018', 'Varies with device', 'Varies with device']\n",
      "['Messenger – Text and Video Chat for Free', 'COMMUNICATION', '4.0', '56646578', 'Varies with device', '1,000,000,000+', 'Free', '0', 'Everyone', 'Communication', 'August 1, 2018', 'Varies with device', 'Varies with device']\n",
      "['Skype - free IM & video calls', 'COMMUNICATION', '4.1', '10484169', 'Varies with device', '1,000,000,000+', 'Free', '0', 'Everyone', 'Communication', 'August 3, 2018', 'Varies with device', 'Varies with device']\n",
      "['Google Chrome: Fast & Secure', 'COMMUNICATION', '4.3', '9643041', 'Varies with device', '1,000,000,000+', 'Free', '0', 'Everyone', 'Communication', 'August 1, 2018', 'Varies with device', 'Varies with device']\n",
      "['Gmail', 'COMMUNICATION', '4.3', '4604483', 'Varies with device', '1,000,000,000+', 'Free', '0', 'Everyone', 'Communication', 'August 2, 2018', 'Varies with device', 'Varies with device']\n",
      "['Hangouts', 'COMMUNICATION', '4.0', '3419513', 'Varies with device', '1,000,000,000+', 'Free', '0', 'Everyone', 'Communication', 'July 21, 2018', 'Varies with device', 'Varies with device']\n",
      "['Subway Surfers', 'GAME', '4.5', '27725352', '76M', '1,000,000,000+', 'Free', '0', 'Everyone 10+', 'Arcade', 'July 12, 2018', '1.90.0', '4.1 and up']\n",
      "['Facebook', 'SOCIAL', '4.1', '78158306', 'Varies with device', '1,000,000,000+', 'Free', '0', 'Teen', 'Social', 'August 3, 2018', 'Varies with device', 'Varies with device']\n",
      "['Google+', 'SOCIAL', '4.2', '4831125', 'Varies with device', '1,000,000,000+', 'Free', '0', 'Teen', 'Social', 'July 26, 2018', 'Varies with device', 'Varies with device']\n",
      "['Instagram', 'SOCIAL', '4.5', '66577446', 'Varies with device', '1,000,000,000+', 'Free', '0', 'Teen', 'Social', 'July 31, 2018', 'Varies with device', 'Varies with device']\n",
      "['Google Photos', 'PHOTOGRAPHY', '4.5', '10859051', 'Varies with device', '1,000,000,000+', 'Free', '0', 'Everyone', 'Photography', 'August 6, 2018', 'Varies with device', 'Varies with device']\n",
      "['Maps - Navigate & Explore', 'TRAVEL_AND_LOCAL', '4.3', '9235373', 'Varies with device', '1,000,000,000+', 'Free', '0', 'Everyone', 'Travel & Local', 'July 31, 2018', 'Varies with device', 'Varies with device']\n",
      "['Google Street View', 'TRAVEL_AND_LOCAL', '4.2', '2129707', 'Varies with device', '1,000,000,000+', 'Free', '0', 'Everyone', 'Travel & Local', 'August 6, 2018', 'Varies with device', 'Varies with device']\n",
      "['Google', 'TOOLS', '4.4', '8033493', 'Varies with device', '1,000,000,000+', 'Free', '0', 'Everyone', 'Tools', 'August 3, 2018', 'Varies with device', 'Varies with device']\n",
      "['Google Drive', 'PRODUCTIVITY', '4.4', '2731211', 'Varies with device', '1,000,000,000+', 'Free', '0', 'Everyone', 'Productivity', 'August 6, 2018', 'Varies with device', 'Varies with device']\n",
      "['YouTube', 'VIDEO_PLAYERS', '4.3', '25655305', 'Varies with device', '1,000,000,000+', 'Free', '0', 'Teen', 'Video Players & Editors', 'August 2, 2018', 'Varies with device', 'Varies with device']\n",
      "['Google Play Movies & TV', 'VIDEO_PLAYERS', '3.7', '906384', 'Varies with device', '1,000,000,000+', 'Free', '0', 'Teen', 'Video Players & Editors', 'August 6, 2018', 'Varies with device', 'Varies with device']\n",
      "['Google Play Games', 'FAMILY', '4.3', '7168735', 'Varies with device', '1,000,000,000+', 'Free', '0', 'Teen', 'Entertainment', 'July 16, 2018', 'Varies with device', 'Varies with device']\n",
      "['Google News', 'NEWS_AND_MAGAZINES', '3.9', '878065', '13M', '1,000,000,000+', 'Free', '0', 'Teen', 'News & Magazines', 'August 1, 2018', '5.2.0', '4.4 and up']\n"
     ]
    }
   ],
   "source": [
    "print_where(free_google,'Installs','1,000,000,000+')"
   ]
  },
  {
   "cell_type": "code",
   "execution_count": 31,
   "metadata": {},
   "outputs": [
    {
     "name": "stdout",
     "output_type": "stream",
     "text": [
      "Maximum value for rating_count_tot : 2974676.0\n"
     ]
    }
   ],
   "source": [
    "max_value(free_apple,'rating_count_tot')"
   ]
  },
  {
   "cell_type": "code",
   "execution_count": 54,
   "metadata": {},
   "outputs": [
    {
     "name": "stdout",
     "output_type": "stream",
     "text": [
      "['284882215', 'Facebook', '389879808', 'USD', '0.0', '2974676', '212', '3.5', '3.5', '95.0', '4+', 'Social Networking', '37', '1', '29', '1']\n"
     ]
    }
   ],
   "source": [
    "print_where(free_apple,'rating_count_tot','2974676')"
   ]
  },
  {
   "cell_type": "code",
   "execution_count": 55,
   "metadata": {},
   "outputs": [
    {
     "name": "stdout",
     "output_type": "stream",
     "text": [
      "Maximum value for user_rating : 5.0\n"
     ]
    }
   ],
   "source": [
    "max_value(free_apple,'user_rating')"
   ]
  },
  {
   "cell_type": "code",
   "execution_count": 56,
   "metadata": {},
   "outputs": [
    {
     "name": "stdout",
     "output_type": "stream",
     "text": [
      "['487119327', 'Head Soccer', '121319424', 'USD', '0.0', '481564', '8518', '5.0', '5.0', '5.4.1', '4+', 'Games', '40', '4', '11', '1']\n",
      "['930574573', 'Sniper 3D Assassin: Shoot to Kill Gun Game', '157851648', 'USD', '0.0', '386521', '10332', '5.0', '5.0', '1.17.6', '17+', 'Games', '40', '5', '9', '1']\n",
      "['698255242', 'Geometry Dash Lite', '69076992', 'USD', '0.0', '370370', '2650', '5.0', '4.5', '2.11', '4+', 'Games', '37', '4', '1', '1']\n",
      "['436491861', \"Domino's Pizza USA\", '105743360', 'USD', '0.0', '258624', '2481', '5.0', '4.5', '4.2.0', '4+', 'Food & Drink', '37', '5', '2', '1']\n",
      "['887947640', 'CSR Racing 2', '1944321024', 'USD', '0.0', '257100', '2025', '5.0', '5.0', '1.11.3', '4+', 'Games', '37', '5', '11', '1']\n",
      "['600674056', \"Pictoword: Fun 2 Pics Guess What's the Word Trivia\", '126216192', 'USD', '0.0', '186089', '1010', '5.0', '4.5', '2.4.2', '4+', 'Games', '37', '5', '1', '1']\n",
      "['606190854', 'Iron Force', '124666880', 'USD', '0.0', '141634', '1655', '5.0', '4.0', '2.4.1', '17+', 'Games', '38', '5', '12', '1']\n",
      "['635573390', 'Sniper Shooter: Gun Shooting Games', '113509376', 'USD', '0.0', '134080', '451', '5.0', '5.0', '5.0.4', '12+', 'Games', '37', '5', '1', '1']\n",
      "['381471023', 'Flashlight Ⓞ', '42027008', 'USD', '0.0', '130450', '1010', '5.0', '4.5', '2.1.2', '4+', 'Utilities', '40', '0', '22', '1']\n",
      "['448639966', 'Pic Collage - Picture Editor & Photo Collage Maker', '109210624', 'USD', '0.0', '123433', '1521', '5.0', '5.0', '7.12.17', '12+', 'Photo & Video', '37', '5', '12', '1']\n",
      "['392988420', 'Zappos: shop shoes & clothes, fast free shipping', '70325248', 'USD', '0.0', '103655', '39452', '5.0', '5.0', '3.9.0', '4+', 'Shopping', '37', '4', '1', '1']\n",
      "['519817714', 'Credit Karma: Free Credit Scores, Reports & Alerts', '95494144', 'USD', '0.0', '101679', '181', '5.0', '5.0', '4.11.1', '4+', 'Finance', '37', '0', '1', '1']\n",
      "['1093190533', \"PewDiePie's Tuber Simulator\", '266766336', 'USD', '0.0', '90851', '535', '5.0', '5.0', '1.9.1', '9+', 'Games', '37', '5', '17', '1']\n",
      "['539124565', 'We Heart It - Fashion, wallpapers, quotes, tattoos', '79953920', 'USD', '0.0', '90414', '44', '5.0', '4.0', '8.3.0', '12+', 'Social Networking', '37', '5', '31', '1']\n",
      "['962194608', 'Google Photos - unlimited photo and video storage', '160215040', 'USD', '0.0', '88742', '1145', '5.0', '5.0', '2.17.0', '4+', 'Photo & Video', '37', '5', '75', '1']\n",
      "['1031002863', 'Color Therapy Adult Coloring Book for Adults', '135236608', 'USD', '0.0', '84062', '1450', '5.0', '4.5', '2.0', '4+', 'Book', '37', '4', '2', '1']\n",
      "['962969578', 'Blackbox - think outside the box', '100392960', 'USD', '0.0', '80058', '444', '5.0', '5.0', '1.3.10', '4+', 'Games', '37', '0', '1', '1']\n",
      "['993492744', 'Egg, Inc.', '53579776', 'USD', '0.0', '79074', '8442', '5.0', '5.0', '1.5', '4+', 'Games', '38', '4', '1', '1']\n",
      "['959619034', 'Flight Pilot Simulator 3D: Flying Game For Free', '142512128', 'USD', '0.0', '60360', '6551', '5.0', '4.5', '1.3.4', '4+', 'Games', '38', '5', '1', '1']\n",
      "['792595594', 'Logos Quiz -Guess the most famous brands, new fun!', '72567808', 'USD', '0.0', '58640', '2023', '5.0', '5.0', '2.0', '4+', 'Games', '38', '2', '1', '1']\n",
      "['875063456', 'Elevate - Brain Training and Games', '196350976', 'USD', '0.0', '58092', '436', '5.0', '5.0', '4.0.1', '4+', 'Education', '37', '5', '31', '1']\n",
      "['1141762073', 'Tricky Test 2™: Genius Brain?', '134669312', 'USD', '0.0', '45578', '19952', '5.0', '5.0', '5.1', '4+', 'Games', '38', '5', '1', '1']\n",
      "['1068095192', 'Gin Rummy Plus - Multiplayer Online Card Game', '178644992', 'USD', '0.0', '36355', '304', '5.0', '4.5', '2.4.1', '12+', 'Games', '38', '5', '1', '1']\n",
      "['1068378177', 'Yu-Gi-Oh! Duel Links', '185152512', 'USD', '0.0', '35570', '937', '5.0', '4.5', '1.6.0', '9+', 'Games', '37', '5', '11', '1']\n",
      "['457517348', 'FotoRus -Camera & Photo Editor & Pic Collage Maker', '119500800', 'USD', '0.0', '32558', '147', '5.0', '4.5', '7.0.4', '4+', 'Photo & Video', '38', '5', '3', '1']\n",
      "['973005664', 'Arrow Ambush', '25895936', 'USD', '0.0', '32020', '192', '5.0', '4.0', '1.8', '4+', 'Games', '38', '2', '1', '1']\n",
      "['805845189', 'Crazy Kitchen', '196248576', 'USD', '0.0', '30704', '67', '5.0', '4.5', '4.1.2', '4+', 'Games', '38', '5', '1', '1']\n",
      "['979401801', 'Browser and File Manager for Documents', '42198016', 'USD', '0.0', '27750', '27213', '5.0', '5.0', '2.0.1', '17+', 'Utilities', '37', '4', '5', '1']\n",
      "['518158653', 'FreePrints – Photos Delivered', '112790528', 'USD', '0.0', '26060', '0', '5.0', '0.0', '2.11.3', '4+', 'Photo & Video', '37', '5', '1', '1']\n",
      "['1162255664', 'SMILE Inc.', '137533440', 'USD', '0.0', '25859', '839', '5.0', '4.5', '1.11', '12+', 'Games', '37', '5', '1', '1']\n",
      "['994905763', 'Triller - Music Video & Film Maker', '87287808', 'USD', '0.0', '25683', '186', '5.0', '4.5', '4.2.2', '12+', 'Photo & Video', '37', '5', '1', '1']\n",
      "['1060704812', 'Castle Crush: Epic Strategy Game', '106132480', 'USD', '0.0', '23148', '684', '5.0', '5.0', '2.5.0', '12+', 'Games', '37', '5', '11', '1']\n",
      "['544118997', 'Shopular Coupons, Weekly Deals for Target, Walmart', '52582400', 'USD', '0.0', '22729', '997', '5.0', '5.0', '6.80', '4+', 'Shopping', '37', '4', '1', '1']\n",
      "['1045165396', 'Vlogger Go Viral - Clicker Game & Vlog Simulator', '100562944', 'USD', '0.0', '21977', '563', '5.0', '5.0', '1.17', '4+', 'Games', '38', '5', '7', '1']\n",
      "['635966718', 'Memrise: learn languages', '83949568', 'USD', '0.0', '20383', '138', '5.0', '4.5', '2.2.22', '4+', 'Education', '37', '5', '24', '1']\n",
      "['916281743', 'Sugar Smash: Book of Life', '128648192', 'USD', '0.0', '20254', '71', '5.0', '4.5', '3.32.162', '4+', 'Games', '37', '4', '16', '1']\n",
      "['860011430', 'Ghost Lens+Scary Photo Video Edit&Collage Maker', '102500352', 'USD', '0.0', '18316', '756', '5.0', '4.5', '3.91', '12+', 'Photo & Video', '40', '5', '3', '1']\n",
      "['1016673544', 'ipsy - Makeup, subscription and beauty tips', '35611648', 'USD', '0.0', '17489', '729', '5.0', '5.0', '2.0.0', '4+', 'Lifestyle', '37', '5', '1', '1']\n",
      "['908989995', 'Bruh-Button', '52343808', 'USD', '0.0', '17487', '157', '5.0', '4.0', '2.1', '17+', 'Entertainment', '37', '5', '1', '1']\n",
      "['608847384', 'X-War: Clash of Zombies', '42917888', 'USD', '0.0', '17254', '237', '5.0', '4.5', '5.4', '9+', 'Games', '40', '5', '3', '1']\n",
      "['527219710', 'Sworkit - Custom Workouts for Exercise & Fitness', '143166464', 'USD', '0.0', '16819', '348', '5.0', '5.0', '5.4.1', '4+', 'Health & Fitness', '37', '5', '12', '1']\n",
      "['1025707485', 'VPN Proxy Master - Unlimited WiFi security VPN', '27117568', 'USD', '0.0', '13674', '0', '5.0', '0.0', '2.4.2', '4+', 'Productivity', '37', '1', '9', '1']\n",
      "['955286870', 'CPlus for Craigslist app - mobile classifieds', '120219648', 'USD', '0.0', '13345', '2788', '5.0', '5.0', '3.0.0', '17+', 'Catalogs', '37', '5', '1', '1']\n",
      "['1137893020', 'Artisto – Video and Photo Editor with Art Filters', '55673856', 'USD', '0.0', '12963', '979', '5.0', '5.0', '1.17', '4+', 'Photo & Video', '37', '3', '8', '1']\n",
      "['493145008', 'Headspace', '121170944', 'USD', '0.0', '12819', '1326', '5.0', '5.0', '2.13.2', '4+', 'Health & Fitness', '37', '0', '1', '1']\n",
      "['997362197', 'InShot Video Editor Music, No Crop, Cut', '55851008', 'USD', '0.0', '12779', '3366', '5.0', '5.0', '1.19.1', '4+', 'Photo & Video', '37', '0', '9', '1']\n",
      "['723134859', 'Ebates: Cash Back, Coupons & Rebate Shopping App', '108079104', 'USD', '0.0', '12617', '99', '5.0', '4.5', '4.15.0', '4+', 'Shopping', '37', '5', '5', '1']\n",
      "['836767708', 'Wayfair - Shop Furniture, Home Decor, Daily Sales', '165069824', 'USD', '0.0', '12578', '146', '5.0', '5.0', '4.24.2', '4+', 'Shopping', '37', '5', '3', '1']\n",
      "['1066752474', 'Solitaire Ⓞ', '68179968', 'USD', '0.0', '12077', '1373', '5.0', '5.0', '1.0.228', '4+', 'Games', '40', '2', '15', '1']\n",
      "['1058528141', 'War Machines: 3D Multiplayer Tank Shooting Game', '163080192', 'USD', '0.0', '11325', '172', '5.0', '4.5', '2.0.6', '12+', 'Games', '38', '5', '9', '1']\n",
      "['888251661', 'Bee Brilliant', '199310336', 'USD', '0.0', '11151', '152', '5.0', '5.0', '1.42.0', '4+', 'Games', '38', '5', '30', '1']\n",
      "['1087489471', 'War Tortoise', '407088128', 'USD', '0.0', '10555', '1026', '5.0', '5.0', '1.2.1', '12+', 'Games', '40', '5', '1', '1']\n",
      "['1092463295', 'Monster Super League', '163893248', 'USD', '0.0', '10368', '110', '5.0', '4.5', '1.3.7', '12+', 'Games', '38', '5', '11', '1']\n",
      "['979967712', 'Stupid Zombies 3', '154107904', 'USD', '0.0', '10159', '933', '5.0', '5.0', '2.7', '12+', 'Games', '38', '4', '1', '1']\n",
      "['457876088', 'ASOS', '141503488', 'USD', '0.0', '9725', '109', '5.0', '5.0', '3.4.1', '4+', 'Shopping', '37', '5', '6', '1']\n",
      "['1138360976', 'Evolution Calculator - CP & XP - for Pokemon GO!', '19608576', 'USD', '0.0', '9269', '5', '5.0', '1.0', '1.2.3', '4+', 'Utilities', '37', '2', '1', '1']\n",
      "['1124836530', 'Tank.IO War - Free Tank games of snake', '25571328', 'USD', '0.0', '9259', '136', '5.0', '4.5', '1.1.2', '4+', 'Games', '38', '4', '2', '1']\n",
      "['1152533846', 'Despicable Bear - Top Beat Action Game', '218849280', 'USD', '0.0', '8872', '728', '5.0', '4.5', '1.2', '17+', 'Games', '37', '5', '1', '1']\n",
      "['866617777', '8fit - Workouts, meal plans and personal trainer', '101789696', 'USD', '0.0', '8730', '1108', '5.0', '5.0', '2.8.12', '4+', 'Health & Fitness', '37', '4', '4', '1']\n",
      "['1080248000', 'Romwe shopping- Fashion Clothing for women', '38983680', 'USD', '0.0', '8558', '459', '5.0', '4.5', '2.4.3', '4+', 'Shopping', '37', '4', '4', '1']\n",
      "['409128287', 'The Guardian', '92966912', 'USD', '0.0', '8176', '13', '5.0', '5.0', '4.30', '12+', 'News', '37', '5', '1', '1']\n",
      "['1135126803', 'Burrito Bison: Launcha Libre', '468171776', 'USD', '0.0', '7740', '1167', '5.0', '5.0', '2.14', '9+', 'Games', '38', '5', '1', '1']\n",
      "['981796690', 'Dan The Man (Retro Action Platformer)', '99317760', 'USD', '0.0', '7527', '228', '5.0', '5.0', '1.1.4', '12+', 'Games', '38', '5', '10', '1']\n",
      "['622434129', 'BeautyPlus - Selfie Camera for a Beautiful Image', '128229376', 'USD', '0.0', '7503', '334', '5.0', '5.0', '6.4.5', '4+', 'Photo & Video', '37', '0', '9', '1']\n",
      "['1140495295', 'Super Cat Tales', '64337920', 'USD', '0.0', '7423', '7421', '5.0', '5.0', '1.1', '4+', 'Games', '38', '5', '16', '1']\n",
      "['1050745469', 'Slots: DoubleUp Free Slot Games - Slot Machines', '168200192', 'USD', '0.0', '7177', '123', '5.0', '4.5', '1.127', '12+', 'Games', '40', '5', '10', '1']\n",
      "['1133031538', 'Pixel Color Ball Fell From The Sky', '33778688', 'USD', '0.0', '6493', '75', '5.0', '4.5', '1.8', '4+', 'Entertainment', '40', '2', '1', '1']\n",
      "['416048305', 'Meitu', '142101504', 'USD', '0.0', '6478', '21', '5.0', '5.0', '6.7.0', '4+', 'Photo & Video', '37', '0', '5', '1']\n",
      "['1067684327', 'Good Knight Story', '153513984', 'USD', '0.0', '6282', '6282', '5.0', '5.0', '1.0.2', '12+', 'Games', '35', '5', '12', '1']\n",
      "['777111034', 'ChineseSkill -Learn Mandarin Chinese Language Free', '174596096', 'USD', '0.0', '6077', '157', '5.0', '5.0', '4.1.1', '4+', 'Education', '37', '3', '8', '1']\n",
      "['1097025180', 'Fish Mania™', '141017088', 'USD', '0.0', '6038', '153', '5.0', '5.0', '1.0.418', '4+', 'Games', '38', '5', '12', '1']\n",
      "['1095459556', 'Nike+', '149407744', 'USD', '0.0', '5464', '309', '5.0', '4.5', '1.3.3', '4+', 'Shopping', '37', '0', '1', '1']\n",
      "['1151747316', \"Grumpy Cat's Worst Game Ever\", '138964992', 'USD', '0.0', '5170', '154', '5.0', '5.0', '1.4.2', '4+', 'Games', '37', '5', '1', '1']\n",
      "['784797900', 'J&J Official 7 Minute Workout', '242486272', 'USD', '0.0', '4861', '138', '5.0', '5.0', '2.6.3', '4+', 'Health & Fitness', '37', '4', '31', '1']\n",
      "['983826477', 'Productive habits & daily goals tracker', '9256960', 'USD', '0.0', '4736', '1519', '5.0', '5.0', '1.3.4', '4+', 'Productivity', '38', '0', '1', '1']\n",
      "['1041517543', 'Fitbod Workout Log: Strength Lifting Bodybuilding', '71352320', 'USD', '0.0', '4668', '4256', '5.0', '5.0', '2.8.1', '4+', 'Health & Fitness', '37', '0', '1', '1']\n",
      "['1035993638', 'Crazy Cake Swap', '207080448', 'USD', '0.0', '4638', '6', '5.0', '5.0', '1.29.1', '4+', 'Games', '38', '5', '1', '1']\n",
      "['926058555', 'Atom – Movie Tickets and Showtimes', '102137856', 'USD', '0.0', '4105', '2831', '5.0', '5.0', '2.5.3', '4+', 'Entertainment', '37', '0', '1', '1']\n",
      "['1097172005', 'Slots: Hot Vegas Slot Machines - Free Slot Games', '163115008', 'USD', '0.0', '3938', '124', '5.0', '4.5', '1.121', '12+', 'Games', '40', '5', '10', '1']\n",
      "['570103834', 'Printicular Print Photos - 1 Hour Pickup', '54000640', 'USD', '0.0', '3909', '53', '5.0', '5.0', '2.22.0', '4+', 'Photo & Video', '37', '5', '22', '1']\n",
      "['1151680145', 'Slots - Lucky Win Casino Games & Slot Machines', '117479424', 'USD', '0.0', '3807', '24', '5.0', '4.5', '1.2.5', '12+', 'Games', '40', '5', '1', '1']\n",
      "['951761438', 'Cool Wallpapers for Pokemon', '18546688', 'USD', '0.0', '3694', '3041', '5.0', '5.0', '2.7', '4+', 'Photo & Video', '37', '0', '1', '1']\n",
      "['1078297893', 'Cookie Cats - a singing puzzle adventure', '173197312', 'USD', '0.0', '3687', '31', '5.0', '4.5', '1.17.0', '4+', 'Games', '38', '5', '30', '1']\n",
      "['1025601254', 'My Challenge Tracker', '78232576', 'USD', '0.0', '3682', '14', '5.0', '5.0', '1.12.1', '4+', 'Health & Fitness', '37', '0', '1', '1']\n",
      "['999183538', 'Honest App: Shop baby & diaper products', '121671680', 'USD', '0.0', '3173', '113', '5.0', '4.5', '1.8.5', '4+', 'Shopping', '37', '0', '1', '1']\n",
      "['1121157685', 'Buffalo Slots - Royal Casino Fun Slot Machines!', '81576960', 'USD', '0.0', '3153', '0', '5.0', '0.0', '1.2.2', '12+', 'Games', '40', '5', '1', '1']\n",
      "['985653378', 'Cookie Clickers 2', '63004672', 'USD', '0.0', '2912', '203', '5.0', '4.5', '1.12.0', '4+', 'Games', '38', '5', '8', '1']\n",
      "['1034383306', 'Sea Hero Quest', '360306688', 'USD', '0.0', '2908', '270', '5.0', '5.0', '1.3.0', '4+', 'Games', '37', '5', '17', '1']\n",
      "['986540048', 'Ab & Core Sworkit - Free Workout Trainer', '59845632', 'USD', '0.0', '2901', '744', '5.0', '5.0', '1.3.1', '4+', 'Health & Fitness', '37', '5', '12', '1']\n",
      "['1100578622', 'Solitaire ∞', '67928064', 'USD', '0.0', '2865', '142', '5.0', '5.0', '1.0.97', '4+', 'Games', '40', '2', '14', '1']\n",
      "['960161732', 'Skiing Yeti Mountain', '73926656', 'USD', '0.0', '2830', '1201', '5.0', '5.0', '1.1.1', '9+', 'Games', '38', '5', '1', '1']\n",
      "['1145541321', 'Flow Free: Hexes', '20476928', 'USD', '0.0', '2791', '55', '5.0', '5.0', '1.3', '4+', 'Games', '38', '5', '11', '1']\n",
      "['1115911787', 'Slots: VIP Deluxe Slots Machines - Free Slot Games', '169353216', 'USD', '0.0', '2732', '135', '5.0', '5.0', '1.112', '12+', 'Games', '40', '5', '10', '1']\n",
      "['1093360165', 'Simple Habit', '134466560', 'USD', '0.0', '2494', '75', '5.0', '5.0', '3.2', '4+', 'Health & Fitness', '37', '0', '1', '1']\n",
      "['1024488164', 'OPUS: The Day We Found Earth', '245289984', 'USD', '0.0', '2491', '163', '5.0', '5.0', '1.7.1', '4+', 'Games', '40', '5', '1', '1']\n",
      "['1130610367', 'Donut Dazzle', '65595392', 'USD', '0.0', '2317', '102', '5.0', '4.5', '1.3', '4+', 'Games', '37', '0', '1', '1']\n",
      "['1126835894', 'Epic Jackpot Slots: Slot Machines & Bonus Games', '181364736', 'USD', '0.0', '2291', '116', '5.0', '5.0', '1.111', '12+', 'Games', '40', '5', '10', '1']\n",
      "['995014054', 'Pinchworm', '100635648', 'USD', '0.0', '2288', '74', '5.0', '5.0', '1.0.5', '4+', 'Games', '37', '5', '11', '1']\n",
      "['992421775', 'Patternator Pattern Maker Backgrounds & Wallpapers', '47943680', 'USD', '0.0', '2092', '625', '5.0', '5.0', '2.1', '4+', 'Photo & Video', '37', '5', '12', '1']\n",
      "['592331499', 'BeautyCam - AR Carnie selfie', '161335296', 'USD', '0.0', '2082', '12', '5.0', '5.0', '6.0.1', '4+', 'Photo & Video', '37', '0', '6', '1']\n",
      "['897062509', 'Memorado Brain Training for Memory & Mindfulness', '149256192', 'USD', '0.0', '2067', '108', '5.0', '5.0', '5.1.0', '4+', 'Education', '37', '5', '26', '1']\n",
      "['1140351199', '⋆Solitaire⋆', '44193792', 'USD', '0.0', '2059', '590', '5.0', '4.5', '1.1.3', '4+', 'Games', '37', '5', '15', '1']\n",
      "['1096825045', 'Coin Dozer: Casino', '151451648', 'USD', '0.0', '2024', '340', '5.0', '5.0', '1.6', '12+', 'Games', '37', '5', '1', '1']\n",
      "['702871560', '100 PICS Coloring - free color in book game app', '269298688', 'USD', '0.0', '1929', '17', '5.0', '5.0', '1.96', '4+', 'Games', '37', '5', '1', '1']\n",
      "['1153515245', 'Stickman Basketball 2017', '203829248', 'USD', '0.0', '1835', '1819', '5.0', '5.0', '1.1.2', '4+', 'Games', '38', '5', '1', '1']\n",
      "['1095571204', 'KIXIFY - Buy & Sell Sneakers', '50725888', 'USD', '0.0', '1735', '125', '5.0', '4.5', '2.0.2', '4+', 'Shopping', '37', '5', '31', '1']\n",
      "['1128839212', 'Forest Rescue 2: Friends United Match 3 Puzzle', '88672256', 'USD', '0.0', '1505', '79', '5.0', '5.0', '1.75', '4+', 'Games', '40', '5', '1', '1']\n",
      "['1120936238', 'Cafe Story - Play Cooking & Farming Game', '116981760', 'USD', '0.0', '1498', '79', '5.0', '5.0', '1.1.55', '4+', 'Games', '38', '5', '2', '1']\n",
      "['1060266198', 'BuzzFeed Video', '45025280', 'USD', '0.0', '1492', '519', '5.0', '5.0', '1.1.4', '12+', 'Entertainment', '37', '0', '1', '1']\n",
      "['1088300283', 'Vintage Slots Las Vegas - Old Slot Machine Games!', '69826560', 'USD', '0.0', '1474', '252', '5.0', '5.0', '1.8.2', '12+', 'Games', '38', '5', '31', '1']\n",
      "['1132358193', 'Slots: Fast Fortune Slot Machines & Fun Slot Games', '168288256', 'USD', '0.0', '1474', '94', '5.0', '4.5', '1.111', '12+', 'Games', '40', '5', '10', '1']\n",
      "['1181904201', '4x4 Dirt Track Trials Forest Driving Parking Sim', '278811648', 'USD', '0.0', '1441', '1441', '5.0', '5.0', '1.0.1', '4+', 'Games', '37', '5', '1', '1']\n",
      "['1178082935', 'Stickman Base Jumper 2', '323822592', 'USD', '0.0', '1362', '1142', '5.0', '5.0', '1.0.1', '4+', 'Games', '38', '5', '1', '1']\n",
      "['1135518748', 'Suрer Toss The Turtle', '564712448', 'USD', '0.0', '1339', '52', '5.0', '4.0', '1.171.11', '12+', 'Games', '38', '5', '1', '1']\n",
      "['1107355213', 'Bullet Hell Monday', '90488832', 'USD', '0.0', '1296', '120', '5.0', '5.0', '2.0.1', '9+', 'Games', '37', '5', '2', '1']\n",
      "['987732117', 'DANDY DUNGEON Legend of Brave Yamada', '247331840', 'USD', '0.0', '1204', '46', '5.0', '4.5', '2.4.1', '9+', 'Games', '38', '5', '2', '1']\n",
      "['998560520', 'Blink Health', '38117376', 'USD', '0.0', '1198', '6', '5.0', '5.0', '1.7.15', '17+', 'Medical', '37', '0', '9', '1']\n",
      "['1116296327', 'Slots: Get Rich Slot Machines Casino Slot Games', '170819584', 'USD', '0.0', '1168', '5', '5.0', '5.0', '1.117', '12+', 'Games', '40', '5', '10', '1']\n",
      "['1075818491', 'Bike Traffic Rider an Extreme Real Endless Road Racer Racing Game', '229864448', 'USD', '0.0', '1052', '1052', '5.0', '5.0', '1.1', '4+', 'Games', '38', '5', '1', '1']\n",
      "['724295527', 'Pitu', '102120448', 'USD', '0.0', '968', '4', '5.0', '5.0', '4.9.2', '4+', 'Photo & Video', '38', '0', '5', '1']\n",
      "['1000708019', 'Butt Sworkit - Free Workout Trainer to tone & lift', '58649600', 'USD', '0.0', '960', '130', '5.0', '5.0', '1.3.1', '4+', 'Health & Fitness', '37', '5', '12', '1']\n",
      "['1181358720', 'VPN Go - Safe Fast & Stable VPN Proxy', '55926784', 'USD', '0.0', '881', '5', '5.0', '4.5', '1.6.6', '4+', 'Business', '37', '3', '4', '1']\n",
      "['1147863312', 'Clashy Colors', '20506624', 'USD', '0.0', '854', '850', '5.0', '5.0', '1.1', '4+', 'Games', '38', '4', '1', '1']\n",
      "['1013854622', 'KSI Unleashed', '456900608', 'USD', '0.0', '854', '44', '5.0', '5.0', '1.3.2', '17+', 'Games', '37', '5', '1', '1']\n",
      "['882059071', 'SLOTS: TRUMP vs. HILLARY CLINTON Free Slot Games', '168546304', 'USD', '0.0', '834', '107', '5.0', '5.0', '1.130', '12+', 'Games', '43', '5', '10', '1']\n",
      "['1167651042', 'Demi Lovato - Zombarazzie Adventure', '87374848', 'USD', '0.0', '690', '136', '5.0', '4.5', '1.4', '4+', 'Games', '37', '5', '0', '1']\n",
      "['1064785404', 'Mystic Castle - the Simplest & Best RPG and Adventure Game', '73411584', 'USD', '0.0', '650', '488', '5.0', '4.5', '2.6.4', '9+', 'Games', '38', '5', '33', '1']\n",
      "['1090877424', 'Lewandowski: Football Star', '337468416', 'USD', '0.0', '385', '2', '5.0', '5.0', '1.2.1', '4+', 'Games', '38', '5', '1', '1']\n",
      "['1140266903', 'Hidden my game by mom - escape room', '36419584', 'USD', '0.0', '311', '16', '5.0', '4.5', '1.0.2', '9+', 'Games', '40', '3', '12', '1']\n",
      "['983149271', 'Muhammad Ali: Puzzle King', '153622528', 'USD', '0.0', '277', '2', '5.0', '3.5', '1.1.7', '4+', 'Games', '37', '5', '11', '1']\n",
      "['1014277964', 'SelfieCity', '71816192', 'USD', '0.0', '252', '1', '5.0', '5.0', '2.9.1', '4+', 'Photo & Video', '37', '0', '5', '1']\n",
      "['1069236120', 'Green the Planet 2', '33005568', 'USD', '0.0', '233', '123', '5.0', '5.0', '1.6.0', '4+', 'Games', '25', '5', '10', '1']\n",
      "['1001473964', 'Picolo drinking game', '35566592', 'USD', '0.0', '227', '6', '5.0', '5.0', '1.18.0', '17+', 'Entertainment', '37', '5', '6', '1']\n",
      "['564850309', 'Urlaubspiraten', '22560768', 'USD', '0.0', '188', '0', '5.0', '0.0', '2.0.19', '4+', 'Travel', '38', '5', '1', '1']\n",
      "['1023683909', 'Alliance Wars: World Domination', '493512704', 'USD', '0.0', '176', '6', '5.0', '5.0', 'v1.865', '12+', 'Games', '38', '1', '1', '1']\n",
      "['419261235', 'Bitauto Autoprice', '79730688', 'USD', '0.0', '157', '0', '5.0', '0.0', '7.6', '17+', 'Utilities', '38', '0', '3', '1']\n",
      "['1125469780', 'Rogue Ninja', '181551104', 'USD', '0.0', '99', '6', '5.0', '5.0', '1.7', '12+', 'Games', '40', '5', '1', '1']\n",
      "['1038007349', 'Giant Turnip Game: A Voyage Of Vegetable Extraction!', '83069952', 'USD', '0.0', '89', '73', '5.0', '5.0', '1.1', '4+', 'Games', '38', '0', '3', '1']\n",
      "['1066111223', 'Escape Game: Fountain', '43569152', 'USD', '0.0', '69', '69', '5.0', '5.0', '1.0', '4+', 'Games', '40', '5', '2', '1']\n",
      "['1154856196', 'Wappoi Room Escape', '132481024', 'USD', '0.0', '64', '54', '5.0', '5.0', '1.0.4', '4+', 'Games', '40', '5', '1', '1']\n",
      "['1173650428', 'Nope Quiz', '183178240', 'USD', '0.0', '61', '1', '5.0', '5.0', '1.2.1', '12+', 'Games', '37', '5', '1', '1']\n",
      "['1105385887', 'Escape Game: Forgotten', '49243136', 'USD', '0.0', '55', '42', '5.0', '5.0', '1.1', '4+', 'Games', '40', '5', '2', '1']\n",
      "['1112162323', 'Highlights Monster Day', '37062656', 'USD', '0.0', '49', '1', '5.0', '5.0', '1.0.7', '4+', 'Education', '37', '5', '10', '1']\n",
      "['1088172195', 'Escape Game: Relief', '42011648', 'USD', '0.0', '49', '41', '5.0', '5.0', '1.2', '4+', 'Games', '40', '5', '2', '1']\n",
      "['1161231636', 'Escape Game: Signs', '45420544', 'USD', '0.0', '41', '41', '5.0', '5.0', '1.0', '4+', 'Games', '40', '5', '2', '1']\n",
      "['1091569546', 'Behind You!!', '52901888', 'USD', '0.0', '40', '15', '5.0', '4.5', '1.0.1', '9+', 'Games', '40', '3', '12', '1']\n",
      "['1183234072', 'CTFxCmoji', '26077184', 'USD', '0.0', '39', '4', '5.0', '5.0', '1.3', '9+', 'Social Networking', '37', '1', '1', '1']\n",
      "['1137262188', 'Gweep Gwop', '566353920', 'USD', '0.0', '32', '0', '5.0', '0.0', '1.6', '4+', 'Games', '40', '5', '1', '1']\n",
      "['1100088261', 'Alternative Girls', '207391744', 'USD', '0.0', '29', '2', '5.0', '4.0', '1.10.0', '12+', 'Games', '38', '4', '1', '1']\n",
      "['1136075542', 'Escape Game: Traps', '107992064', 'USD', '0.0', '29', '29', '5.0', '5.0', '1.0', '9+', 'Games', '38', '5', '2', '1']\n",
      "['1185365336', 'Laurie Hernandez the Human Emoji', '94008320', 'USD', '0.0', '26', '3', '5.0', '5.0', '1.0.5', '9+', 'Utilities', '37', '4', '1', '1']\n",
      "['1063785850', 'SenseSleep - Train Your Brain To Sleep Better', '31157248', 'USD', '0.0', '22', '22', '5.0', '5.0', '1.0.0', '4+', 'Health & Fitness', '15', '0', '1', '1']\n",
      "['661149814', 'Ab in den Urlaub – Pauschalreisen günstig buchen', '74008576', 'USD', '0.0', '22', '0', '5.0', '0.0', '4.2.5', '4+', 'Travel', '37', '5', '31', '1']\n",
      "['1021091295', 'C CHANNEL -Watch tips & tricks videos for girls', '58049536', 'USD', '0.0', '21', '0', '5.0', '0.0', '2.6.8', '12+', 'Photo & Video', '37', '0', '8', '1']\n",
      "['1085464876', 'Room Escape [SECRET CODE 2]', '68177920', 'USD', '0.0', '20', '3', '5.0', '5.0', '1.1', '4+', 'Games', '38', '5', '2', '1']\n",
      "['734256893', 'SHOWROOM - video live streaming', '113558528', 'USD', '0.0', '20', '1', '5.0', '4.0', '4.4.5', '17+', 'Entertainment', '37', '5', '4', '1']\n",
      "['1068266222', 'TraptionBakery', '46557184', 'USD', '0.0', '17', '17', '5.0', '5.0', '1.0', '9+', 'Games', '37', '2', '1', '1']\n",
      "['1057124368', 'LINE RUSH !', '130563072', 'USD', '0.0', '15', '2', '5.0', '5.0', '1.4.4', '9+', 'Games', '43', '0', '3', '1']\n",
      "['1005030039', 'Mon Espace - Pôle emploi', '111504384', 'USD', '0.0', '11', '0', '5.0', '0.0', '4.2', '4+', 'Business', '37', '5', '1', '1']\n",
      "['1183260922', \"Room Escape Game - Santa's Room\", '143346688', 'USD', '0.0', '10', '10', '5.0', '5.0', '1.0', '4+', 'Games', '40', '0', '1', '1']\n",
      "['1174727122', 'Book - room escape game -', '71790592', 'USD', '0.0', '10', '10', '5.0', '5.0', '1.0', '4+', 'Games', '37', '0', '1', '1']\n",
      "['1068766238', 'Free QR Code Reader simply to scan a QR Code', '12190720', 'USD', '0.0', '10', '6', '5.0', '5.0', '2.1', '4+', 'Productivity', '38', '3', '2', '1']\n",
      "['563764220', 'minne - shopping handmade item', '80129024', 'USD', '0.0', '8', '0', '5.0', '0.0', '7.11.0', '4+', 'Shopping', '37', '0', '2', '1']\n",
      "['1125806960', 'Escape the Cake Café', '33091584', 'USD', '0.0', '7', '7', '5.0', '5.0', '1.0.1', '4+', 'Games', '40', '0', '2', '1']\n",
      "['1125318904', 'Dice Crush', '180950016', 'USD', '0.0', '7', '1', '5.0', '5.0', '1.0.3', '4+', 'Games', '40', '5', '2', '1']\n",
      "['1170395210', 'Room Escape Game - Pictures Room Esacpe', '88484864', 'USD', '0.0', '6', '2', '5.0', '5.0', '1.1', '4+', 'Games', '40', '0', '1', '1']\n",
      "['1068100966', 'Pirates Kids Room Escape', '166528000', 'USD', '0.0', '6', '6', '5.0', '5.0', '1.0', '4+', 'Games', '40', '4', '1', '1']\n",
      "['632460897', '鬼とび', '9931776', 'USD', '0.0', '6', '1', '5.0', '5.0', '1.1.3', '4+', 'Games', '40', '3', '2', '1']\n",
      "['1102346079', 'Brake or Break', '82316288', 'USD', '0.0', '5', '3', '5.0', '5.0', '1.4.1', '9+', 'Games', '38', '5', '1', '1']\n",
      "['723322796', 'FizzUp – Online Fitness Trainer', '124125184', 'USD', '0.0', '5', '0', '5.0', '0.0', '1.21.2', '4+', 'Health & Fitness', '38', '5', '2', '1']\n",
      "['1188375727', 'Escape the Sweet Shop Series', '90898432', 'USD', '0.0', '3', '3', '5.0', '5.0', '1.0', '4+', 'Games', '40', '0', '2', '1']\n",
      "['1048899002', 'Simple Camera - Fast Minimal Design', '74435584', 'USD', '0.0', '3', '3', '5.0', '5.0', '3.0.1', '4+', 'Photo & Video', '37', '5', '2', '1']\n",
      "['1175547625', 'Escape a Crepe House', '32714752', 'USD', '0.0', '3', '3', '5.0', '5.0', '1.0', '4+', 'Games', '40', '0', '2', '1']\n",
      "['1142223652', 'ROAD -escape game-', '74856448', 'USD', '0.0', '2', '2', '5.0', '5.0', '1.0', '4+', 'Games', '40', '5', '1', '1']\n",
      "['1082215066', 'Escape Game : Escape from Okinawa', '36832256', 'USD', '0.0', '2', '2', '5.0', '5.0', '1.0.0', '4+', 'Games', '38', '0', '2', '1']\n",
      "['1121196185', 'Soccer Cup Championship 2016', '68205568', 'USD', '0.0', '2', '2', '5.0', '5.0', '1.2', '4+', 'Games', '38', '5', '1', '1']\n",
      "['1021877189', 'a. - Physical Simulation Puzzle Game', '49728512', 'USD', '0.0', '2', '2', '5.0', '5.0', '1.0.8', '4+', 'Games', '40', '4', '2', '1']\n",
      "['1095317943', 'Survivor: Prologue', '55823360', 'USD', '0.0', '2', '2', '5.0', '5.0', '1.0.7', '12+', 'Games', '37', '5', '4', '1']\n",
      "['1085401990', 'SLAAAASH ! -Cut and Smash ! refreshing Puzzle-', '47260672', 'USD', '0.0', '1', '1', '5.0', '5.0', '1.0.5', '4+', 'Games', '40', '0', '2', '1']\n",
      "['1156413671', 'LINE Moments - Capture Your Fun Moments', '133572608', 'USD', '0.0', '1', '1', '5.0', '5.0', '1.2.1', '4+', 'Photo & Video', '37', '0', '6', '1']\n",
      "['887910620', 'DelusionCreatureGacha', '50221056', 'USD', '0.0', '1', '1', '5.0', '5.0', '1.0', '4+', 'Games', '40', '2', '1', '1']\n",
      "['1013551921', 'Video Smith - A Powerful video editing tool set', '39056384', 'USD', '0.0', '1', '1', '5.0', '5.0', '1.2', '4+', 'Photo & Video', '37', '0', '2', '1']\n",
      "['1115245945', 'Smart Matches ~ Puzzles with Matchsticks', '28306432', 'USD', '0.0', '1', '1', '5.0', '5.0', '1.1', '4+', 'Games', '37', '4', '15', '1']\n",
      "['1151496004', 'Jeremstar box', '43215872', 'USD', '0.0', '1', '1', '5.0', '5.0', '1.5.1', '9+', 'Entertainment', '37', '1', '1', '1']\n",
      "['968213298', 'Bike Race Level 100', '98312192', 'USD', '0.0', '1', '1', '5.0', '5.0', '1.7.1', '9+', 'Games', '40', '5', '2', '1']\n",
      "['588287777', 'Baidu Videos', '142116864', 'USD', '0.0', '1', '1', '5.0', '5.0', '7.8.5', '17+', 'Entertainment', '38', '0', '2', '1']\n",
      "['1124568844', 'Frantic Ball', '196617216', 'USD', '0.0', '1', '1', '5.0', '5.0', '1.0.2', '4+', 'Games', '37', '5', '1', '1']\n",
      "['966802035', 'LINE FIGHTERS', '136356864', 'USD', '0.0', '1', '1', '5.0', '5.0', '1.0.7', '4+', 'Games', '38', '5', '4', '1']\n",
      "['1090731387', 'Versus - Multiplayer Game (2 players)', '60761088', 'USD', '0.0', '1', '1', '5.0', '5.0', '2.1.2', '4+', 'Games', '37', '5', '4', '1']\n"
     ]
    }
   ],
   "source": [
    "print_where(free_apple,'user_rating','5.0')"
   ]
  },
  {
   "cell_type": "markdown",
   "metadata": {},
   "source": [
    "# Opisz wyniki i jaka aplikacje powinnismy zrobic,\n",
    "1. 'Games' is the most dominant free Apple prime genre with 1874 applications, 'Entertainment' is second with 254 applications\n",
    "2. 'Family' is the most dominant free Google category with 1676 applications, 'Game' is second with 862 applications\n",
    "3. 'Tools' is the most dominant free Google genre with 749 applications, 'Entertainment' is second with 538 applications\n",
    "4. Most of applications are designed for entertainment purposes - if we want to create a succesfull free application based on genre and category a game that can be enjoyed by whole family would be the right choice\n",
    "5. We have to count as well for applications that have the most users - lets check that."
   ]
  },
  {
   "cell_type": "code",
   "execution_count": null,
   "metadata": {},
   "outputs": [],
   "source": []
  }
 ],
 "metadata": {
  "kernelspec": {
   "display_name": "Python 3",
   "language": "python",
   "name": "python3"
  },
  "language_info": {
   "codemirror_mode": {
    "name": "ipython",
    "version": 3
   },
   "file_extension": ".py",
   "mimetype": "text/x-python",
   "name": "python",
   "nbconvert_exporter": "python",
   "pygments_lexer": "ipython3",
   "version": "3.8.2"
  }
 },
 "nbformat": 4,
 "nbformat_minor": 2
}
