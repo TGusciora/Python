{
 "cells": [
  {
   "cell_type": "markdown",
   "metadata": {},
   "source": [
    "# Dataquest.io Guided Project 1 - Profitable App Profiles for the App Store and Google Play Markets\n",
    "Description:\n",
    "Sources:\n",
    "https://www.kaggle.com/lava18/google-play-store-apps/home\n",
    "https://www.kaggle.com/ramamet4/app-store-apple-data-set-10k-apps/home\n",
    "Goal: finding application characteristics most likely to maximize revenue from application"
   ]
  },
  {
   "cell_type": "markdown",
   "metadata": {},
   "source": [
    "Defining explore function. Will be useful to take a look at\n",
    "source databases. "
   ]
  },
  {
   "cell_type": "code",
   "execution_count": 1,
   "metadata": {
    "collapsed": false
   },
   "outputs": [],
   "source": [
    "import operator\n",
    "#importing operator library to sort dictionaries\n",
    "\n",
    "def explore_data(dataset, start, end, rows_and_columns=False):\n",
    "    dataset_slice = dataset[start:end]    \n",
    "    for row in dataset_slice:\n",
    "        print(row)\n",
    "        print('\\n') # adds a new (empty) line after each row\n",
    "\n",
    "    if rows_and_columns:\n",
    "        print('Number of rows:', len(dataset))\n",
    "        print('Number of columns:', len(dataset[0]))\n"
   ]
  },
  {
   "cell_type": "markdown",
   "metadata": {},
   "source": [
    "Importing source datasets and transforming them to list variables."
   ]
  },
  {
   "cell_type": "code",
   "execution_count": 2,
   "metadata": {
    "collapsed": false
   },
   "outputs": [],
   "source": [
    "apple_open=open('AppleStore.csv',encoding=\"utf8\")\n",
    "google_open=open('googleplaystore.csv',encoding=\"utf8\")\n",
    "import csv\n",
    "apple_read=csv.reader(apple_open)\n",
    "google_read=csv.reader(google_open)\n",
    "google_list=list(google_read)\n",
    "apple_list=list(apple_read)"
   ]
  },
  {
   "cell_type": "markdown",
   "metadata": {},
   "source": [
    "Exploration of datasets using created explore_data function."
   ]
  },
  {
   "cell_type": "code",
   "execution_count": 3,
   "metadata": {
    "collapsed": false
   },
   "outputs": [
    {
     "name": "stdout",
     "output_type": "stream",
     "text": [
      "['App', 'Category', 'Rating', 'Reviews', 'Size', 'Installs', 'Type', 'Price', 'Content Rating', 'Genres', 'Last Updated', 'Current Ver', 'Android Ver']\n",
      "\n",
      "\n",
      "['Photo Editor & Candy Camera & Grid & ScrapBook', 'ART_AND_DESIGN', '4.1', '159', '19M', '10,000+', 'Free', '0', 'Everyone', 'Art & Design', 'January 7, 2018', '1.0.0', '4.0.3 and up']\n",
      "\n",
      "\n",
      "Number of rows: 10842\n",
      "Number of columns: 13\n"
     ]
    }
   ],
   "source": [
    "explore_data(google_list,0,2,True)"
   ]
  },
  {
   "cell_type": "markdown",
   "metadata": {},
   "source": [
    "Google Store application dataset offes below structure:\n",
    "\n",
    "| Variable       | Explanation                             | \n",
    "| -------------- | --------------------------------------- |\n",
    "| App            | unique identifier.Variable name. String |\n",
    "| Category       | type of app. String                     |\n",
    "| Rating         | App rating. Float from 0 to 10          |\n",
    "| Reviews        | Number of reviews. Integer              |\n",
    "| Size           | Size in Megabytes. String               |\n",
    "| Installs       | Number of installs range. String.       |\n",
    "| Type           | 'Free' or 'Paid'. String                |\n",
    "| Price          | Price in dollars. 0 for free apps.      |\n",
    "| Content Rating | Age limit to use app. String            |\n",
    "| Genres         | Genre of app. String                    |\n",
    "| Last updated   | Date of last update. String             |\n",
    "| Current Ver    | current version. String                 |\n",
    "| Android Ver    | Min Android ver to use this app. String | \n"
   ]
  },
  {
   "cell_type": "code",
   "execution_count": 4,
   "metadata": {
    "collapsed": false
   },
   "outputs": [
    {
     "name": "stdout",
     "output_type": "stream",
     "text": [
      "['id', 'track_name', 'size_bytes', 'currency', 'price', 'rating_count_tot', 'rating_count_ver', 'user_rating', 'user_rating_ver', 'ver', 'cont_rating', 'prime_genre', 'sup_devices.num', 'ipadSc_urls.num', 'lang.num', 'vpp_lic']\n",
      "\n",
      "\n",
      "['284882215', 'Facebook', '389879808', 'USD', '0.0', '2974676', '212', '3.5', '3.5', '95.0', '4+', 'Social Networking', '37', '1', '29', '1']\n",
      "\n",
      "\n",
      "Number of rows: 7198\n",
      "Number of columns: 16\n"
     ]
    }
   ],
   "source": [
    "explore_data(apple_list,0,2,True)"
   ]
  },
  {
   "cell_type": "markdown",
   "metadata": {},
   "source": [
    "Apple Store application dataset offes below structure:\n",
    "\n",
    "| Variable         | Explanation                             | \n",
    "| ---------------  | --------------------------------------- |\n",
    "| ID               | unique application number. Key. Integer |\n",
    "| Track_name       | name of application. String             |\n",
    "| Size_bytes       | size of app in bytes. Integer           |\n",
    "| Currency         | currency of app price. String           |\n",
    "| Price            | price of app. 0 for free apps. Float.   |\n",
    "| Rating_count_tot | total number of ratings. Integer        |\n",
    "| Rating_count_ver | aaa                                     |\n",
    "| User_rating      | Rating of users. Float from 0 to 10.    |\n",
    "| User_rating_ver  | aaa                                     |\n",
    "| Ver              | application version. Float.             |\n",
    "| Cont_rating      | Content Rating on 5 star scale. String  |\n",
    "| prime_genre      | App Genre. String                       |\n",
    "| sup_devices.num  | number of supported devices. Integer    |\n",
    "| ipadsC_urls.num  | aaa                                     |\n",
    "| lang.num         | number of supported languages. Integer  |\n",
    "| vpp_lic          | aaa                                     |"
   ]
  },
  {
   "cell_type": "markdown",
   "metadata": {},
   "source": [
    "II Data cleansing\n",
    "a) Preparing function to detect outliers and incorrect values."
   ]
  },
  {
   "cell_type": "code",
   "execution_count": 5,
   "metadata": {
    "collapsed": false
   },
   "outputs": [],
   "source": [
    "#Dataset - name of dataset\n",
    "#variable - case-sensitive name of variable in dataset\n",
    "def variable_desc(dataset,variable):\n",
    "    header=dataset[0]\n",
    "    index_temp=int(header.index(variable))\n",
    "    dict_temp={}\n",
    "    for temp in dataset[1:]:\n",
    "        b=str(temp[index_temp])\n",
    "        if b in dict_temp:\n",
    "            dict_temp[b] += 1\n",
    "        else:\n",
    "            dict_temp[b] = 1\n",
    "\n",
    "    sorted_dict = list(sorted(dict_temp.items(), key=operator.itemgetter(1)))\n",
    "    print('Variable analysed: ' + variable)\n",
    "    print('Number of distinct values:', len(sorted_dict))\n",
    "    for row in sorted_dict:\n",
    "        print(row)"
   ]
  },
  {
   "cell_type": "code",
   "execution_count": 6,
   "metadata": {
    "collapsed": false
   },
   "outputs": [
    {
     "name": "stdout",
     "output_type": "stream",
     "text": [
      "Variable analysed: Category\n",
      "Number of distinct values: 34\n",
      "('1.9', 1)\n",
      "('BEAUTY', 53)\n",
      "('PARENTING', 60)\n",
      "('COMICS', 60)\n",
      "('EVENTS', 64)\n",
      "('ART_AND_DESIGN', 65)\n",
      "('WEATHER', 82)\n",
      "('AUTO_AND_VEHICLES', 85)\n",
      "('LIBRARIES_AND_DEMO', 85)\n",
      "('HOUSE_AND_HOME', 88)\n",
      "('FOOD_AND_DRINK', 127)\n",
      "('MAPS_AND_NAVIGATION', 137)\n",
      "('ENTERTAINMENT', 149)\n",
      "('EDUCATION', 156)\n",
      "('VIDEO_PLAYERS', 175)\n",
      "('BOOKS_AND_REFERENCE', 231)\n",
      "('DATING', 234)\n",
      "('TRAVEL_AND_LOCAL', 258)\n",
      "('SHOPPING', 260)\n",
      "('NEWS_AND_MAGAZINES', 283)\n",
      "('SOCIAL', 295)\n",
      "('PHOTOGRAPHY', 335)\n",
      "('HEALTH_AND_FITNESS', 341)\n",
      "('FINANCE', 366)\n",
      "('LIFESTYLE', 382)\n",
      "('SPORTS', 384)\n",
      "('COMMUNICATION', 387)\n",
      "('PERSONALIZATION', 392)\n",
      "('PRODUCTIVITY', 424)\n",
      "('BUSINESS', 460)\n",
      "('MEDICAL', 463)\n",
      "('TOOLS', 843)\n",
      "('GAME', 1144)\n",
      "('FAMILY', 1972)\n"
     ]
    }
   ],
   "source": [
    "variable_desc(google_list,'Category')"
   ]
  },
  {
   "cell_type": "markdown",
   "metadata": {
    "collapsed": true
   },
   "source": [
    "b) Function to find duplicates among primary key"
   ]
  },
  {
   "cell_type": "code",
   "execution_count": 7,
   "metadata": {
    "collapsed": false
   },
   "outputs": [
    {
     "name": "stdout",
     "output_type": "stream",
     "text": [
      "['Life Made WI-Fi Touchscreen Photo Frame', '1.9', '19', '3.0M', '1,000+', 'Free', '0', 'Everyone', '', 'February 11, 2018', '1.0.19', '4.0 and up']\n",
      "['osmino Wi-Fi: free WiFi', 'TOOLS', '4.2', '134203', '4.1M', '10,000,000+', 'Free', '0', 'Everyone', 'Tools', 'August 7, 2018', '6.06.14', '4.4 and up']\n"
     ]
    }
   ],
   "source": [
    "print(google_list[10473])\n",
    "del google_list[10473]\n",
    "print(google_list[10473])"
   ]
  },
  {
   "cell_type": "code",
   "execution_count": 47,
   "metadata": {
    "collapsed": false
   },
   "outputs": [],
   "source": [
    "#Dataset - name of dataset\n",
    "#variable - case-sensitive name of primary key variable in dataset\n",
    "#output dataset - clean list based on primary key\n",
    "#max_var - variable that we will use to deduplicate (we will take\n",
    "# only max values)\n",
    "\n",
    "def duplicates(dataset,primary_key,max_var):\n",
    "    header=dataset[0]\n",
    "    index_temp=int(header.index(primary_key))\n",
    "    print('Index of primary key - ' + primary_key + ' : ' + str(index_temp))\n",
    "    index_max=int(header.index(max_var))\n",
    "    print('Index of variable used for deduplication - ' + max_var + ' : ' + str(index_max))\n",
    "    dict_temp={}  \n",
    "    clean_list=[]\n",
    "    clean_list.append(header)\n",
    "    for temp in dataset[1:]:   \n",
    "        b=str(temp[index_temp])\n",
    "        c=float(temp[index_max])\n",
    "        if b in dict_temp and dict_temp[b] < c:\n",
    "            dict_temp[b] = c\n",
    "        if b not in dict_temp:\n",
    "            dict_temp[b] = c\n",
    "    print('Length of dictionary: ' + str(len(dict_temp)))\n",
    "    deduped_list=[]\n",
    "    already_added=[]\n",
    "    for tempo in dataset[1:]:\n",
    "        name=str(tempo[index_temp])\n",
    "        d=float(tempo[index_max])\n",
    "        if name not in already_added and d==dict_temp[name]:\n",
    "            deduped_list.append(tempo)\n",
    "            already_added.append(name)\n",
    "    print('Length of deduplicated end-dataset: ' + str(len(deduped_list)))\n",
    "    return deduped_list\n",
    "    "
   ]
  },
  {
   "cell_type": "code",
   "execution_count": 48,
   "metadata": {
    "collapsed": false
   },
   "outputs": [
    {
     "name": "stdout",
     "output_type": "stream",
     "text": [
      "Index of primary key - App : 0\n",
      "Index of variable used for deduplication - Reviews : 3\n",
      "Length of dictionary: 9659\n",
      "Length of deduplicated end-dataset: 9659\n"
     ]
    }
   ],
   "source": [
    "google_dedup=duplicates(google_list,'App','Reviews')"
   ]
  },
  {
   "cell_type": "code",
   "execution_count": 49,
   "metadata": {
    "collapsed": false
   },
   "outputs": [
    {
     "name": "stdout",
     "output_type": "stream",
     "text": [
      "['Microsoft Outlook', 'PRODUCTIVITY', '4.3', '3252896', '50M', '100,000,000+', 'Free', '0', 'Everyone', 'Productivity', 'August 2, 2018', '2.2.194', '4.4 and up']\n",
      "['Microsoft Outlook', 'PRODUCTIVITY', '4.3', '3249518', '50M', '100,000,000+', 'Free', '0', 'Everyone', 'Productivity', 'August 2, 2018', '2.2.194', '4.4 and up']\n"
     ]
    }
   ],
   "source": [
    "for a in google_list:\n",
    "    if a[0]=='Microsoft Outlook':\n",
    "        print(a)"
   ]
  },
  {
   "cell_type": "code",
   "execution_count": 50,
   "metadata": {
    "collapsed": false
   },
   "outputs": [
    {
     "name": "stdout",
     "output_type": "stream",
     "text": [
      "['Microsoft Outlook', 'PRODUCTIVITY', '4.3', '3252896', '50M', '100,000,000+', 'Free', '0', 'Everyone', 'Productivity', 'August 2, 2018', '2.2.194', '4.4 and up']\n"
     ]
    }
   ],
   "source": [
    "for a in google_dedup:\n",
    "    if a[0]=='Microsoft Outlook':\n",
    "        print(a)"
   ]
  },
  {
   "cell_type": "code",
   "execution_count": null,
   "metadata": {
    "collapsed": false
   },
   "outputs": [],
   "source": [
    "variable_desc(google_clean,'App')"
   ]
  },
  {
   "cell_type": "code",
   "execution_count": null,
   "metadata": {
    "collapsed": false
   },
   "outputs": [],
   "source": [
    "for a in google_clean:\n",
    "    if a[0] == 'BL 女性向け恋愛ゲーム◆ごくメン':\n",
    "        print(a)"
   ]
  },
  {
   "cell_type": "code",
   "execution_count": null,
   "metadata": {
    "collapsed": false
   },
   "outputs": [],
   "source": [
    "import re\n",
    "# -*- coding: utf-8 -*-\n",
    "kefentse=[]\n",
    "kocionglak=[]\n",
    "for a in google_clean:\n",
    "    b=a[0]\n",
    "    if re.match(\"^[ \\na-zA-Z0-9_,-@#$%^&*:;!-]*$.()📖\", b):\n",
    "        kefentse.append(b)\n",
    "    else:\n",
    "        kocionglak.append(b)\n",
    "        \n",
    "#print(kefentse)\n",
    "print('\\nCO TAM MORDOR\\n')\n",
    "print(kocionglak)"
   ]
  },
  {
   "cell_type": "code",
   "execution_count": null,
   "metadata": {
    "collapsed": false
   },
   "outputs": [],
   "source": []
  },
  {
   "cell_type": "code",
   "execution_count": null,
   "metadata": {
    "collapsed": true
   },
   "outputs": [],
   "source": []
  },
  {
   "cell_type": "code",
   "execution_count": null,
   "metadata": {
    "collapsed": false
   },
   "outputs": [],
   "source": []
  },
  {
   "cell_type": "code",
   "execution_count": null,
   "metadata": {
    "collapsed": true
   },
   "outputs": [],
   "source": []
  }
 ],
 "metadata": {
  "kernelspec": {
   "display_name": "Python 3",
   "language": "python",
   "name": "python3"
  },
  "language_info": {
   "codemirror_mode": {
    "name": "ipython",
    "version": 3
   },
   "file_extension": ".py",
   "mimetype": "text/x-python",
   "name": "python",
   "nbconvert_exporter": "python",
   "pygments_lexer": "ipython3",
   "version": "3.4.3"
  }
 },
 "nbformat": 4,
 "nbformat_minor": 2
}
