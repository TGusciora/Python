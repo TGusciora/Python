{
 "cells": [
  {
   "cell_type": "markdown",
   "id": "3fcfcd4b",
   "metadata": {},
   "source": [
    "# Data Extraction and Detecting Time Series Components"
   ]
  },
  {
   "cell_type": "markdown",
   "id": "64ae9ec9",
   "metadata": {},
   "source": [
    "First thing first, let me import the Python libraries first."
   ]
  },
  {
   "cell_type": "code",
   "execution_count": 1,
   "id": "8f214d49",
   "metadata": {},
   "outputs": [],
   "source": [
    "import requests\n",
    "from io import StringIO\n",
    "import numpy as np\n",
    "import pandas as pd\n",
    "import matplotlib.pyplot as plt\n",
    "import datetime\n",
    "import statsmodels.api as sm\n",
    "from statsmodels.tsa.stattools import adfuller\n",
    "from statsmodels.tsa.seasonal import seasonal_decompose\n",
    "import warnings\n",
    "warnings.filterwarnings('ignore')"
   ]
  },
  {
   "cell_type": "markdown",
   "id": "08f4a873",
   "metadata": {},
   "source": [
    "For the sake of practice, let me work with telecom industry and to do that I pick `AT&T` (T) and `Verizon` (VZ). As a stock price I choose closing price, which is more stable and informative compared to high, low, open. Adjusted closing price would be an another good choice. "
   ]
  },
  {
   "cell_type": "markdown",
   "id": "c5ee9ab6",
   "metadata": {},
   "source": [
    "The period that I cover is 01/01/2020-06/01/2021 and the stock price data is daily, meaning that we have 253 observations. "
   ]
  },
  {
   "cell_type": "markdown",
   "id": "67c2337b",
   "metadata": {},
   "source": [
    "Please note that you can also use [pandas datareader](https://pandas-datareader.readthedocs.io/en/latest/) to make use of yahoo finance as well as other APIs to access the stock price"
   ]
  },
  {
   "cell_type": "code",
   "execution_count": 2,
   "id": "3a17dd86",
   "metadata": {},
   "outputs": [],
   "source": [
    "def getDailyData(symbol):\n",
    "        parameters = {'function': 'TIME_SERIES_DAILY_ADJUSTED', 'symbol': symbol,\n",
    "                       'outputsize':'full',\n",
    "                       'datatype': 'csv', \n",
    "                       'apikey': 'LL1WA15IW41XV2T2'}\n",
    "\n",
    "        response = requests.get('https://www.alphavantage.co/query', params=parameters)\n",
    "\n",
    "        # Process the CSV file retrieved\n",
    "        csvText = StringIO(response.text)\n",
    "        data = pd.read_csv(csvText, index_col='timestamp')\n",
    "        return data"
   ]
  },
  {
   "cell_type": "code",
   "execution_count": 3,
   "id": "0dfb2c23",
   "metadata": {},
   "outputs": [],
   "source": [
    "symbols= ['T', 'VZ']\n",
    "data=[]\n",
    "for symbol in symbols:\n",
    "    data.append(getDailyData(symbol)[::-1]['close']['2019,1,1': '2021,6,1'])# <4>\n",
    "stock_prices=pd.DataFrame(data).T\n",
    "stock_prices.columns=symbols"
   ]
  },
  {
   "cell_type": "code",
   "execution_count": 4,
   "id": "a04fa9ad",
   "metadata": {},
   "outputs": [],
   "source": [
    "stock_prices.to_csv('stock_prices.csv')"
   ]
  },
  {
   "cell_type": "code",
   "execution_count": 5,
   "id": "977c9811",
   "metadata": {},
   "outputs": [],
   "source": [
    "stock_prices['timestamp'] = pd.to_datetime(stock_prices.index)\n",
    "stock_prices.set_index(stock_prices['timestamp'])\n",
    "del stock_prices['timestamp']"
   ]
  },
  {
   "cell_type": "code",
   "execution_count": 6,
   "id": "ced3e929",
   "metadata": {},
   "outputs": [
    {
     "data": {
      "text/html": [
       "<div>\n",
       "<style scoped>\n",
       "    .dataframe tbody tr th:only-of-type {\n",
       "        vertical-align: middle;\n",
       "    }\n",
       "\n",
       "    .dataframe tbody tr th {\n",
       "        vertical-align: top;\n",
       "    }\n",
       "\n",
       "    .dataframe thead th {\n",
       "        text-align: right;\n",
       "    }\n",
       "</style>\n",
       "<table border=\"1\" class=\"dataframe\">\n",
       "  <thead>\n",
       "    <tr style=\"text-align: right;\">\n",
       "      <th></th>\n",
       "      <th>T</th>\n",
       "      <th>VZ</th>\n",
       "    </tr>\n",
       "    <tr>\n",
       "      <th>timestamp</th>\n",
       "      <th></th>\n",
       "      <th></th>\n",
       "    </tr>\n",
       "  </thead>\n",
       "  <tbody>\n",
       "    <tr>\n",
       "      <th>2019-01-02</th>\n",
       "      <td>29.54</td>\n",
       "      <td>56.02</td>\n",
       "    </tr>\n",
       "    <tr>\n",
       "      <th>2019-01-03</th>\n",
       "      <td>29.58</td>\n",
       "      <td>56.22</td>\n",
       "    </tr>\n",
       "    <tr>\n",
       "      <th>2019-01-04</th>\n",
       "      <td>30.34</td>\n",
       "      <td>56.36</td>\n",
       "    </tr>\n",
       "    <tr>\n",
       "      <th>2019-01-07</th>\n",
       "      <td>30.89</td>\n",
       "      <td>56.72</td>\n",
       "    </tr>\n",
       "    <tr>\n",
       "      <th>2019-01-08</th>\n",
       "      <td>31.28</td>\n",
       "      <td>58.38</td>\n",
       "    </tr>\n",
       "  </tbody>\n",
       "</table>\n",
       "</div>"
      ],
      "text/plain": [
       "                T     VZ\n",
       "timestamp               \n",
       "2019-01-02  29.54  56.02\n",
       "2019-01-03  29.58  56.22\n",
       "2019-01-04  30.34  56.36\n",
       "2019-01-07  30.89  56.72\n",
       "2019-01-08  31.28  58.38"
      ]
     },
     "execution_count": 6,
     "metadata": {},
     "output_type": "execute_result"
    }
   ],
   "source": [
    "stock_prices.head()"
   ]
  },
  {
   "cell_type": "code",
   "execution_count": 7,
   "id": "1d0860c9",
   "metadata": {},
   "outputs": [
    {
     "data": {
      "image/png": "[encoded data removed]",
      "text/plain": [
       "<Figure size 432x288 with 1 Axes>"
      ]
     },
     "metadata": {
      "needs_background": "light"
     },
     "output_type": "display_data"
    }
   ],
   "source": [
    "stock_prices.plot()\n",
    "plt.title('Stock Prices')\n",
    "plt.ylabel('$')\n",
    "plt.xlabel('Date')\n",
    "plt.show()"
   ]
  },
  {
   "cell_type": "markdown",
   "id": "53ee59e5",
   "metadata": {},
   "source": [
    "There are some striking observation that I can get from this plot. One of them is the sudden drop occured in the mid of 2020. This corresponds to Covid-19 pandemic and therefore it makes sense to say that pandemic badly affected the stock prices in telecom industry as well as others. The other important observation is that stock price of Verizon exhibits a clear upward movement. However, even though a modest upward trend is visible during pre-Covid-19 era for AT&T, the stock price of this company has not revert back to its previous level."
   ]
  }
 ],
 "metadata": {
  "kernelspec": {
   "display_name": "Python 3",
   "language": "python",
   "name": "python3"
  },
  "language_info": {
   "codemirror_mode": {
    "name": "ipython",
    "version": 3
   },
   "file_extension": ".py",
   "mimetype": "text/x-python",
   "name": "python",
   "nbconvert_exporter": "python",
   "pygments_lexer": "ipython3",
   "version": "3.8.8"
  }
 },
 "nbformat": 4,
 "nbformat_minor": 5
}
