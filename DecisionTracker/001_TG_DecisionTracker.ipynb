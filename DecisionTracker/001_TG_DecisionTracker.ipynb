{
 "cells": [
  {
   "cell_type": "markdown",
   "metadata": {},
   "source": [
    "## Project: Decision Tracker\n",
    "## Making informed decisions based on personal data\n",
    "**Source:** Own files"
   ]
  },
  {
   "cell_type": "markdown",
   "metadata": {},
   "source": [
    "### 1. Setting up environment\n",
    "\n",
    "#### 1.1 Importing packages & setting-up parameters"
   ]
  },
  {
   "cell_type": "code",
   "execution_count": 1,
   "metadata": {},
   "outputs": [],
   "source": [
    "# Import parent directory (main project directory)\n",
    "# for packages importing\n",
    "import sys\n",
    "import os\n",
    "\n",
    "# Getting the parent directory name in which your script is running\n",
    "parent = os.path.dirname(os.path.realpath('/'))\n",
    "\n",
    "# adding the parent directory to\n",
    "# the sys.path.\n",
    "sys.path.append(parent)\n",
    "\n",
    "# now we can import the module in the parent\n",
    "# directory.\n"
   ]
  },
  {
   "cell_type": "code",
   "execution_count": 2,
   "metadata": {},
   "outputs": [],
   "source": [
    "import requests # to download data from api\n",
    "import pandas as pd\n",
    "import datetime as dt\n",
    "import matplotlib.pyplot as plt\n",
    "import pathlib # for path functions\n",
    "import numpy as np\n",
    "\n",
    "import sqlite3\n",
    "import seaborn as sns\n",
    "import ipywidgets as widgets\n",
    "from IPython.display import clear_output, display\n",
    "\n",
    "#turning on plot display in JN\n",
    "%matplotlib inline \n",
    "# Setting pandas display options\n",
    "pd.options.display.max_columns = 300\n",
    "pd.options.display.max_rows = 100\n",
    "pd.options.display.max_colwidth = 250\n"
   ]
  },
  {
   "cell_type": "code",
   "execution_count": 3,
   "metadata": {},
   "outputs": [],
   "source": [
    "# PARAMETERS\n",
    "plt.style.use('fivethirtyeight')\n"
   ]
  },
  {
   "cell_type": "code",
   "execution_count": 4,
   "metadata": {},
   "outputs": [
    {
     "name": "stdout",
     "output_type": "stream",
     "text": [
      "C:\\Users\\tgusc\\Documents\\GitHub\n"
     ]
    }
   ],
   "source": [
    "DataFolderPath = pathlib.Path(os.path.dirname(os.path.realpath(''))).parent\n",
    "print(DataFolderPath)\n"
   ]
  },
  {
   "cell_type": "code",
   "execution_count": 5,
   "metadata": {},
   "outputs": [],
   "source": [
    "#CLASSES\n"
   ]
  },
  {
   "cell_type": "code",
   "execution_count": 6,
   "metadata": {},
   "outputs": [],
   "source": [
    "def import_bills(filename, sheet_name):\n",
    "    # Necessary requirements - DataFolderPath\n",
    "    file = os.path.join(DataFolderPath, 'Private', filename)\n",
    "    data_in = pd.read_excel(file, sheet_name = sheet_name , decimal=',')\n",
    "    data_out = data_in\n",
    "    # Cleaning data\n",
    "    data_out = data_out[data_out[\"Rok\"] != 1900].copy() # usuwanie wierszy bez dat\n",
    "    data_out = data_out[data_out[\"Kategoria\"].notna()].copy()\n",
    "\n",
    "    # Changing types\n",
    "    data_out[\"LP\"] = data_out[\"LP\"].astype(np.int32)\n",
    "    data_out[\"Rok\"] = data_out[\"Rok\"].astype(np.int32)\n",
    "    data_out[\"Miesiac\"] = data_out[\"Miesiac\"].astype(np.int32)\n",
    "    data_out[\"Data\"] = pd.to_datetime(data_out[\"Data\"])\n",
    "    data_out[\"Cena\"] = data_out[\"Cena\"].replace(',','.').astype(float)\n",
    "    if \"Nr koszyka\" in data_out.columns:\n",
    "        data_out[\"Nr koszyka\"] = data_out[\"Nr koszyka\"].astype(str)\n",
    "\n",
    "    def clean_category(category):\n",
    "        return category.lower().strip()\n",
    "\n",
    "    # Oczyszczanie nazw kategorii\n",
    "    data_out['Kategoria'] = data_out['Kategoria'].apply(clean_category)\n",
    "\n",
    "    print(data_out.tail()) # sample check\n",
    "    return data_out\n",
    "\n"
   ]
  },
  {
   "cell_type": "code",
   "execution_count": 7,
   "metadata": {},
   "outputs": [],
   "source": [
    "def sql_sum(data_in):\n",
    "    # 2. Stworzenie lokalnej bazy danych SQLite\n",
    "    conn = sqlite3.connect('transactions_db.sqlite')\n",
    "    data_in.to_sql('transactions', conn, if_exists='replace', index=False)\n",
    "    conn.commit()\n",
    "\n",
    "    # Przygotowanie agregacji danych\n",
    "    query_sum = \"SELECT Rok, Miesiac, Rodzaj, Kategoria, SUM(Cena) AS Suma FROM transactions GROUP BY Rok, Miesiac, Kategoria, Rodzaj\"\n",
    "    data_out = pd.read_sql(query_sum, conn)\n",
    "    print(data_out.tail())\n",
    "    return data_out\n"
   ]
  },
  {
   "cell_type": "code",
   "execution_count": 8,
   "metadata": {},
   "outputs": [],
   "source": [
    "class WidgetBarPlot():\n",
    "    def __init__(self, data_in):\n",
    "        self.data_in = data_in\n",
    "        self._data_filters()\n",
    "    \n",
    "    def _data_filters(self):\n",
    "        self._years = sorted(self.data_in['Rok'].unique())\n",
    "        self._months = sorted(self.data_in['Miesiac'].unique())\n",
    "        self._rodzaje = sorted(self.data_in['Rodzaj'].unique())\n",
    "        self._kategorie = sorted(self.data_in['Kategoria'].unique())  # Nowy filtr dla kategorii\n",
    "        \n",
    "        self.default_year = max(self._years)\n",
    "        self.default_rodzaj = \"Debit\"\n",
    "        self.default_month = max(self.data_in[self.data_in['Rok'] == self.default_year][\"Miesiac\"])\n",
    "        self.default_kategoria = self._kategorie  # Domyślnie wszystkie kategorie są zaznaczone\n",
    "\n",
    "    def _barplot(self, years, months, rodzaje, kategorie):\n",
    "        # Filtrujemy dane według wybranych lat, miesięcy, rodzajów transakcji i kategorii\n",
    "        data = self.data_in[\n",
    "            self.data_in['Rok'].isin(years) & \n",
    "            self.data_in['Miesiac'].isin(months) & \n",
    "            self.data_in['Rodzaj'].isin(rodzaje) &\n",
    "            self.data_in['Kategoria'].isin(kategorie)  # Dodatkowy filtr dla kategorii\n",
    "        ].sort_values('Suma')\n",
    "        \n",
    "        plt.figure(figsize=(10, 8))\n",
    "        ax = sns.barplot(data=data, x='Miesiac', y='Suma', hue='Kategoria', order=data['Miesiac'].unique())\n",
    "        \n",
    "        # Dodajemy etykiety do słupków\n",
    "        for p in ax.patches:\n",
    "            ax.annotate(f'{p.get_height():.0f}', \n",
    "                        (p.get_x() + p.get_width() / 2., p.get_height() - p.get_height()/10), \n",
    "                        ha='center', va='center', \n",
    "                        xytext=(0, -10), \n",
    "                        textcoords='offset points')\n",
    "        \n",
    "        plt.title('Miesięczne wpływy/koszty w podziale na kategorie')\n",
    "        \n",
    "        # Przenoszenie legendy pod wykres\n",
    "        ax.legend(title='Kategoria', bbox_to_anchor=(0.5, -0.2), loc='upper center', ncol=3)\n",
    "        \n",
    "        plt.tight_layout()\n",
    "        plt.show()\n",
    "\n",
    "    def widget_plot(self):\n",
    "        # Uaktualnienie widgetu z wielokrotnym wyborem wartości\n",
    "        widgets.interact(\n",
    "            self._barplot, \n",
    "            years=widgets.SelectMultiple(options=self._years, description='Rok:', value=(self.default_year,)), \n",
    "            months=widgets.SelectMultiple(options=self._months, description='Miesiąc:', value=(self.default_month,)),\n",
    "            rodzaje=widgets.SelectMultiple(options=self._rodzaje, description='Rodzaj:', value=(self.default_rodzaj,)),\n",
    "            kategorie=widgets.SelectMultiple(options=self._kategorie, description='Kategoria:', value=self.default_kategoria, \n",
    "                                             layout=widgets.Layout(height='200px'))  # Ustalanie wysokości widgetu\n",
    "        )\n"
   ]
  },
  {
   "cell_type": "code",
   "execution_count": 9,
   "metadata": {},
   "outputs": [],
   "source": [
    "class WidgetBarPlot_lastNMonths():\n",
    "    def __init__(self, data_in):\n",
    "        self.data_in = data_in\n",
    "        self._data_params()\n",
    "    \n",
    "    def _data_params(self):\n",
    "        self._categories = sorted(list(set(self.data_in['Kategoria'].unique())))\n",
    "        self._types = sorted(list(set(self.data_in['Rodzaj'].unique())))\n",
    "        self._rodzaj = (\"Debit\",)\n",
    "\n",
    "        # Znalezienie najdłuższej kategorii\n",
    "        self._max_length = max(self._categories, key=len)\n",
    "\n",
    "    def _barplot_lastn(self, categories, last_n_months, rodzaj):\n",
    "        # Pobieranie najnowszej dostępnej daty\n",
    "        latest_year = max(self.data_in['Rok'])\n",
    "        latest_month = max(self.data_in[self.data_in['Rok'] == latest_year][\"Miesiac\"])\n",
    "        \n",
    "        # Określenie zakresu daty na podstawie last_n_months\n",
    "        end_month = latest_month\n",
    "        end_year = latest_year\n",
    "        \n",
    "        start_month = latest_month - last_n_months + 1\n",
    "        start_year = latest_year\n",
    "        while start_month <= 0:\n",
    "            start_month += 12\n",
    "            start_year -= 1\n",
    "\n",
    "        # Filtrujemy dane według wybranego zakresu czasu, rodzaju i kategorii\n",
    "        filtered_data = self.data_in[\n",
    "            ((self.data_in['Rok'] > start_year) | \n",
    "            ((self.data_in['Rok'] == start_year) & (self.data_in['Miesiac'] >= start_month)) &\n",
    "            ((self.data_in['Rok'] < end_year) |\n",
    "            ((self.data_in['Rok'] == end_year) & (self.data_in['Miesiac'] <= end_month)))) &\n",
    "            (self.data_in['Rodzaj'].isin(rodzaj)) &\n",
    "            (self.data_in['Kategoria'].isin(categories))\n",
    "        ]\n",
    "\n",
    "        # Sumowanie danych dla wybranych kategorii\n",
    "        summed_data = filtered_data.groupby(['Rok', 'Miesiac']).agg({'Suma': 'sum'}).reset_index()\n",
    "        \n",
    "        # Dodawanie kolumny \"rok-miesiąc\" do summed_data\n",
    "        summed_data['Rok-Miesiac'] = summed_data['Rok'].astype(str) + \"-\" + summed_data['Miesiac'].astype(str).str.zfill(2)\n",
    "        \n",
    "        plt.figure(figsize=(15, 8))\n",
    "        \n",
    "        # Tworzenie wykresu słupkowego\n",
    "        ax = sns.barplot(data=summed_data, x='Rok-Miesiac', y='Suma')\n",
    "        \n",
    "        # Dodawanie etykiet do słupków\n",
    "        for p in ax.patches:\n",
    "            ax.annotate(f'{p.get_height():.0f}', \n",
    "                        (p.get_x() + p.get_width() / 2., p.get_height() - p.get_height()/10), \n",
    "                        ha='center', va='center', \n",
    "                        xytext=(0, -10), \n",
    "                        textcoords='offset points')\n",
    "        \n",
    "        plt.title('Miesięczne wpływy/koszty w podziale na kategorie')\n",
    "        plt.tight_layout()\n",
    "        \n",
    "        plt.show()\n",
    "\n",
    "\n",
    "    def widget_plot(self):\n",
    "    # Uruchamiam interaktywną wizualizację\n",
    "        widgets.interact(\n",
    "            self._barplot_lastn, \n",
    "            categories=widgets.SelectMultiple(\n",
    "                options=self._categories, \n",
    "                description='Kategoria:', \n",
    "                layout=widgets.Layout(width=f'{len(self._max_length) * 8 + 20}px', height=f'{int(len(self._categories)*25*0.85)}px'),\n",
    "                value=self._categories  # Domyślnie zaznacz wszystkie kategorie\n",
    "            ),\n",
    "            last_n_months=widgets.Dropdown(options=[3, 6, 9, 12, 18, 24], description='Ostatnie miesiące:', value=6),\n",
    "            rodzaj=widgets.SelectMultiple(options=self._types, description='Rodzaj:', value=self._rodzaj)\n",
    "        )\n"
   ]
  },
  {
   "cell_type": "code",
   "execution_count": 10,
   "metadata": {},
   "outputs": [],
   "source": [
    "class PivotTimeRange():\n",
    "    def __init__(self, data_in):\n",
    "        self.data_in = data_in\n",
    "        self._data_filters()\n",
    "        self._widgets()\n",
    "    \n",
    "    def _data_filters(self):\n",
    "        self.data_in['Rok-Miesiac'] = self.data_in['Rok'].astype(str) + '-' + self.data_in['Miesiac'].astype(str).str.zfill(2)\n",
    "        \n",
    "        # Ustalanie indeksów dla najnowszego roku w danych\n",
    "        self.current_year = self.data_in['Rok'].max()\n",
    "        self.start_idx = self.data_in[self.data_in['Rok'] == self.current_year]['Rok-Miesiac'].min()\n",
    "        self.end_idx = self.data_in[self.data_in['Rok'] == self.current_year]['Rok-Miesiac'].max()\n",
    "\n",
    "\n",
    "    def _widgets(self):\n",
    "        # Widgety\n",
    "        self.date_range = widgets.SelectionRangeSlider(\n",
    "            options=sorted(self.data_in['Rok-Miesiac'].unique()),\n",
    "            index=(self.data_in['Rok-Miesiac'].unique().tolist().index(self.start_idx), \n",
    "                self.data_in['Rok-Miesiac'].unique().tolist().index(self.end_idx)),\n",
    "            description='Zakres dat:',\n",
    "            continuous_update=False,\n",
    "            layout=widgets.Layout(width='500px')\n",
    "        )\n",
    "\n",
    "        self.category_selector = widgets.SelectMultiple(\n",
    "            options=sorted(self.data_in['Kategoria'].unique()),\n",
    "            value=list(self.data_in['Kategoria'].unique()),\n",
    "            description='Kategoria:',\n",
    "            continuous_update=False,\n",
    "            rows=len(self.data_in['Kategoria'].unique()),\n",
    "            layout=widgets.Layout(width='1000px')\n",
    "        )\n",
    "\n",
    "        self.type_selector = widgets.SelectMultiple(\n",
    "            options=sorted(self.data_in['Rodzaj'].unique()),\n",
    "            value=['Debit'],\n",
    "            description='Rodzaj:',\n",
    "            continuous_update=False,\n",
    "            rows=len(self.data_in['Rodzaj'].unique())\n",
    "        )\n",
    "        self.output = widgets.Output()\n",
    "\n",
    "    def _update_table(self, change=None):\n",
    "        with self.output:\n",
    "            clear_output(wait=True)\n",
    "            filtered_data = self.data_in[\n",
    "                (self.data_in['Rok-Miesiac'] >= self.date_range.value[0]) &\n",
    "                (self.data_in['Rok-Miesiac'] <= self.date_range.value[1]) &\n",
    "                (self.data_in['Kategoria'].isin(self.category_selector.value)) &\n",
    "                (self.data_in['Rodzaj'].isin(self.type_selector.value))\n",
    "            ]\n",
    "            pivot = filtered_data.pivot_table(index='Kategoria', columns='Rok-Miesiac', values='Suma', aggfunc='sum').fillna(0).sort_index()\n",
    "            \n",
    "            # Zaokrąglenie do 2 miejsc po przecinku\n",
    "            pivot = pivot.round(2)\n",
    "            \n",
    "            # Dodanie kolumny \"Sum_total\"\n",
    "            pivot['Sum_total'] = pivot.sum(axis=1)\n",
    "            \n",
    "            # Dodanie wiersza \"TOTAL\"\n",
    "            pivot.loc['TOTAL'] = pivot.sum()\n",
    "            \n",
    "            display(pivot)\n",
    "\n",
    "    def pivot_calc(self):\n",
    "        self.date_range.observe(self._update_table, names='value')\n",
    "        self.category_selector.observe(self._update_table, names='value')\n",
    "        self.type_selector.observe(self._update_table, names='value')\n",
    "\n",
    "        display_widgets = widgets.VBox([self.date_range, self.category_selector, self.type_selector, self.output])\n",
    "        display(display_widgets)\n",
    "        self._update_table()\n"
   ]
  },
  {
   "cell_type": "code",
   "execution_count": 11,
   "metadata": {},
   "outputs": [],
   "source": [
    "# filename = 'Wydatki_2021.xlsx'\n",
    "# file = os.path.join(DataFolderPath, 'Private', filename)\n"
   ]
  },
  {
   "cell_type": "code",
   "execution_count": 12,
   "metadata": {},
   "outputs": [],
   "source": [
    "# Unused SQL Queries - move to beggining\n",
    "\n",
    "\n",
    "# 3. Przygotowanie agregacji danych\n",
    "# Miesięczne wpływy\n",
    "# query_monthly_income = \"SELECT Rok, Miesiac, Kategoria, SUM(Cena) AS Wplywy FROM transactions WHERE Rodzaj = 'Credit' GROUP BY Rok, Miesiac, Kategoria\"\n",
    "# monthly_income_by_type = pd.read_sql(query_monthly_income, conn)\n",
    "\n",
    "# Miesięczne wydatki\n",
    "# query_monthly_expenses = \"SELECT Rok, Miesiac, Kategoria, SUM(Cena) AS Wydatki FROM transactions WHERE Rodzaj = 'Debit' GROUP BY Rok, Miesiac, Kategoria\"\n",
    "# monthly_expenses_by_type = pd.read_sql(query_monthly_expenses, conn)\n",
    "\n",
    "# Miesięczne przepływy\n",
    "# query_monthly_flow = \"SELECT Rok, Miesiac, SUM(Case When Rodzaj = 'Credit' THEN Cena ELSE 0 END) as Wplywy, SUM(Case When Rodzaj = 'Debit' THEN Cena ELSE 0 END) as Wydatki FROM transactions GROUP BY Rok, Miesiac\"\n",
    "# monthly_flow = pd.read_sql(query_monthly_flow, conn)\n",
    "# monthly_flow[\"Przeplywy\"] = monthly_flow[\"Wplywy\"] + monthly_flow[\"Wydatki\"]\n",
    "\n",
    "# Analiza miesięcznej struktury wydatków\n",
    "# monthly_expenses_by_type['Procent'] = monthly_expenses_by_type.groupby(['Rok', 'Miesiac'])['Wydatki'].transform(lambda x: x / x.sum() * 100)\n",
    "\n",
    "# 4. Przygotowanie danych kumulatywnych\n",
    "# Kumulacyjne wpływy\n",
    "# monthly_income_by_type['Kumulacyjne_Wplywy'] = monthly_income_by_type.groupby(['Rok', 'Kategoria'])['Wplywy'].cumsum()\n",
    "\n",
    "# Kumulacyjne wydatki\n",
    "# monthly_expenses_by_type['Kumulacyjne_Wydatki'] = monthly_expenses_by_type.groupby(['Rok', 'Kategoria'])['Wydatki'].cumsum()\n",
    "\n",
    "# Kumulacyjne przepływy\n",
    "# monthly_flow['Kumulacyjne_Wplywy'] = monthly_flow.groupby('Rok')['Wplywy'].cumsum()\n",
    "# monthly_flow['Kumulacyjne_Wydatki'] = monthly_flow.groupby('Rok')['Wydatki'].cumsum()\n",
    "# monthly_flow['Kumulacyjne_Przeplywy'] = monthly_flow['Kumulacyjne_Wplywy'] + monthly_flow['Kumulacyjne_Wydatki']\n",
    "\n",
    "# Kumulacyjna analiza struktury wydatków\n",
    "# cumulative_expenses_sum = monthly_expenses_by_type.groupby(['Rok', 'Miesiac'])['Kumulacyjne_Wydatki'].sum().reset_index()\n",
    "# cumulative_expenses_sum = cumulative_expenses_sum.rename(columns={'Kumulacyjne_Wydatki': 'Suma_Kumulacyjnych_Wydatkow'})\n",
    "# cumulative_expenses_structure = pd.merge(monthly_expenses_by_type, cumulative_expenses_sum, on=['Rok', 'Miesiac'])\n",
    "# cumulative_expenses_structure['Procent_Kumulacyjny'] = cumulative_expenses_structure['Kumulacyjne_Wydatki'] / cumulative_expenses_structure['Suma_Kumulacyjnych_Wydatkow'] \n"
   ]
  },
  {
   "cell_type": "code",
   "execution_count": 13,
   "metadata": {},
   "outputs": [
    {
     "name": "stdout",
     "output_type": "stream",
     "text": [
      "        LP       Data                                 Przedmiot    Cena  \\\n",
      "4887  4821 2023-10-14  Zdjęcia do paszportu I dowodu osobistego   -60.0   \n",
      "4888  4822 2023-10-14        Eyeshield.pl 2x okulary korekcyjne -1627.2   \n",
      "4889  4823 2023-10-16            Kurs programowania obiektowego  -159.0   \n",
      "4890  4824 2023-10-17               Opłata za wydanie paszportu  -140.0   \n",
      "4891  4825 2023-10-17            Zamiana PLN na EUR w Revolucie -1329.0   \n",
      "\n",
      "     Waluta                          Sklep                       Miejsce  \\\n",
      "4887    PLN                     studio mtj            Warszawa Bolkowska   \n",
      "4888    PLN                   eyeshield.pl            eyeshield.pl (WWW)   \n",
      "4889    PLN                    devbites.pl             devbites.pl (WWW)   \n",
      "4890    PLN  Urząd Dzielnicy Miasto Bemowo  Warszawa Powstańców Śląskich   \n",
      "4891    PLN                        Revolut                       Revolut   \n",
      "\n",
      "     Nr koszyka            Skad    Potrzeba                       Kategoria  \\\n",
      "4887     3739.0  Citi Kredytowa    Potrzeba         inne niezbędne potrzeby   \n",
      "4888     3740.0  Citi Kredytowa    Potrzeba          koszty leczenia i leki   \n",
      "4889     3741.0  Citi Kredytowa  Zachcianka  własny rozwój (kursy, zajęcia)   \n",
      "4890     3742.0  Citi Kredytowa  Zachcianka         inne niezbędne potrzeby   \n",
      "4891     3743.0  Mbank Debetowa  Zachcianka     rezerwa na wakacje i urlopy   \n",
      "\n",
      "          Grupa   Rok  Miesiac Rodzaj Komentarz  \n",
      "4887    Grupa I  2023       10  Debit       NaN  \n",
      "4888    Grupa I  2023       10  Debit       NaN  \n",
      "4889  Grupa III  2023       10  Debit       NaN  \n",
      "4890    Grupa I  2023       10  Debit       NaN  \n",
      "4891  Grupa III  2023       10  Debit       NaN  \n"
     ]
    },
    {
     "name": "stderr",
     "output_type": "stream",
     "text": [
      "c:\\ProgramData\\Anaconda3\\lib\\site-packages\\openpyxl\\worksheet\\_read_only.py:81: UserWarning: Data Validation extension is not supported and will be removed\n",
      "  for idx, row in parser.parse():\n"
     ]
    }
   ],
   "source": [
    "wydatki = import_bills(filename = 'Wydatki_2021.xlsx', sheet_name = 'Wydatki')\n"
   ]
  },
  {
   "cell_type": "code",
   "execution_count": 14,
   "metadata": {},
   "outputs": [
    {
     "name": "stdout",
     "output_type": "stream",
     "text": [
      "        LP       Data                                       Przedmiot    Cena  \\\n",
      "1267  1257 2023-10-17                              Zakupy w Rossmanie  -39.97   \n",
      "1268  1248 2023-10-18  2x bilet na Kaza Bałagane palladium 01.12.2023 -219.94   \n",
      "1269  1249 2023-10-18              Disney plus subskrypcja miesięczna  -28.99   \n",
      "1270  1250 2023-10-18                                            Uber  -29.58   \n",
      "1271  1251 2023-10-18                                            Uber  -22.31   \n",
      "\n",
      "     Waluta           Sklep    Kto    Potrzeba                    Kategoria  \\\n",
      "1267    PLN         Rossman    Ada    Potrzeba  higiena, kosmetyki, fryzjer   \n",
      "1268    PLN    Biletomat.pl  Tomek  Zachcianka      rozrywka i przyjemności   \n",
      "1269    PLN  disneyplus.com  Tomek  Zachcianka      rozrywka i przyjemności   \n",
      "1270    PLN            Uber  Tomek  Zachcianka                         taxi   \n",
      "1271    PLN            Uber  Tomek  Zachcianka                         taxi   \n",
      "\n",
      "         Grupa   Rok  Miesiac Rodzaj Komentarz  \n",
      "1267   Grupa I  2023       10  Debit       NaN  \n",
      "1268  Grupa IV  2023       10  Debit       NaN  \n",
      "1269  Grupa IV  2023       10  Debit       NaN  \n",
      "1270  Grupa IV  2023       10  Debit       NaN  \n",
      "1271  Grupa IV  2023       10  Debit       NaN  \n"
     ]
    },
    {
     "name": "stderr",
     "output_type": "stream",
     "text": [
      "c:\\ProgramData\\Anaconda3\\lib\\site-packages\\openpyxl\\worksheet\\_read_only.py:81: UserWarning: Data Validation extension is not supported and will be removed\n",
      "  for idx, row in parser.parse():\n"
     ]
    }
   ],
   "source": [
    "wydatki_wspolne = import_bills(filename = 'Wydatki_2021.xlsx', sheet_name = 'Wydatki_KontoWspolne')\n"
   ]
  },
  {
   "cell_type": "code",
   "execution_count": 15,
   "metadata": {},
   "outputs": [
    {
     "name": "stdout",
     "output_type": "stream",
     "text": [
      "       Rok  Miesiac Rodzaj                       Kategoria     Suma\n",
      "1056  2023       10  Debit                      suplementy -1371.25\n",
      "1057  2023       10  Debit                       transport  -270.40\n",
      "1058  2023       10  Debit                         ubranie   -73.99\n",
      "1059  2023       10  Debit          wspólny rachunek - ada -9224.13\n",
      "1060  2023       10  Debit  własny rozwój (kursy, zajęcia) -1817.99\n"
     ]
    }
   ],
   "source": [
    "monthly_wydatki = sql_sum(wydatki)\n"
   ]
  },
  {
   "cell_type": "code",
   "execution_count": 16,
   "metadata": {},
   "outputs": [
    {
     "name": "stdout",
     "output_type": "stream",
     "text": [
      "      Rok  Miesiac Rodzaj                       Kategoria    Suma\n",
      "296  2023       10  Debit         rozrywka i przyjemności -296.93\n",
      "297  2023       10  Debit                       szastusia -138.98\n",
      "298  2023       10  Debit                            taxi  -68.75\n",
      "299  2023       10  Debit                       transport -279.54\n",
      "300  2023       10  Debit  własny rozwój (kursy, zajęcia)  -60.00\n"
     ]
    }
   ],
   "source": [
    "monthly_wspolne = sql_sum(wydatki_wspolne)\n"
   ]
  },
  {
   "cell_type": "code",
   "execution_count": 17,
   "metadata": {},
   "outputs": [],
   "source": [
    "# https://www.google.com/search?client=firefox-b-d&q=vs+code+interactive+plots+in+python#ip=1\n"
   ]
  },
  {
   "cell_type": "code",
   "execution_count": 18,
   "metadata": {},
   "outputs": [
    {
     "data": {
      "application/vnd.jupyter.widget-view+json": {
       "model_id": "9ca5d204410f402099750b0466f4b4d5",
       "version_major": 2,
       "version_minor": 0
      },
      "text/plain": [
       "interactive(children=(SelectMultiple(description='Rok:', index=(4,), options=(2019, 2020, 2021, 2022, 2023), v…"
      ]
     },
     "metadata": {},
     "output_type": "display_data"
    }
   ],
   "source": [
    "wydatki_barplot = WidgetBarPlot(data_in = monthly_wydatki)\n",
    "wydatki_barplot.widget_plot()\n"
   ]
  },
  {
   "cell_type": "code",
   "execution_count": 19,
   "metadata": {},
   "outputs": [
    {
     "data": {
      "application/vnd.jupyter.widget-view+json": {
       "model_id": "1d2a7993809046159d3f0d982dec2697",
       "version_major": 2,
       "version_minor": 0
      },
      "text/plain": [
       "interactive(children=(SelectMultiple(description='Rok:', index=(1,), options=(2022, 2023), value=(2023,)), Sel…"
      ]
     },
     "metadata": {},
     "output_type": "display_data"
    }
   ],
   "source": [
    "wspolne_barplot = WidgetBarPlot(data_in = monthly_wspolne)\n",
    "wspolne_barplot.widget_plot()\n"
   ]
  },
  {
   "cell_type": "code",
   "execution_count": 20,
   "metadata": {},
   "outputs": [
    {
     "data": {
      "application/vnd.jupyter.widget-view+json": {
       "model_id": "fa8c457c79c64f8cb206a5658ca51efb",
       "version_major": 2,
       "version_minor": 0
      },
      "text/plain": [
       "interactive(children=(SelectMultiple(description='Kategoria:', index=(0, 1, 2, 3, 4, 5, 6, 7, 8, 9, 10, 11, 12…"
      ]
     },
     "metadata": {},
     "output_type": "display_data"
    }
   ],
   "source": [
    "wydatki_lastN = WidgetBarPlot_lastNMonths(data_in = monthly_wydatki)\n",
    "wydatki_lastN.widget_plot()\n"
   ]
  },
  {
   "cell_type": "code",
   "execution_count": 21,
   "metadata": {},
   "outputs": [
    {
     "data": {
      "application/vnd.jupyter.widget-view+json": {
       "model_id": "62e4634f7d6349fd8078f52ec8729f51",
       "version_major": 2,
       "version_minor": 0
      },
      "text/plain": [
       "interactive(children=(SelectMultiple(description='Kategoria:', index=(0, 1, 2, 3, 4, 5, 6, 7, 8, 9, 10, 11, 12…"
      ]
     },
     "metadata": {},
     "output_type": "display_data"
    }
   ],
   "source": [
    "wspolne_lastN = WidgetBarPlot_lastNMonths(data_in = monthly_wspolne)\n",
    "wspolne_lastN.widget_plot()\n"
   ]
  },
  {
   "cell_type": "code",
   "execution_count": 22,
   "metadata": {},
   "outputs": [
    {
     "data": {
      "application/vnd.jupyter.widget-view+json": {
       "model_id": "8571487ec37343039dc536779bbe9e15",
       "version_major": 2,
       "version_minor": 0
      },
      "text/plain": [
       "VBox(children=(SelectionRangeSlider(continuous_update=False, description='Zakres dat:', index=(38, 47), layout…"
      ]
     },
     "metadata": {},
     "output_type": "display_data"
    }
   ],
   "source": [
    "wydatki_pivot = PivotTimeRange(data_in = monthly_wydatki)\n",
    "wydatki_pivot.pivot_calc()\n"
   ]
  },
  {
   "cell_type": "code",
   "execution_count": 23,
   "metadata": {},
   "outputs": [
    {
     "data": {
      "application/vnd.jupyter.widget-view+json": {
       "model_id": "d85280f5e3674c45b44924ee94746933",
       "version_major": 2,
       "version_minor": 0
      },
      "text/plain": [
       "VBox(children=(SelectionRangeSlider(continuous_update=False, description='Zakres dat:', index=(8, 17), layout=…"
      ]
     },
     "metadata": {},
     "output_type": "display_data"
    }
   ],
   "source": [
    "wspolne_pivot = PivotTimeRange(data_in = monthly_wspolne)\n",
    "wspolne_pivot.pivot_calc()\n"
   ]
  },
  {
   "cell_type": "code",
   "execution_count": 24,
   "metadata": {},
   "outputs": [],
   "source": [
    "# DAĆ NET FLOW MIESIĘCZNY? JAK ZNIWELOWAĆ PRZEPŁYWY ŻEBY ZNAĆ TYLKO ZYSK/STRATĘ PER MIESIĄC?\n",
    "# JAKIE DECYZJE PODEJMOWAĆ? \n",
    "# GDZIE NAJWIĘKSZE WYDATKI?\n",
    "# GDZIE MOGĘ NAJWIĘCEJ OSZCZĘDZIĆ?\n"
   ]
  },
  {
   "cell_type": "code",
   "execution_count": 25,
   "metadata": {},
   "outputs": [
    {
     "ename": "NameError",
     "evalue": "name 'monthly_flow' is not defined",
     "output_type": "error",
     "traceback": [
      "\u001b[1;31m---------------------------------------------------------------------------\u001b[0m",
      "\u001b[1;31mNameError\u001b[0m                                 Traceback (most recent call last)",
      "\u001b[1;32mc:\\Users\\tgusc\\Documents\\GitHub\\Python\\DecisionTracker\\001_TG_DecisionTracker.ipynb Cell 27\u001b[0m line \u001b[0;36m3\n\u001b[0;32m      <a href='vscode-notebook-cell:/c%3A/Users/tgusc/Documents/GitHub/Python/DecisionTracker/001_TG_DecisionTracker.ipynb#X35sZmlsZQ%3D%3D?line=0'>1</a>\u001b[0m \u001b[39m# Wykres miesięcznych przepływów\u001b[39;00m\n\u001b[0;32m      <a href='vscode-notebook-cell:/c%3A/Users/tgusc/Documents/GitHub/Python/DecisionTracker/001_TG_DecisionTracker.ipynb#X35sZmlsZQ%3D%3D?line=1'>2</a>\u001b[0m plt\u001b[39m.\u001b[39mfigure(figsize\u001b[39m=\u001b[39m(\u001b[39m14\u001b[39m, \u001b[39m7\u001b[39m))\n\u001b[1;32m----> <a href='vscode-notebook-cell:/c%3A/Users/tgusc/Documents/GitHub/Python/DecisionTracker/001_TG_DecisionTracker.ipynb#X35sZmlsZQ%3D%3D?line=2'>3</a>\u001b[0m sns\u001b[39m.\u001b[39mlineplot(data\u001b[39m=\u001b[39mmonthly_flow, x\u001b[39m=\u001b[39m\u001b[39m'\u001b[39m\u001b[39mMiesiac\u001b[39m\u001b[39m'\u001b[39m, y\u001b[39m=\u001b[39m\u001b[39m'\u001b[39m\u001b[39mPrzeplywy\u001b[39m\u001b[39m'\u001b[39m, marker\u001b[39m=\u001b[39m\u001b[39m\"\u001b[39m\u001b[39mo\u001b[39m\u001b[39m\"\u001b[39m)\n\u001b[0;32m      <a href='vscode-notebook-cell:/c%3A/Users/tgusc/Documents/GitHub/Python/DecisionTracker/001_TG_DecisionTracker.ipynb#X35sZmlsZQ%3D%3D?line=3'>4</a>\u001b[0m plt\u001b[39m.\u001b[39mtitle(\u001b[39m'\u001b[39m\u001b[39mMiesięczne przepływy\u001b[39m\u001b[39m'\u001b[39m)\n\u001b[0;32m      <a href='vscode-notebook-cell:/c%3A/Users/tgusc/Documents/GitHub/Python/DecisionTracker/001_TG_DecisionTracker.ipynb#X35sZmlsZQ%3D%3D?line=4'>5</a>\u001b[0m plt\u001b[39m.\u001b[39mtight_layout()\n",
      "\u001b[1;31mNameError\u001b[0m: name 'monthly_flow' is not defined"
     ]
    },
    {
     "data": {
      "text/plain": [
       "<Figure size 1400x700 with 0 Axes>"
      ]
     },
     "metadata": {},
     "output_type": "display_data"
    }
   ],
   "source": [
    "# Wykres miesięcznych przepływów\n",
    "plt.figure(figsize=(14, 7))\n",
    "sns.lineplot(data=monthly_flow, x='Miesiac', y='Przeplywy', marker=\"o\")\n",
    "plt.title('Miesięczne przepływy')\n",
    "plt.tight_layout()\n",
    "plt.show()\n"
   ]
  },
  {
   "cell_type": "code",
   "execution_count": null,
   "metadata": {},
   "outputs": [
    {
     "data": {
      "text/html": [
       "<div>\n",
       "<style scoped>\n",
       "    .dataframe tbody tr th:only-of-type {\n",
       "        vertical-align: middle;\n",
       "    }\n",
       "\n",
       "    .dataframe tbody tr th {\n",
       "        vertical-align: top;\n",
       "    }\n",
       "\n",
       "    .dataframe thead th {\n",
       "        text-align: right;\n",
       "    }\n",
       "</style>\n",
       "<table border=\"1\" class=\"dataframe\">\n",
       "  <thead>\n",
       "    <tr style=\"text-align: right;\">\n",
       "      <th></th>\n",
       "      <th>Rok</th>\n",
       "      <th>Miesiac</th>\n",
       "      <th>Kategoria</th>\n",
       "      <th>Wydatki</th>\n",
       "      <th>Procent</th>\n",
       "      <th>Suma_Wydatkow</th>\n",
       "      <th>Procent_Struktury</th>\n",
       "    </tr>\n",
       "  </thead>\n",
       "  <tbody>\n",
       "    <tr>\n",
       "      <th>0</th>\n",
       "      <td>2019</td>\n",
       "      <td>11</td>\n",
       "      <td>alkohol</td>\n",
       "      <td>-120.86</td>\n",
       "      <td>9.804256</td>\n",
       "      <td>-1232.73</td>\n",
       "      <td>9.804256</td>\n",
       "    </tr>\n",
       "    <tr>\n",
       "      <th>1</th>\n",
       "      <td>2019</td>\n",
       "      <td>11</td>\n",
       "      <td>czynsz za mieszkanie</td>\n",
       "      <td>-517.74</td>\n",
       "      <td>41.999465</td>\n",
       "      <td>-1232.73</td>\n",
       "      <td>41.999465</td>\n",
       "    </tr>\n",
       "    <tr>\n",
       "      <th>2</th>\n",
       "      <td>2019</td>\n",
       "      <td>11</td>\n",
       "      <td>dowolne zakupy</td>\n",
       "      <td>-0.45</td>\n",
       "      <td>0.036504</td>\n",
       "      <td>-1232.73</td>\n",
       "      <td>0.036504</td>\n",
       "    </tr>\n",
       "    <tr>\n",
       "      <th>3</th>\n",
       "      <td>2019</td>\n",
       "      <td>11</td>\n",
       "      <td>higiena, kosmetyki, fryzjer</td>\n",
       "      <td>-6.99</td>\n",
       "      <td>0.567034</td>\n",
       "      <td>-1232.73</td>\n",
       "      <td>0.567034</td>\n",
       "    </tr>\n",
       "    <tr>\n",
       "      <th>4</th>\n",
       "      <td>2019</td>\n",
       "      <td>11</td>\n",
       "      <td>hobby, kino, teatr</td>\n",
       "      <td>-29.70</td>\n",
       "      <td>2.409287</td>\n",
       "      <td>-1232.73</td>\n",
       "      <td>2.409287</td>\n",
       "    </tr>\n",
       "    <tr>\n",
       "      <th>5</th>\n",
       "      <td>2019</td>\n",
       "      <td>11</td>\n",
       "      <td>jedzenie i picie</td>\n",
       "      <td>-185.25</td>\n",
       "      <td>15.027622</td>\n",
       "      <td>-1232.73</td>\n",
       "      <td>15.027622</td>\n",
       "    </tr>\n",
       "    <tr>\n",
       "      <th>6</th>\n",
       "      <td>2019</td>\n",
       "      <td>11</td>\n",
       "      <td>jedzenie i picie: na mieście</td>\n",
       "      <td>-182.33</td>\n",
       "      <td>14.790749</td>\n",
       "      <td>-1232.73</td>\n",
       "      <td>14.790749</td>\n",
       "    </tr>\n",
       "    <tr>\n",
       "      <th>7</th>\n",
       "      <td>2019</td>\n",
       "      <td>11</td>\n",
       "      <td>jedzenie i picie: niezdrowe</td>\n",
       "      <td>-16.57</td>\n",
       "      <td>1.344171</td>\n",
       "      <td>-1232.73</td>\n",
       "      <td>1.344171</td>\n",
       "    </tr>\n",
       "    <tr>\n",
       "      <th>8</th>\n",
       "      <td>2019</td>\n",
       "      <td>11</td>\n",
       "      <td>jedzenie i picie: zamawiane</td>\n",
       "      <td>-139.86</td>\n",
       "      <td>11.345550</td>\n",
       "      <td>-1232.73</td>\n",
       "      <td>11.345550</td>\n",
       "    </tr>\n",
       "    <tr>\n",
       "      <th>9</th>\n",
       "      <td>2019</td>\n",
       "      <td>11</td>\n",
       "      <td>pomoc innym</td>\n",
       "      <td>-24.37</td>\n",
       "      <td>1.976913</td>\n",
       "      <td>-1232.73</td>\n",
       "      <td>1.976913</td>\n",
       "    </tr>\n",
       "  </tbody>\n",
       "</table>\n",
       "</div>"
      ],
      "text/plain": [
       "    Rok  Miesiac                     Kategoria  Wydatki    Procent  \\\n",
       "0  2019       11                       alkohol  -120.86   9.804256   \n",
       "1  2019       11          czynsz za mieszkanie  -517.74  41.999465   \n",
       "2  2019       11                dowolne zakupy    -0.45   0.036504   \n",
       "3  2019       11   higiena, kosmetyki, fryzjer    -6.99   0.567034   \n",
       "4  2019       11            hobby, kino, teatr   -29.70   2.409287   \n",
       "5  2019       11              jedzenie i picie  -185.25  15.027622   \n",
       "6  2019       11  jedzenie i picie: na mieście  -182.33  14.790749   \n",
       "7  2019       11   jedzenie i picie: niezdrowe   -16.57   1.344171   \n",
       "8  2019       11   jedzenie i picie: zamawiane  -139.86  11.345550   \n",
       "9  2019       11                   pomoc innym   -24.37   1.976913   \n",
       "\n",
       "   Suma_Wydatkow  Procent_Struktury  \n",
       "0       -1232.73           9.804256  \n",
       "1       -1232.73          41.999465  \n",
       "2       -1232.73           0.036504  \n",
       "3       -1232.73           0.567034  \n",
       "4       -1232.73           2.409287  \n",
       "5       -1232.73          15.027622  \n",
       "6       -1232.73          14.790749  \n",
       "7       -1232.73           1.344171  \n",
       "8       -1232.73          11.345550  \n",
       "9       -1232.73           1.976913  "
      ]
     },
     "execution_count": 25,
     "metadata": {},
     "output_type": "execute_result"
    }
   ],
   "source": [
    "# Stworzenie lokalnej bazy danych SQLite\n",
    "conn = sqlite3.connect('transactions_db_temp.sqlite')\n",
    "df.to_sql('transactions', conn, if_exists='replace', index=False)\n",
    "\n",
    "# Przygotowanie agregacji danych\n",
    "query_monthly_expenses = \"\"\"\n",
    "SELECT Rok, Miesiac, Kategoria, SUM(Cena) AS Wydatki \n",
    "FROM transactions WHERE Rodzaj = 'Debit' \n",
    "GROUP BY Rok, Miesiac, Kategoria\n",
    "\"\"\"\n",
    "\n",
    "monthly_expenses_by_type = pd.read_sql(query_monthly_expenses, conn)\n",
    "\n",
    "# Poprawione obliczenie procentowego udziału kategorii w miesięcznych wydatkach\n",
    "monthly_expenses_by_type['Procent'] = monthly_expenses_by_type.groupby(['Rok', 'Miesiac'])['Wydatki'].transform(lambda x: x / x.sum() * 100)\n",
    "\n",
    "# Tworzenie monthly_expenses_structure\n",
    "cumulative_expenses_sum = monthly_expenses_by_type.groupby(['Rok', 'Miesiac'])['Wydatki'].sum().reset_index()\n",
    "cumulative_expenses_sum = cumulative_expenses_sum.rename(columns={'Wydatki': 'Suma_Wydatkow'})\n",
    "monthly_expenses_structure = pd.merge(monthly_expenses_by_type, cumulative_expenses_sum, on=['Rok', 'Miesiac'])\n",
    "monthly_expenses_structure['Procent_Struktury'] = monthly_expenses_structure['Wydatki'] / monthly_expenses_structure['Suma_Wydatkow'] * 100\n",
    "\n",
    "monthly_expenses_structure.head(10)\n"
   ]
  }
 ],
 "metadata": {
  "kernelspec": {
   "display_name": "base",
   "language": "python",
   "name": "python3"
  },
  "language_info": {
   "codemirror_mode": {
    "name": "ipython",
    "version": 3
   },
   "file_extension": ".py",
   "mimetype": "text/x-python",
   "name": "python",
   "nbconvert_exporter": "python",
   "pygments_lexer": "ipython3",
   "version": "3.9.16"
  },
  "orig_nbformat": 4
 },
 "nbformat": 4,
 "nbformat_minor": 2
}
