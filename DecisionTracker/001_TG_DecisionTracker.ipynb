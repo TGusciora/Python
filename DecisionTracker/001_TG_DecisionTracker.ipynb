{
 "cells": [
  {
   "cell_type": "markdown",
   "metadata": {},
   "source": [
    "## Project: Decision Tracker\n",
    "## Making informed decisions based on personal data\n",
    "**Source:** Own files"
   ]
  },
  {
   "cell_type": "markdown",
   "metadata": {},
   "source": [
    "### 1. Setting up environment\n",
    "\n",
    "#### 1.1 Importing packages & setting-up parameters"
   ]
  },
  {
   "cell_type": "code",
   "execution_count": 1,
   "metadata": {},
   "outputs": [],
   "source": [
    "# Import parent directory (main project directory)\n",
    "# for packages importing\n",
    "import sys\n",
    "import os\n",
    "\n",
    "# Getting the parent directory name in which your script is running\n",
    "parent = os.path.dirname(os.path.realpath('/'))\n",
    "\n",
    "# adding the parent directory to\n",
    "# the sys.path.\n",
    "sys.path.append(parent)\n",
    "\n",
    "# now we can import the module in the parent\n",
    "# directory."
   ]
  },
  {
   "cell_type": "code",
   "execution_count": 2,
   "metadata": {},
   "outputs": [],
   "source": [
    "import requests # to download data from api\n",
    "import pandas as pd\n",
    "import datetime as dt\n",
    "import matplotlib.pyplot as plt\n",
    "import pathlib # for path functions\n",
    "import numpy as np\n",
    "\n",
    "import sqlite3\n",
    "import seaborn as sns\n",
    "import ipywidgets as widgets\n",
    "from IPython.display import clear_output, display\n",
    "\n",
    "#turning on plot display in JN\n",
    "%matplotlib inline \n",
    "# Setting pandas display options\n",
    "pd.options.display.max_columns = 300\n",
    "pd.options.display.max_rows = 100\n",
    "pd.options.display.max_colwidth = 250"
   ]
  },
  {
   "cell_type": "code",
   "execution_count": 3,
   "metadata": {},
   "outputs": [],
   "source": [
    "# PARAMETERS\n",
    "plt.style.use('fivethirtyeight')"
   ]
  },
  {
   "cell_type": "code",
   "execution_count": null,
   "metadata": {},
   "outputs": [],
   "source": [
    "DataFolderPath = pathlib.Path(os.path.dirname(os.path.realpath(''))).parent\n",
    "print(DataFolderPath)"
   ]
  },
  {
   "cell_type": "code",
   "execution_count": null,
   "metadata": {},
   "outputs": [],
   "source": [
    "#CLASSES"
   ]
  },
  {
   "cell_type": "code",
   "execution_count": null,
   "metadata": {},
   "outputs": [],
   "source": [
    "def import_bills(filename, sheet_name):\n",
    "    # Necessary requirements - DataFolderPath\n",
    "    file = os.path.join(DataFolderPath, 'Private', filename)\n",
    "    data_in = pd.read_excel(file, sheet_name = sheet_name , decimal=',')\n",
    "    data_out = data_in\n",
    "    data_out[\"LP\"] = data_in[\"LP\"].astype(np.int32)\n",
    "    data_out[\"Rok\"] = data_in[\"Rok\"].astype(np.int32)\n",
    "    data_out[\"Miesiac\"] = data_in[\"Miesiac\"].astype(np.int32)\n",
    "    data_out[\"Data\"] = pd.to_datetime(data_in[\"Data\"])\n",
    "    data_out[\"Cena\"] = data_in[\"Cena\"].replace(',','.').astype(float)\n",
    "    if \"Nr koszyka\" in data_in.columns:\n",
    "        data_out[\"Nr koszyka\"] = data_in[\"Nr koszyka\"].astype(str)\n",
    "\n",
    "    # Cleaning data\n",
    "    data_out = data_out[data_out[\"Rok\"] != 1900].copy() # usuwanie wierszy bez dat\n",
    "    data_out = data_out[data_out[\"Kategoria\"].notna()].copy()\n",
    "\n",
    "    def clean_category(category):\n",
    "        return category.lower().strip()\n",
    "\n",
    "    # Oczyszczanie nazw kategorii\n",
    "    data_out['Kategoria'] = data_out['Kategoria'].apply(clean_category)\n",
    "\n",
    "    print(data_out.tail()) # sample check\n",
    "    return data_out\n",
    "\n"
   ]
  },
  {
   "cell_type": "code",
   "execution_count": null,
   "metadata": {},
   "outputs": [],
   "source": [
    "def sql_sum(data_in):\n",
    "    # 2. Stworzenie lokalnej bazy danych SQLite\n",
    "    conn = sqlite3.connect('transactions_db.sqlite')\n",
    "    data_in.to_sql('transactions', conn, if_exists='replace', index=False)\n",
    "    conn.commit()\n",
    "\n",
    "    # Przygotowanie agregacji danych\n",
    "    query_sum = \"SELECT Rok, Miesiac, Rodzaj, Kategoria, SUM(Cena) AS Suma FROM transactions GROUP BY Rok, Miesiac, Kategoria, Rodzaj\"\n",
    "    data_out = pd.read_sql(query_sum, conn)\n",
    "    print(data_out.tail())\n",
    "    return data_out"
   ]
  },
  {
   "cell_type": "code",
   "execution_count": null,
   "metadata": {},
   "outputs": [],
   "source": [
    "class WidgetBarPlot():\n",
    "    def __init__(self, data_in):\n",
    "        self.data_in = data_in\n",
    "        self._data_filters()\n",
    "    \n",
    "    def _data_filters(self):\n",
    "        self._years = sorted(self.data_in['Rok'].unique())\n",
    "        self._months = sorted(self.data_in['Miesiac'].unique())\n",
    "        self._rodzaje = sorted(self.data_in['Rodzaj'].unique())\n",
    "\n",
    "        self.default_year = max(self._years )\n",
    "        self.default_rodzaj = \"Debit\"\n",
    "        self.default_month = max(self.data_in[self.data_in['Rok'] == self.default_year][\"Miesiac\"])\n",
    "\n",
    "    def _barplot(self, years, months, rodzaje):\n",
    "        # Filtrujemy dane według wybranych lat, miesięcy i rodzajów transakcji\n",
    "        data = self.data_in[\n",
    "            self.data_in['Rok'].isin(years) & \n",
    "            self.data_in['Miesiac'].isin(months) & \n",
    "            self.data_in['Rodzaj'].isin(rodzaje)\n",
    "        ].sort_values('Suma')\n",
    "        \n",
    "        plt.figure(figsize=(10, 8))\n",
    "        ax = sns.barplot(data=data, x='Miesiac', y='Suma', hue='Kategoria', order=data['Miesiac'].unique())\n",
    "        \n",
    "        # Dodajemy etykiety do słupków\n",
    "        for p in ax.patches:\n",
    "            ax.annotate(f'{p.get_height():.0f}', \n",
    "                        (p.get_x() + p.get_width() / 2., p.get_height() - p.get_height()/10), \n",
    "                        ha='center', va='center', \n",
    "                        xytext=(0, -10), \n",
    "                        textcoords='offset points')\n",
    "        \n",
    "        plt.title('Miesięczne wpływy/koszty w podziale na kategorie')\n",
    "        \n",
    "        # Przenoszenie legendy pod wykres\n",
    "        ax.legend(title='Kategoria', bbox_to_anchor=(0.5, -0.2), loc='upper center', ncol=3)\n",
    "        \n",
    "        plt.tight_layout()\n",
    "        plt.show()\n",
    "\n",
    "    def widget_plot(self):\n",
    "        # Uaktualnienie widgetu z wielokrotnym wyborem wartości\n",
    "        widgets.interact(\n",
    "            self._barplot, \n",
    "            years=widgets.SelectMultiple(options=self._years, description='Rok:', value=(self.default_year,)), \n",
    "            months=widgets.SelectMultiple(options=self._months, description='Miesiąc:', value=(self.default_month,)),\n",
    "            rodzaje=widgets.SelectMultiple(options=self._rodzaje, description='Rodzaj:', value=(self.default_rodzaj,))\n",
    "        )\n",
    "\n"
   ]
  },
  {
   "cell_type": "code",
   "execution_count": null,
   "metadata": {},
   "outputs": [],
   "source": [
    "class WidgetBarPlot_lastNMonths():\n",
    "    def __init__(self, data_in):\n",
    "        self.data_in = data_in\n",
    "        self._data_params()\n",
    "    \n",
    "    def _data_params(self):\n",
    "        self._categories = sorted(list(set(self.data_in['Kategoria'].unique())))\n",
    "        self._types = sorted(list(set(self.data_in['Rodzaj'].unique())))\n",
    "        self._rodzaj = (\"Debit\",)\n",
    "\n",
    "        # Znalezienie najdłuższej kategorii\n",
    "        self._max_length = max(self._categories, key=len)\n",
    "\n",
    "    def _barplot_lastn(self, categories, last_n_months, rodzaj):\n",
    "        # Pobieranie najnowszej dostępnej daty\n",
    "        latest_year = max(self.data_in['Rok'])\n",
    "        latest_month = max(self.data_in[self.data_in['Rok'] == latest_year][\"Miesiac\"])\n",
    "        \n",
    "        # Określenie zakresu daty na podstawie last_n_months\n",
    "        end_month = latest_month\n",
    "        end_year = latest_year\n",
    "        \n",
    "        start_month = latest_month - last_n_months + 1\n",
    "        start_year = latest_year\n",
    "        while start_month <= 0:\n",
    "            start_month += 12\n",
    "            start_year -= 1\n",
    "\n",
    "        # Filtrujemy dane według wybranego zakresu czasu, rodzaju i kategorii\n",
    "        filtered_data = self.data_in[\n",
    "            ((self.data_in['Rok'] > start_year) | \n",
    "            ((self.data_in['Rok'] == start_year) & (self.data_in['Miesiac'] >= start_month)) &\n",
    "            ((self.data_in['Rok'] < end_year) |\n",
    "            ((self.data_in['Rok'] == end_year) & (self.data_in['Miesiac'] <= end_month)))) &\n",
    "            (self.data_in['Rodzaj'].isin(rodzaj)) &\n",
    "            (self.data_in['Kategoria'].isin(categories))\n",
    "        ]\n",
    "\n",
    "        # Sumowanie danych dla wybranych kategorii\n",
    "        summed_data = filtered_data.groupby(['Rok', 'Miesiac']).agg({'Suma': 'sum'}).reset_index()\n",
    "        \n",
    "        # Dodawanie kolumny \"rok-miesiąc\" do summed_data\n",
    "        summed_data['Rok-Miesiac'] = summed_data['Rok'].astype(str) + \"-\" + summed_data['Miesiac'].astype(str).str.zfill(2)\n",
    "        \n",
    "        plt.figure(figsize=(15, 8))\n",
    "        \n",
    "        # Tworzenie wykresu słupkowego\n",
    "        ax = sns.barplot(data=summed_data, x='Rok-Miesiac', y='Suma')\n",
    "        \n",
    "        # Dodawanie etykiet do słupków\n",
    "        for p in ax.patches:\n",
    "            ax.annotate(f'{p.get_height():.0f}', \n",
    "                        (p.get_x() + p.get_width() / 2., p.get_height() - p.get_height()/10), \n",
    "                        ha='center', va='center', \n",
    "                        xytext=(0, -10), \n",
    "                        textcoords='offset points')\n",
    "        \n",
    "        plt.title('Miesięczne wpływy/koszty w podziale na kategorie')\n",
    "        plt.tight_layout()\n",
    "        \n",
    "        plt.show()\n",
    "\n",
    "\n",
    "    def widget_plot(self):\n",
    "    # Uruchamiam interaktywną wizualizację\n",
    "        widgets.interact(\n",
    "            self._barplot_lastn, \n",
    "            categories=widgets.SelectMultiple(\n",
    "                options=self._categories, \n",
    "                description='Kategoria:', \n",
    "                layout=widgets.Layout(width=f'{len(self._max_length) * 8 + 20}px', height=f'{int(len(self._categories)*25*0.85)}px'),\n",
    "                value=self._categories  # Domyślnie zaznacz wszystkie kategorie\n",
    "            ),\n",
    "            last_n_months=widgets.Dropdown(options=[3, 6, 9, 12, 18, 24], description='Ostatnie miesiące:', value=6),\n",
    "            rodzaj=widgets.SelectMultiple(options=self._types, description='Rodzaj:', value=self._rodzaj)\n",
    "        )\n"
   ]
  },
  {
   "cell_type": "code",
   "execution_count": null,
   "metadata": {},
   "outputs": [],
   "source": [
    "class PivotTimeRange():\n",
    "    def __init__(self, data_in):\n",
    "        self.data_in = data_in\n",
    "        self._data_filters()\n",
    "        self._widgets()\n",
    "    \n",
    "    def _data_filters(self):\n",
    "        self.data_in['Rok-Miesiac'] = self.data_in['Rok'].astype(str) + '-' + self.data_in['Miesiac'].astype(str).str.zfill(2)\n",
    "        \n",
    "        # Ustalanie indeksów dla najnowszego roku w danych\n",
    "        self.current_year = self.data_in['Rok'].max()\n",
    "        self.start_idx = self.data_in[self.data_in['Rok'] == self.current_year]['Rok-Miesiac'].min()\n",
    "        self.end_idx = self.data_in[self.data_in['Rok'] == self.current_year]['Rok-Miesiac'].max()\n",
    "\n",
    "\n",
    "    def _widgets(self):\n",
    "        # Widgety\n",
    "        self.date_range = widgets.SelectionRangeSlider(\n",
    "            options=sorted(self.data_in['Rok-Miesiac'].unique()),\n",
    "            index=(self.data_in['Rok-Miesiac'].unique().tolist().index(self.start_idx), \n",
    "                self.data_in['Rok-Miesiac'].unique().tolist().index(self.end_idx)),\n",
    "            description='Zakres dat:',\n",
    "            continuous_update=False,\n",
    "            layout=widgets.Layout(width='500px')\n",
    "        )\n",
    "\n",
    "        self.category_selector = widgets.SelectMultiple(\n",
    "            options=sorted(self.data_in['Kategoria'].unique()),\n",
    "            value=list(self.data_in['Kategoria'].unique()),\n",
    "            description='Kategoria:',\n",
    "            continuous_update=False,\n",
    "            rows=len(self.data_in['Kategoria'].unique()),\n",
    "            layout=widgets.Layout(width='1000px')\n",
    "        )\n",
    "\n",
    "        self.type_selector = widgets.SelectMultiple(\n",
    "            options=sorted(self.data_in['Rodzaj'].unique()),\n",
    "            value=['Debit'],\n",
    "            description='Rodzaj:',\n",
    "            continuous_update=False,\n",
    "            rows=len(self.data_in['Rodzaj'].unique())\n",
    "        )\n",
    "        self.output = widgets.Output()\n",
    "\n",
    "    def _update_table(self, change=None):\n",
    "        with self.output:\n",
    "            clear_output(wait=True)\n",
    "            filtered_data = self.data_in[\n",
    "                (self.data_in['Rok-Miesiac'] >= self.date_range.value[0]) &\n",
    "                (self.data_in['Rok-Miesiac'] <= self.date_range.value[1]) &\n",
    "                (self.data_in['Kategoria'].isin(self.category_selector.value)) &\n",
    "                (self.data_in['Rodzaj'].isin(self.type_selector.value))\n",
    "            ]\n",
    "            pivot = filtered_data.pivot_table(index='Kategoria', columns='Rok-Miesiac', values='Suma', aggfunc='sum').fillna(0).sort_index()\n",
    "            \n",
    "            # Zaokrąglenie do 2 miejsc po przecinku\n",
    "            pivot = pivot.round(2)\n",
    "            \n",
    "            # Dodanie kolumny \"Sum_total\"\n",
    "            pivot['Sum_total'] = pivot.sum(axis=1)\n",
    "            \n",
    "            # Dodanie wiersza \"TOTAL\"\n",
    "            pivot.loc['TOTAL'] = pivot.sum()\n",
    "            \n",
    "            display(pivot)\n",
    "\n",
    "    def pivot_calc(self):\n",
    "        self.date_range.observe(self._update_table, names='value')\n",
    "        self.category_selector.observe(self._update_table, names='value')\n",
    "        self.type_selector.observe(self._update_table, names='value')\n",
    "\n",
    "        display_widgets = widgets.VBox([self.date_range, self.category_selector, self.type_selector, self.output])\n",
    "        display(display_widgets)\n",
    "        self._update_table()"
   ]
  },
  {
   "cell_type": "code",
   "execution_count": 5,
   "metadata": {},
   "outputs": [],
   "source": [
    "# filename = 'Wydatki_2021.xlsx'\n",
    "# file = os.path.join(DataFolderPath, 'Private', filename)"
   ]
  },
  {
   "cell_type": "code",
   "execution_count": 6,
   "metadata": {},
   "outputs": [],
   "source": [
    "# Unused SQL Queries - move to beggining\n",
    "\n",
    "\n",
    "# 3. Przygotowanie agregacji danych\n",
    "# Miesięczne wpływy\n",
    "# query_monthly_income = \"SELECT Rok, Miesiac, Kategoria, SUM(Cena) AS Wplywy FROM transactions WHERE Rodzaj = 'Credit' GROUP BY Rok, Miesiac, Kategoria\"\n",
    "# monthly_income_by_type = pd.read_sql(query_monthly_income, conn)\n",
    "\n",
    "# Miesięczne wydatki\n",
    "# query_monthly_expenses = \"SELECT Rok, Miesiac, Kategoria, SUM(Cena) AS Wydatki FROM transactions WHERE Rodzaj = 'Debit' GROUP BY Rok, Miesiac, Kategoria\"\n",
    "# monthly_expenses_by_type = pd.read_sql(query_monthly_expenses, conn)\n",
    "\n",
    "# Miesięczne przepływy\n",
    "# query_monthly_flow = \"SELECT Rok, Miesiac, SUM(Case When Rodzaj = 'Credit' THEN Cena ELSE 0 END) as Wplywy, SUM(Case When Rodzaj = 'Debit' THEN Cena ELSE 0 END) as Wydatki FROM transactions GROUP BY Rok, Miesiac\"\n",
    "# monthly_flow = pd.read_sql(query_monthly_flow, conn)\n",
    "# monthly_flow[\"Przeplywy\"] = monthly_flow[\"Wplywy\"] + monthly_flow[\"Wydatki\"]\n",
    "\n",
    "# Analiza miesięcznej struktury wydatków\n",
    "# monthly_expenses_by_type['Procent'] = monthly_expenses_by_type.groupby(['Rok', 'Miesiac'])['Wydatki'].transform(lambda x: x / x.sum() * 100)\n",
    "\n",
    "# 4. Przygotowanie danych kumulatywnych\n",
    "# Kumulacyjne wpływy\n",
    "# monthly_income_by_type['Kumulacyjne_Wplywy'] = monthly_income_by_type.groupby(['Rok', 'Kategoria'])['Wplywy'].cumsum()\n",
    "\n",
    "# Kumulacyjne wydatki\n",
    "# monthly_expenses_by_type['Kumulacyjne_Wydatki'] = monthly_expenses_by_type.groupby(['Rok', 'Kategoria'])['Wydatki'].cumsum()\n",
    "\n",
    "# Kumulacyjne przepływy\n",
    "# monthly_flow['Kumulacyjne_Wplywy'] = monthly_flow.groupby('Rok')['Wplywy'].cumsum()\n",
    "# monthly_flow['Kumulacyjne_Wydatki'] = monthly_flow.groupby('Rok')['Wydatki'].cumsum()\n",
    "# monthly_flow['Kumulacyjne_Przeplywy'] = monthly_flow['Kumulacyjne_Wplywy'] + monthly_flow['Kumulacyjne_Wydatki']\n",
    "\n",
    "# Kumulacyjna analiza struktury wydatków\n",
    "# cumulative_expenses_sum = monthly_expenses_by_type.groupby(['Rok', 'Miesiac'])['Kumulacyjne_Wydatki'].sum().reset_index()\n",
    "# cumulative_expenses_sum = cumulative_expenses_sum.rename(columns={'Kumulacyjne_Wydatki': 'Suma_Kumulacyjnych_Wydatkow'})\n",
    "# cumulative_expenses_structure = pd.merge(monthly_expenses_by_type, cumulative_expenses_sum, on=['Rok', 'Miesiac'])\n",
    "# cumulative_expenses_structure['Procent_Kumulacyjny'] = cumulative_expenses_structure['Kumulacyjne_Wydatki'] / cumulative_expenses_structure['Suma_Kumulacyjnych_Wydatkow'] \n"
   ]
  },
  {
   "cell_type": "code",
   "execution_count": 8,
   "metadata": {},
   "outputs": [
    {
     "name": "stdout",
     "output_type": "stream",
     "text": [
      "        LP       Data                           Przedmiot    Cena Waluta  \\\n",
      "4828  4762 2023-09-24                          Ashwaganda -134.10    PLN   \n",
      "4829  4763 2023-09-24         Babbel - roczna subskrypcja -239.88    PLN   \n",
      "4830  4764 2023-09-24  Diagnostyka - panel alergologiczny -221.08    PLN   \n",
      "4831  4765 2023-09-24                            Kreatyna  -99.00    PLN   \n",
      "4832  4766 2023-09-24                  Aliness suplementy -153.33    PLN   \n",
      "\n",
      "                   Sklep                  Miejsce Nr koszyka            Skad  \\\n",
      "4828  mothersprotect.com  othersprotect.com (WWW)     3734.0  Citi Kredytowa   \n",
      "4829       pl.babbel.com      pl.babbel.com (WWW)     3735.0  Citi Kredytowa   \n",
      "4830      diagnostyka.pl     diagnostyka.pl (WWW)     3736.0  Citi Kredytowa   \n",
      "4831           beketo.pl          beketo.pl (WWW)     3737.0  Citi Kredytowa   \n",
      "4832          aliness.pl         aliness.pl (WWW)     3738.0   Alior Firmowa   \n",
      "\n",
      "        Potrzeba                       Kategoria      Grupa   Rok  Miesiac  \\\n",
      "4828  Zachcianka                      suplementy   Grupa IV  2023        9   \n",
      "4829  Zachcianka  własny rozwój (kursy, zajęcia)  Grupa III  2023        9   \n",
      "4830  Zachcianka          koszty leczenia i leki    Grupa I  2023        9   \n",
      "4831  Zachcianka                      suplementy   Grupa IV  2023        9   \n",
      "4832  Zachcianka                      suplementy   Grupa IV  2023        9   \n",
      "\n",
      "     Rodzaj Komentarz  \n",
      "4828  Debit       NaN  \n",
      "4829  Debit       NaN  \n",
      "4830  Debit       NaN  \n",
      "4831  Debit       NaN  \n",
      "4832  Debit       NaN  \n"
     ]
    },
    {
     "name": "stderr",
     "output_type": "stream",
     "text": [
      "c:\\ProgramData\\Anaconda3\\lib\\site-packages\\openpyxl\\worksheet\\_read_only.py:81: UserWarning: Data Validation extension is not supported and will be removed\n",
      "  for idx, row in parser.parse():\n"
     ]
    }
   ],
   "source": [
    "wydatki = import_bills(filename = 'Wydatki_2021.xlsx', sheet_name = 'Wydatki')"
   ]
  },
  {
   "cell_type": "code",
   "execution_count": 9,
   "metadata": {},
   "outputs": [
    {
     "name": "stdout",
     "output_type": "stream",
     "text": [
      "        LP       Data  \\\n",
      "1208  1209 2023-09-23   \n",
      "1209  1210 2023-09-24   \n",
      "1210  1211 2023-09-24   \n",
      "1211  1212 2023-09-24   \n",
      "1212  1213 2023-09-24   \n",
      "\n",
      "                                                                            Przedmiot  \\\n",
      "1208                                                 Maciej - przelew za zdrową Krowę   \n",
      "1209                                Dieta KETO, 2500 kcal, 21 dni, BonApetit Catering   \n",
      "1210                                           Maszyna do robienia popcornu bez oleju   \n",
      "1211  Temu.com - krajalnica do ziemniaków, wyciskarka do czosnku, obieraczka do jajek   \n",
      "1212                                                                      Office 2021   \n",
      "\n",
      "         Cena Waluta               Sklep    Kto    Potrzeba  \\\n",
      "1208  -340.60    PLN        Zdrowa Krowa  Tomek  Zachcianka   \n",
      "1209 -2034.90    PLN           Dietly.pl  Tomek    Potrzeba   \n",
      "1210   -82.98    PLN        Media Expert  Tomek  Zachcianka   \n",
      "1211   -40.65    PLN            temu.com  Tomek  Zachcianka   \n",
      "1212  -134.00    PLN  software-klucze.pl    Ada  Zachcianka   \n",
      "\n",
      "                         Kategoria     Grupa   Rok  Miesiac Rodzaj Komentarz  \n",
      "1208  jedzenie i picie: na mieście  Grupa IV  2023        9  Debit       NaN  \n",
      "1209              jedzenie i picie   Grupa I  2023        9  Debit       NaN  \n",
      "1210                dowolne zakupy  Grupa IV  2023        9  Debit       NaN  \n",
      "1211                dowolne zakupy  Grupa IV  2023        9  Debit       NaN  \n",
      "1212       inne niezbędne potrzeby   Grupa I  2023        9  Debit       NaN  \n"
     ]
    },
    {
     "name": "stderr",
     "output_type": "stream",
     "text": [
      "c:\\ProgramData\\Anaconda3\\lib\\site-packages\\openpyxl\\worksheet\\_read_only.py:81: UserWarning: Data Validation extension is not supported and will be removed\n",
      "  for idx, row in parser.parse():\n"
     ]
    }
   ],
   "source": [
    "wydatki_wspolne = import_bills(filename = 'Wydatki_2021.xlsx', sheet_name = 'Wydatki_KontoWspolne')"
   ]
  },
  {
   "cell_type": "code",
   "execution_count": 11,
   "metadata": {},
   "outputs": [
    {
     "name": "stdout",
     "output_type": "stream",
     "text": [
      "       Rok  Miesiac  Rodzaj                       Kategoria     Suma\n",
      "1038  2023        9   Debit                      suplementy  -723.43\n",
      "1039  2023        9   Debit                       transport   -20.40\n",
      "1040  2023        9   Debit          wspólny rachunek - ada -9565.23\n",
      "1041  2023        9  Credit  własny rozwój (kursy, zajęcia)  1063.98\n",
      "1042  2023        9   Debit  własny rozwój (kursy, zajęcia) -4975.33\n"
     ]
    }
   ],
   "source": [
    "monthly_wydatki = sql_sum(wydatki)"
   ]
  },
  {
   "cell_type": "code",
   "execution_count": 12,
   "metadata": {},
   "outputs": [
    {
     "name": "stdout",
     "output_type": "stream",
     "text": [
      "      Rok  Miesiac Rodzaj                       Kategoria    Suma\n",
      "276  2023        9  Debit         rozrywka i przyjemności -618.99\n",
      "277  2023        9  Debit                       szastusia -243.17\n",
      "278  2023        9  Debit                            taxi -168.83\n",
      "279  2023        9  Debit                       transport  -17.00\n",
      "280  2023        9  Debit  własny rozwój (kursy, zajęcia)  -40.00\n"
     ]
    }
   ],
   "source": [
    "monthly_wspolne = sql_sum(wydatki_wspolne)"
   ]
  },
  {
   "cell_type": "code",
   "execution_count": 15,
   "metadata": {},
   "outputs": [],
   "source": [
    "# https://www.google.com/search?client=firefox-b-d&q=vs+code+interactive+plots+in+python#ip=1"
   ]
  },
  {
   "cell_type": "code",
   "execution_count": 18,
   "metadata": {},
   "outputs": [
    {
     "data": {
      "application/vnd.jupyter.widget-view+json": {
       "model_id": "d606220779bd451dbb3c9089acdda6d1",
       "version_major": 2,
       "version_minor": 0
      },
      "text/plain": [
       "interactive(children=(SelectMultiple(description='Rok:', index=(4,), options=(2019, 2020, 2021, 2022, 2023), v…"
      ]
     },
     "metadata": {},
     "output_type": "display_data"
    }
   ],
   "source": [
    "wydatki_barplot = WidgetBarPlot(data_in = monthly_wydatki)\n",
    "wydatki_barplot.widget_plot()"
   ]
  },
  {
   "cell_type": "code",
   "execution_count": 19,
   "metadata": {},
   "outputs": [
    {
     "data": {
      "application/vnd.jupyter.widget-view+json": {
       "model_id": "0184a191f2624927a4afbfeb5258a9ec",
       "version_major": 2,
       "version_minor": 0
      },
      "text/plain": [
       "interactive(children=(SelectMultiple(description='Rok:', index=(1,), options=(2022, 2023), value=(2023,)), Sel…"
      ]
     },
     "metadata": {},
     "output_type": "display_data"
    }
   ],
   "source": [
    "wspolne_barplot = WidgetBarPlot(data_in = monthly_wspolne)\n",
    "wspolne_barplot.widget_plot()"
   ]
  },
  {
   "cell_type": "code",
   "execution_count": 21,
   "metadata": {},
   "outputs": [
    {
     "data": {
      "application/vnd.jupyter.widget-view+json": {
       "model_id": "9c5f1073eaf74934a4be814e32a5bcce",
       "version_major": 2,
       "version_minor": 0
      },
      "text/plain": [
       "interactive(children=(SelectMultiple(description='Kategoria:', index=(0, 1, 2, 3, 4, 5, 6, 7, 8, 9, 10, 11, 12…"
      ]
     },
     "metadata": {},
     "output_type": "display_data"
    }
   ],
   "source": [
    "wydatki_lastN = WidgetBarPlot_lastNMonths(data_in = monthly_wydatki)\n",
    "wydatki_lastN.widget_plot()"
   ]
  },
  {
   "cell_type": "code",
   "execution_count": 22,
   "metadata": {},
   "outputs": [
    {
     "data": {
      "application/vnd.jupyter.widget-view+json": {
       "model_id": "9fd47af65b194a568b5decee747d0623",
       "version_major": 2,
       "version_minor": 0
      },
      "text/plain": [
       "interactive(children=(SelectMultiple(description='Kategoria:', index=(0, 1, 2, 3, 4, 5, 6, 7, 8, 9, 10, 11, 12…"
      ]
     },
     "metadata": {},
     "output_type": "display_data"
    }
   ],
   "source": [
    "wspolne_lastN = WidgetBarPlot_lastNMonths(data_in = monthly_wspolne)\n",
    "wspolne_lastN.widget_plot()"
   ]
  },
  {
   "cell_type": "code",
   "execution_count": 26,
   "metadata": {},
   "outputs": [
    {
     "data": {
      "application/vnd.jupyter.widget-view+json": {
       "model_id": "658fd58d63fd4bb180ede7cbf133d065",
       "version_major": 2,
       "version_minor": 0
      },
      "text/plain": [
       "VBox(children=(SelectionRangeSlider(continuous_update=False, description='Zakres dat:', index=(38, 46), layout…"
      ]
     },
     "metadata": {},
     "output_type": "display_data"
    }
   ],
   "source": [
    "wydatki_pivot = PivotTimeRange(data_in = monthly_wydatki)\n",
    "wydatki_pivot.pivot_calc()"
   ]
  },
  {
   "cell_type": "code",
   "execution_count": 27,
   "metadata": {},
   "outputs": [
    {
     "data": {
      "application/vnd.jupyter.widget-view+json": {
       "model_id": "8ca2e0857c774cb581b1a625e87a5124",
       "version_major": 2,
       "version_minor": 0
      },
      "text/plain": [
       "VBox(children=(SelectionRangeSlider(continuous_update=False, description='Zakres dat:', index=(8, 16), layout=…"
      ]
     },
     "metadata": {},
     "output_type": "display_data"
    }
   ],
   "source": [
    "wspolne_pivot = PivotTimeRange(data_in = monthly_wspolne)\n",
    "wspolne_pivot.pivot_calc()"
   ]
  },
  {
   "cell_type": "code",
   "execution_count": null,
   "metadata": {},
   "outputs": [
    {
     "data": {
      "image/png": "[encoded data removed]",
      "text/plain": [
       "<Figure size 1400x700 with 1 Axes>"
      ]
     },
     "metadata": {},
     "output_type": "display_data"
    }
   ],
   "source": [
    "# Wykres miesięcznych przepływów\n",
    "plt.figure(figsize=(14, 7))\n",
    "sns.lineplot(data=monthly_flow, x='Miesiac', y='Przeplywy', marker=\"o\")\n",
    "plt.title('Miesięczne przepływy')\n",
    "plt.tight_layout()\n",
    "plt.show()\n"
   ]
  },
  {
   "cell_type": "code",
   "execution_count": null,
   "metadata": {},
   "outputs": [
    {
     "data": {
      "text/html": [
       "<div>\n",
       "<style scoped>\n",
       "    .dataframe tbody tr th:only-of-type {\n",
       "        vertical-align: middle;\n",
       "    }\n",
       "\n",
       "    .dataframe tbody tr th {\n",
       "        vertical-align: top;\n",
       "    }\n",
       "\n",
       "    .dataframe thead th {\n",
       "        text-align: right;\n",
       "    }\n",
       "</style>\n",
       "<table border=\"1\" class=\"dataframe\">\n",
       "  <thead>\n",
       "    <tr style=\"text-align: right;\">\n",
       "      <th></th>\n",
       "      <th>Rok</th>\n",
       "      <th>Miesiac</th>\n",
       "      <th>Kategoria</th>\n",
       "      <th>Wydatki</th>\n",
       "      <th>Procent</th>\n",
       "      <th>Suma_Wydatkow</th>\n",
       "      <th>Procent_Struktury</th>\n",
       "    </tr>\n",
       "  </thead>\n",
       "  <tbody>\n",
       "    <tr>\n",
       "      <th>0</th>\n",
       "      <td>2019</td>\n",
       "      <td>11</td>\n",
       "      <td>alkohol</td>\n",
       "      <td>-120.86</td>\n",
       "      <td>9.804256</td>\n",
       "      <td>-1232.73</td>\n",
       "      <td>9.804256</td>\n",
       "    </tr>\n",
       "    <tr>\n",
       "      <th>1</th>\n",
       "      <td>2019</td>\n",
       "      <td>11</td>\n",
       "      <td>czynsz za mieszkanie</td>\n",
       "      <td>-517.74</td>\n",
       "      <td>41.999465</td>\n",
       "      <td>-1232.73</td>\n",
       "      <td>41.999465</td>\n",
       "    </tr>\n",
       "    <tr>\n",
       "      <th>2</th>\n",
       "      <td>2019</td>\n",
       "      <td>11</td>\n",
       "      <td>dowolne zakupy</td>\n",
       "      <td>-0.45</td>\n",
       "      <td>0.036504</td>\n",
       "      <td>-1232.73</td>\n",
       "      <td>0.036504</td>\n",
       "    </tr>\n",
       "    <tr>\n",
       "      <th>3</th>\n",
       "      <td>2019</td>\n",
       "      <td>11</td>\n",
       "      <td>higiena, kosmetyki, fryzjer</td>\n",
       "      <td>-6.99</td>\n",
       "      <td>0.567034</td>\n",
       "      <td>-1232.73</td>\n",
       "      <td>0.567034</td>\n",
       "    </tr>\n",
       "    <tr>\n",
       "      <th>4</th>\n",
       "      <td>2019</td>\n",
       "      <td>11</td>\n",
       "      <td>hobby, kino, teatr</td>\n",
       "      <td>-29.70</td>\n",
       "      <td>2.409287</td>\n",
       "      <td>-1232.73</td>\n",
       "      <td>2.409287</td>\n",
       "    </tr>\n",
       "    <tr>\n",
       "      <th>5</th>\n",
       "      <td>2019</td>\n",
       "      <td>11</td>\n",
       "      <td>jedzenie i picie</td>\n",
       "      <td>-185.25</td>\n",
       "      <td>15.027622</td>\n",
       "      <td>-1232.73</td>\n",
       "      <td>15.027622</td>\n",
       "    </tr>\n",
       "    <tr>\n",
       "      <th>6</th>\n",
       "      <td>2019</td>\n",
       "      <td>11</td>\n",
       "      <td>jedzenie i picie: na mieście</td>\n",
       "      <td>-182.33</td>\n",
       "      <td>14.790749</td>\n",
       "      <td>-1232.73</td>\n",
       "      <td>14.790749</td>\n",
       "    </tr>\n",
       "    <tr>\n",
       "      <th>7</th>\n",
       "      <td>2019</td>\n",
       "      <td>11</td>\n",
       "      <td>jedzenie i picie: niezdrowe</td>\n",
       "      <td>-16.57</td>\n",
       "      <td>1.344171</td>\n",
       "      <td>-1232.73</td>\n",
       "      <td>1.344171</td>\n",
       "    </tr>\n",
       "    <tr>\n",
       "      <th>8</th>\n",
       "      <td>2019</td>\n",
       "      <td>11</td>\n",
       "      <td>jedzenie i picie: zamawiane</td>\n",
       "      <td>-139.86</td>\n",
       "      <td>11.345550</td>\n",
       "      <td>-1232.73</td>\n",
       "      <td>11.345550</td>\n",
       "    </tr>\n",
       "    <tr>\n",
       "      <th>9</th>\n",
       "      <td>2019</td>\n",
       "      <td>11</td>\n",
       "      <td>pomoc innym</td>\n",
       "      <td>-24.37</td>\n",
       "      <td>1.976913</td>\n",
       "      <td>-1232.73</td>\n",
       "      <td>1.976913</td>\n",
       "    </tr>\n",
       "  </tbody>\n",
       "</table>\n",
       "</div>"
      ],
      "text/plain": [
       "    Rok  Miesiac                     Kategoria  Wydatki    Procent  \\\n",
       "0  2019       11                       alkohol  -120.86   9.804256   \n",
       "1  2019       11          czynsz za mieszkanie  -517.74  41.999465   \n",
       "2  2019       11                dowolne zakupy    -0.45   0.036504   \n",
       "3  2019       11   higiena, kosmetyki, fryzjer    -6.99   0.567034   \n",
       "4  2019       11            hobby, kino, teatr   -29.70   2.409287   \n",
       "5  2019       11              jedzenie i picie  -185.25  15.027622   \n",
       "6  2019       11  jedzenie i picie: na mieście  -182.33  14.790749   \n",
       "7  2019       11   jedzenie i picie: niezdrowe   -16.57   1.344171   \n",
       "8  2019       11   jedzenie i picie: zamawiane  -139.86  11.345550   \n",
       "9  2019       11                   pomoc innym   -24.37   1.976913   \n",
       "\n",
       "   Suma_Wydatkow  Procent_Struktury  \n",
       "0       -1232.73           9.804256  \n",
       "1       -1232.73          41.999465  \n",
       "2       -1232.73           0.036504  \n",
       "3       -1232.73           0.567034  \n",
       "4       -1232.73           2.409287  \n",
       "5       -1232.73          15.027622  \n",
       "6       -1232.73          14.790749  \n",
       "7       -1232.73           1.344171  \n",
       "8       -1232.73          11.345550  \n",
       "9       -1232.73           1.976913  "
      ]
     },
     "execution_count": 25,
     "metadata": {},
     "output_type": "execute_result"
    }
   ],
   "source": [
    "# Stworzenie lokalnej bazy danych SQLite\n",
    "conn = sqlite3.connect('transactions_db_temp.sqlite')\n",
    "df.to_sql('transactions', conn, if_exists='replace', index=False)\n",
    "\n",
    "# Przygotowanie agregacji danych\n",
    "query_monthly_expenses = \"\"\"\n",
    "SELECT Rok, Miesiac, Kategoria, SUM(Cena) AS Wydatki \n",
    "FROM transactions WHERE Rodzaj = 'Debit' \n",
    "GROUP BY Rok, Miesiac, Kategoria\n",
    "\"\"\"\n",
    "\n",
    "monthly_expenses_by_type = pd.read_sql(query_monthly_expenses, conn)\n",
    "\n",
    "# Poprawione obliczenie procentowego udziału kategorii w miesięcznych wydatkach\n",
    "monthly_expenses_by_type['Procent'] = monthly_expenses_by_type.groupby(['Rok', 'Miesiac'])['Wydatki'].transform(lambda x: x / x.sum() * 100)\n",
    "\n",
    "# Tworzenie monthly_expenses_structure\n",
    "cumulative_expenses_sum = monthly_expenses_by_type.groupby(['Rok', 'Miesiac'])['Wydatki'].sum().reset_index()\n",
    "cumulative_expenses_sum = cumulative_expenses_sum.rename(columns={'Wydatki': 'Suma_Wydatkow'})\n",
    "monthly_expenses_structure = pd.merge(monthly_expenses_by_type, cumulative_expenses_sum, on=['Rok', 'Miesiac'])\n",
    "monthly_expenses_structure['Procent_Struktury'] = monthly_expenses_structure['Wydatki'] / monthly_expenses_structure['Suma_Wydatkow'] * 100\n",
    "\n",
    "monthly_expenses_structure.head(10)"
   ]
  }
 ],
 "metadata": {
  "kernelspec": {
   "display_name": "base",
   "language": "python",
   "name": "python3"
  },
  "language_info": {
   "codemirror_mode": {
    "name": "ipython",
    "version": 3
   },
   "file_extension": ".py",
   "mimetype": "text/x-python",
   "name": "python",
   "nbconvert_exporter": "python",
   "pygments_lexer": "ipython3",
   "version": "3.9.16"
  },
  "orig_nbformat": 4
 },
 "nbformat": 4,
 "nbformat_minor": 2
}
