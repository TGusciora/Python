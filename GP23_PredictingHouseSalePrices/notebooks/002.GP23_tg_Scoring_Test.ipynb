{
 "cells": [
  {
   "attachments": {},
   "cell_type": "markdown",
   "metadata": {},
   "source": [
    "## Project: Predicting house sale prices\n",
    "## Part 2: Test sample scoring and final model selection\n",
    "**Data:** housing data for the city of Ames, Iowa, USA, 2006 to 2010  \n",
    "**Data description:** https://s3.amazonaws.com/dq-content/307/data_description.txt  \n",
    "**Source:** https://www.tandfonline.com/doi/abs/10.1080/10691898.2011.11889627  \n",
    "**Source pdf:** https://www.tandfonline.com/doi/pdf/10.1080/10691898.2011.11889627?needAccess=true\n"
   ]
  },
  {
   "cell_type": "code",
   "execution_count": 20,
   "metadata": {},
   "outputs": [
    {
     "name": "stdout",
     "output_type": "stream",
     "text": [
      "The autoreload extension is already loaded. To reload it, use:\n",
      "  %reload_ext autoreload\n"
     ]
    }
   ],
   "source": [
    "# Set-up auto-reload functions for faster debugging \n",
    "# (automatically refreshes changes in subpackages codes)\n",
    "# https://ipython.org/ipython-doc/3/config/extensions/autoreload.html\n",
    "%load_ext autoreload\n",
    "%autoreload 2"
   ]
  },
  {
   "cell_type": "code",
   "execution_count": 21,
   "metadata": {},
   "outputs": [],
   "source": [
    "# Import parent directory (main project directory)\n",
    "# for packages importing\n",
    "import sys\n",
    "import os\n",
    "\n",
    "# Getting the parent directory name in which your script is running\n",
    "parent = os.path.dirname(os.path.realpath(''))\n",
    "\n",
    "# adding the parent directory to\n",
    "# the sys.path.\n",
    "sys.path.append(parent)\n",
    "\n",
    "# now we can import the module in the parent\n",
    "# directory."
   ]
  },
  {
   "cell_type": "code",
   "execution_count": 22,
   "metadata": {},
   "outputs": [],
   "source": [
    "# Project packages import\n",
    "import gp23package.data.make_dataset as gp23md\n",
    "import gp23package.explore_visualise.eda as gp23eda\n",
    "import gp23package.features.build_features as gp23feat\n",
    "import gp23package.models.hyperparameters_model as gp23hyperparam\n",
    "import gp23package.models.train_model as gp23train\n",
    "# Pylance highligting package issue (not to be worried about)\n",
    "# https://github.com/microsoft/pylance-release/blob/main/TROUBLESHOOTING.md#unresolved-import-warnings\n",
    "\n",
    "# Standard Python libraries import\n",
    "from IPython.display import display, HTML #  tidied-up display\n",
    "from time import time #  project timer\n",
    "from itertools import chain # for list iterations\n",
    "\n",
    "# plots\n",
    "import matplotlib.pyplot as plt\n",
    "import seaborn as sn\n",
    "\n",
    "# Statistics\n",
    "from scipy import stats\n",
    "from scipy.stats import mstats\n",
    "\n",
    "# Sklearn\n",
    "from sklearn.feature_selection import (SelectKBest, chi2, f_regression, RFE, mutual_info_regression,\n",
    "                                      SequentialFeatureSelector, SelectFromModel)\n",
    "from sklearn.preprocessing import (normalize, MinMaxScaler)\n",
    "from sklearn.metrics import (mean_squared_error, mean_absolute_error, mean_absolute_percentage_error, r2_score)\n",
    "from sklearn.model_selection import (train_test_split, cross_val_score, KFold, GridSearchCV)\n",
    "from sklearn.linear_model import (LinearRegression, Ridge, ElasticNet, Lasso, TheilSenRegressor, RANSACRegressor,\n",
    "                                  HuberRegressor , SGDRegressor, Lars, ElasticNet, RidgeCV)\n",
    "\n",
    "#statsmodels\n",
    "from statsmodels.stats.outliers_influence import variance_inflation_factor\n",
    "from statsmodels.compat import lzip\n",
    "import statsmodels as sm\n",
    "import statsmodels.stats.stattools as smt\n",
    "import statsmodels.stats.diagnostic as smd\n",
    "\n",
    "# Other\n",
    "from dython import nominal # Correlations between categorical variables\n",
    "\n",
    "# Necessary packages\n",
    "import gp23package\n",
    "import numpy as np\n",
    "import pandas as pd\n",
    "import pickle # dump models\n",
    "\n",
    "#turning on plot display in JN\n",
    "%matplotlib inline \n",
    "# Setting pandas display options\n",
    "pd.options.display.max_columns = 300\n",
    "pd.options.display.max_rows = 100\n",
    "pd.options.display.max_colwidth = 250"
   ]
  },
  {
   "attachments": {},
   "cell_type": "markdown",
   "metadata": {},
   "source": [
    "### 8. Importing models & data transformations"
   ]
  },
  {
   "cell_type": "code",
   "execution_count": 23,
   "metadata": {},
   "outputs": [],
   "source": [
    "# Starting project timer\n",
    "tic_all = time()"
   ]
  },
  {
   "cell_type": "code",
   "execution_count": 24,
   "metadata": {},
   "outputs": [],
   "source": [
    "#Loading saved models and transformation objects\n",
    "filename = 'model_list.sav'\n",
    "file = os.path.join(parent, 'models', filename)\n",
    "with open(file, 'rb') as file_open:\n",
    "    model_list = pickle.load(file_open)\n",
    "\n",
    "filename = 'boxCox_dict.sav'\n",
    "file = os.path.join(parent, 'data\\processed', filename)\n",
    "with open(file, 'rb') as file_open:\n",
    "    boxCox_dict = pickle.load(file_open)\n",
    "\n",
    "filename = 'data_optbin.sav'\n",
    "file = os.path.join(parent, 'data\\processed', filename)\n",
    "with open(file, 'rb') as file_open:\n",
    "    data_optbin = pickle.load(file_open)\n",
    "\n",
    "filename = 'var_dict.sav'\n",
    "file = os.path.join(parent, 'data\\processed', filename)\n",
    "with open(file, 'rb') as file_open:\n",
    "    var_dict = pickle.load(file_open)\n",
    "\n",
    "# Load train / valid results of models\n",
    "filename = 'chosen_bestModels.sav'\n",
    "file = os.path.join(parent, 'data\\processed', filename)\n",
    "with open(file, 'rb') as file_open:\n",
    "    chosen_bestModels = pickle.load(file_open)\n",
    "\n",
    "# Loading test datasets\n",
    "filename = 'X_test.csv'\n",
    "file = os.path.join(parent, 'data\\interim', filename)\n",
    "X_test = pd.read_csv(file, index_col=0)\n",
    "\n",
    "filename = 'y_test.csv'\n",
    "file = os.path.join(parent, 'data\\interim', filename)\n",
    "y_test = pd.read_csv(file, index_col=0).squeeze(\"columns\")\n",
    "\n",
    "# Loading variable lists\n",
    "\n",
    "filename = 'discrete.sav'\n",
    "file = os.path.join(parent, 'data\\processed', filename)\n",
    "with open(file, 'rb') as file_open:\n",
    "    discrete = pickle.load(file_open)\n",
    "\n",
    "filename = 'categorical.sav'\n",
    "file = os.path.join(parent, 'data\\processed', filename)\n",
    "with open(file, 'rb') as file_open:\n",
    "    categorical = pickle.load(file_open)\n",
    "\n",
    "filename = 'continuous.sav'\n",
    "file = os.path.join(parent, 'data\\processed', filename)\n",
    "with open(file, 'rb') as file_open:\n",
    "    continuous = pickle.load(file_open)\n",
    "\n",
    "# Load train/valid scaler too keep same transformations on production scoring\n",
    "filename = 'train_scaler.sav'\n",
    "file = os.path.join(parent, 'data\\processed', filename)\n",
    "with open(file, 'rb') as file_open:\n",
    "    train_scaler = pickle.load(file_open)\n"
   ]
  },
  {
   "attachments": {},
   "cell_type": "markdown",
   "metadata": {},
   "source": [
    "### 9. Scoring new data - test dataset\n",
    "#### 9.1 Applying transformations to new data"
   ]
  },
  {
   "cell_type": "code",
   "execution_count": 25,
   "metadata": {},
   "outputs": [
    {
     "name": "stdout",
     "output_type": "stream",
     "text": [
      "*** raw scoring_vars ***\n",
      "['MS Zoning', 'House Style', 'Central Air', 'Floor_area_ratio', 'BsmtFin Type 1', 'Bsmt Exposure', 'Bsmt Half Bath', 'Neighborhood', 'MS SubClass', 'Bsmt Qual', 'TotRms AbvGrd', 'Bsmt Full Bath', 'Condition 1', 'Overall Cond', 'Bathroom_total', 'Overall Qual', 'Garage Area', 'Fireplaces', 'Full Bath', '2nd Flr SF', 'Heating QC', 'Kitchen Qual', 'Functional', 'Sale Condition'] \n",
      "\n",
      "*** discrete variables intersection ***\n",
      "['Fireplaces', 'Bsmt Qual', 'TotRms AbvGrd', 'Overall Cond', 'Full Bath', 'Bathroom_total', 'Heating QC', 'Central Air', 'Bsmt Full Bath', 'Kitchen Qual', 'Overall Qual', 'Bsmt Half Bath'] \n",
      "\n",
      "*** Variables used for scoring ***\n",
      "['Box_Garage Area', 'WOE_MS SubClass', 'WOE_Functional', 'Central Air', 'WOE_Neighborhood', 'Bsmt Qual', 'TotRms AbvGrd', 'WOE_BsmtFin Type 1', 'WOE_Sale Condition', 'Bsmt Full Bath', 'WOE_Condition 1', 'WOE_Bsmt Exposure', 'Overall Cond', 'Bathroom_total', 'Overall Qual', 'Fireplaces', 'Full Bath', 'Heating QC', 'WOE_MS Zoning', 'Box_Floor_area_ratio', 'Kitchen Qual'] \n",
      "\n"
     ]
    }
   ],
   "source": [
    "# MANUAL_INPUT\n",
    "# Scoring new vector of data\n",
    "# For this we need to have list of used variables for final models\n",
    "# If we have more than one model we would have to prepare more list concatenating all lists\n",
    "# Attention: for scoring we do need to use original variable list with exactly the same order of variables\n",
    "# In our current case var_dict[\"BKWD_20\"]\n",
    "\n",
    "scoring_vars = list(set(var_dict[\"BKWD_20\"] + var_dict[\"FWD_10\"]))\n",
    "scoring_dict = var_dict\n",
    "\n",
    "scoring_varsRaw = []\n",
    "# List of prefixes differentiating engineered variables from original variables\n",
    "prefixes = [\"WOE_\", \"Box_\"]\n",
    "\n",
    "# taking all variable variations for final models\n",
    "for var in chosen_bestModels[\"variable_set\"].unique():\n",
    "    # for each variable in variable set\n",
    "    for i in var_dict[var]:\n",
    "        # Removing prefixes from prefixes list\n",
    "        for prefix in prefixes:\n",
    "            i = i.removeprefix(prefix)\n",
    "    # Adding raw variable name to scoring vars (if there are more than 1 variable lists there can be duplicates)\n",
    "        scoring_varsRaw.append(i)\n",
    "\n",
    "# Deduplicating variable names\n",
    "# Final list will probably come in different order than used source lists\n",
    "scoring_varsRaw = list(set(scoring_varsRaw))\n",
    "print('*** raw scoring_vars ***')\n",
    "print(scoring_varsRaw,'\\n')\n",
    "\n",
    "# Remark: in this project we divided data to train_valid / test samples after preliminary cleaning. In real-world cases\n",
    "# we will not have access to incoming data, hence all the preliminary data cleaning would have to be done on new data\n",
    "# as well. \n",
    "\n",
    "# Limiting number of input variables\n",
    "X_test = X_test[scoring_varsRaw]\n",
    "\n",
    "# Transforming y metric\n",
    "# we are not winsorizing test data outcome variable as this would lead to false fit metrics\n",
    "y2_test = np.log(y_test) \n",
    "\n",
    "# Creating empty subset of final scoring variavbles (engineered)\n",
    "scoringFinal_vars = list(set(scoring_varsRaw).intersection(discrete))\n",
    "print('*** discrete variables intersection ***')\n",
    "print(scoringFinal_vars,'\\n')\n",
    "print('*** Variables used for scoring ***')\n",
    "print(scoring_vars,'\\n')"
   ]
  },
  {
   "cell_type": "code",
   "execution_count": 26,
   "metadata": {},
   "outputs": [
    {
     "name": "stdout",
     "output_type": "stream",
     "text": [
      "MS SubClass : C150  - value is not present in the  binning table\n",
      "Neighborhood : Landmrk  - value is not present in the  binning table\n"
     ]
    }
   ],
   "source": [
    "# Transforming input variables\n",
    "# WoE transformation for categorical variables (common values between categorical vars and scoring_vars)\n",
    "for i in set(categorical).intersection(scoring_varsRaw) :\n",
    "    X_test[\"WOE_\"+i] = data_optbin.transform(data = X_test, var_name = i)   \n",
    "# Box-Cox power transformation for continuous variables (common values between continuous and scoring_vars)\n",
    "# We use lambdas from boxCox_dict dictionary (lambda values calculated on train_valid dataset). This is to prevent\n",
    "# Target information leakage between samples\n",
    "for i in set(continuous).intersection(scoring_varsRaw) :\n",
    "    X_test[\"Box_\"+i] = stats.boxcox(x = X_test[i]+1 , lmbda = boxCox_dict[i])"
   ]
  },
  {
   "cell_type": "code",
   "execution_count": 27,
   "metadata": {},
   "outputs": [
    {
     "data": {
      "text/html": [
       "<div>\n",
       "<style scoped>\n",
       "    .dataframe tbody tr th:only-of-type {\n",
       "        vertical-align: middle;\n",
       "    }\n",
       "\n",
       "    .dataframe tbody tr th {\n",
       "        vertical-align: top;\n",
       "    }\n",
       "\n",
       "    .dataframe thead th {\n",
       "        text-align: right;\n",
       "    }\n",
       "</style>\n",
       "<table border=\"1\" class=\"dataframe\">\n",
       "  <thead>\n",
       "    <tr style=\"text-align: right;\">\n",
       "      <th></th>\n",
       "      <th>WOE_Neighborhood</th>\n",
       "      <th>Neighborhood</th>\n",
       "    </tr>\n",
       "  </thead>\n",
       "  <tbody>\n",
       "    <tr>\n",
       "      <th>2788</th>\n",
       "      <td>0.080165</td>\n",
       "      <td>Landmrk</td>\n",
       "    </tr>\n",
       "  </tbody>\n",
       "</table>\n",
       "</div>"
      ],
      "text/plain": [
       "      WOE_Neighborhood Neighborhood\n",
       "2788          0.080165      Landmrk"
      ]
     },
     "execution_count": 27,
     "metadata": {},
     "output_type": "execute_result"
    }
   ],
   "source": [
    "# Checking\n",
    "# data_optbin[\"Neighborhood\"]\n",
    "X_test[X_test[\"Neighborhood\"]==\"Landmrk\"][[\"WOE_Neighborhood\",\"Neighborhood\"]]"
   ]
  },
  {
   "cell_type": "markdown",
   "metadata": {},
   "source": [
    "We see here that for 'Neighborhood' variable in test dataset we encountered 'Landmrk' value which has only 1 observation. According to our adopted WOE transformation function we will assign WoE value of \"Other\" group (least frequent group in binning dictionary)"
   ]
  },
  {
   "cell_type": "code",
   "execution_count": 28,
   "metadata": {},
   "outputs": [],
   "source": [
    "# Normalizing data using scaler used on train_valid sample (preventing data leakage between samples)\n",
    "X_test[scoring_vars] = train_scaler.fit_transform(X_test[scoring_vars])"
   ]
  },
  {
   "cell_type": "markdown",
   "metadata": {},
   "source": [
    "#### 9.2 Test data model performance"
   ]
  },
  {
   "cell_type": "code",
   "execution_count": 29,
   "metadata": {},
   "outputs": [
    {
     "data": {
      "text/html": [
       "<div>\n",
       "<style scoped>\n",
       "    .dataframe tbody tr th:only-of-type {\n",
       "        vertical-align: middle;\n",
       "    }\n",
       "\n",
       "    .dataframe tbody tr th {\n",
       "        vertical-align: top;\n",
       "    }\n",
       "\n",
       "    .dataframe thead th {\n",
       "        text-align: right;\n",
       "    }\n",
       "</style>\n",
       "<table border=\"1\" class=\"dataframe\">\n",
       "  <thead>\n",
       "    <tr style=\"text-align: right;\">\n",
       "      <th></th>\n",
       "      <th>rmse</th>\n",
       "      <th>r_squared</th>\n",
       "      <th>mae</th>\n",
       "      <th>mse</th>\n",
       "    </tr>\n",
       "  </thead>\n",
       "  <tbody>\n",
       "    <tr>\n",
       "      <th>model6_theil</th>\n",
       "      <td>0.154256</td>\n",
       "      <td>0.853284</td>\n",
       "      <td>0.118636</td>\n",
       "      <td>0.023795</td>\n",
       "    </tr>\n",
       "    <tr>\n",
       "      <th>model5_huber</th>\n",
       "      <td>0.166726</td>\n",
       "      <td>0.828605</td>\n",
       "      <td>0.129939</td>\n",
       "      <td>0.027797</td>\n",
       "    </tr>\n",
       "    <tr>\n",
       "      <th>model4_ridge</th>\n",
       "      <td>0.167265</td>\n",
       "      <td>0.827495</td>\n",
       "      <td>0.130514</td>\n",
       "      <td>0.027978</td>\n",
       "    </tr>\n",
       "    <tr>\n",
       "      <th>model3_elasticNet</th>\n",
       "      <td>0.167485</td>\n",
       "      <td>0.827041</td>\n",
       "      <td>0.130680</td>\n",
       "      <td>0.028051</td>\n",
       "    </tr>\n",
       "    <tr>\n",
       "      <th>model2_lasso</th>\n",
       "      <td>0.167544</td>\n",
       "      <td>0.826919</td>\n",
       "      <td>0.130729</td>\n",
       "      <td>0.028071</td>\n",
       "    </tr>\n",
       "    <tr>\n",
       "      <th>model1_lr</th>\n",
       "      <td>0.167555</td>\n",
       "      <td>0.826895</td>\n",
       "      <td>0.130739</td>\n",
       "      <td>0.028075</td>\n",
       "    </tr>\n",
       "  </tbody>\n",
       "</table>\n",
       "</div>"
      ],
      "text/plain": [
       "                       rmse  r_squared       mae       mse\n",
       "model6_theil       0.154256   0.853284  0.118636  0.023795\n",
       "model5_huber       0.166726   0.828605  0.129939  0.027797\n",
       "model4_ridge       0.167265   0.827495  0.130514  0.027978\n",
       "model3_elasticNet  0.167485   0.827041  0.130680  0.028051\n",
       "model2_lasso       0.167544   0.826919  0.130729  0.028071\n",
       "model1_lr          0.167555   0.826895  0.130739  0.028075"
      ]
     },
     "execution_count": 29,
     "metadata": {},
     "output_type": "execute_result"
    }
   ],
   "source": [
    "# Checking which models performs best on test dataset\n",
    "test_results = pd.DataFrame()\n",
    "\n",
    "# iterating through best models\n",
    "for i in model_list:\n",
    "    predictions = model_list[i]['model'].predict(X_test[scoring_dict[model_list[i]['variables']]])\n",
    "    mae = mean_absolute_error(y2_test, predictions)\n",
    "    mse = mean_squared_error(y2_test, predictions)\n",
    "    rmse = np.sqrt(mean_squared_error(y2_test, predictions))\n",
    "    r2 = r2_score(y2_test, predictions)\n",
    "    temp_df = pd.DataFrame(data = {'rmse': rmse, 'r_squared': r2, 'mae' : mae, 'mse' : mse} , index=[i])\n",
    "    test_results = pd.concat([test_results, temp_df])\n",
    "\n",
    "test_results.sort_values(by=\"r_squared\", ascending = False, inplace = True)\n",
    "test_results"
   ]
  },
  {
   "attachments": {},
   "cell_type": "markdown",
   "metadata": {},
   "source": [
    "Theil model (which was previously worst performing on train/valid cross validation) is the best fitted model to test data."
   ]
  },
  {
   "cell_type": "markdown",
   "metadata": {},
   "source": [
    "#### 9.4 Performance stability"
   ]
  },
  {
   "cell_type": "code",
   "execution_count": 39,
   "metadata": {},
   "outputs": [
    {
     "data": {
      "image/png": "[encoded data removed]",
      "text/plain": [
       "<Figure size 640x480 with 1 Axes>"
      ]
     },
     "metadata": {},
     "output_type": "display_data"
    },
    {
     "name": "stdout",
     "output_type": "stream",
     "text": [
      "Test sample size -  234\n",
      "R-squared standard deviation by model on test samples\n",
      "model1_lr            0.020172\n",
      "model2_lasso         0.019016\n",
      "model3_elasticNet    0.019578\n",
      "model4_ridge         0.019742\n",
      "model5_huber         0.019034\n",
      "model6_theil         0.017342\n",
      "Name: r_squared, dtype: float64\n",
      "RMSE standard deviation by model on test samples\n",
      "model1_lr            0.006739\n",
      "model2_lasso         0.006483\n",
      "model3_elasticNet    0.006495\n",
      "model4_ridge         0.006690\n",
      "model5_huber         0.006374\n",
      "model6_theil         0.007795\n",
      "Name: rmse, dtype: float64\n"
     ]
    }
   ],
   "source": [
    "# Checking heteroscedasticity influence on sampling from test dataset\n",
    "test_sampling = X_test[scoring_vars].merge(y2_test, left_index = True, right_index = True)\n",
    "sampleTests_results = pd.DataFrame()\n",
    "\n",
    "# Sampling 1000x 40% observations from test dataset and checking model performance\n",
    "for model in model_list:\n",
    "    for i in range(1000):\n",
    "        test = test_sampling.sample(frac=0.40)\n",
    "        test_pred = model_list[model]['model'].predict(test[scoring_dict[model_list[model]['variables']]])\n",
    "        mae = mean_absolute_error(pd.Series(test[\"SalePrice\"]), test_pred)\n",
    "        mse = mean_squared_error(test[\"SalePrice\"], test_pred)\n",
    "        rmse = np.sqrt(mean_squared_error(test[\"SalePrice\"], test_pred))\n",
    "        mape = mean_absolute_percentage_error(test[\"SalePrice\"], test_pred)\n",
    "        r2 = r2_score(test[\"SalePrice\"], test_pred)\n",
    "        temp_df = pd.DataFrame(data = {'rmse': rmse, 'r_squared': r2, 'mae' : mae, 'mse' : mse,\n",
    "                                       'iteration' : i} , index=[model])\n",
    "        sampleTests_results = pd.concat([sampleTests_results, temp_df])\n",
    "        \n",
    "sn.boxplot(x = sampleTests_results.index, y = 'r_squared', data = sampleTests_results)\n",
    "plt.xticks(rotation = 45)\n",
    "plt.title('R-squared boxplot in 1000 subsamples of test dataset')\n",
    "plt.show()\n",
    "print('Test sample size - ',int(0.4*len(test_sampling)))\n",
    "print('R-squared standard deviation by model on test samples')\n",
    "print(sampleTests_results.groupby(sampleTests_results.index)[\"r_squared\"].std())\n",
    "print('RMSE standard deviation by model on test samples')\n",
    "print(sampleTests_results.groupby(sampleTests_results.index)[\"rmse\"].std())"
   ]
  },
  {
   "attachments": {},
   "cell_type": "markdown",
   "metadata": {},
   "source": [
    "Altough not suggested by train/valid performance Thiel-Sen regression is performing significantly better on test dataset. All regressions seems to be pretty stable on randomly generated subsamples (however test dataset has only 586 observations total). "
   ]
  },
  {
   "attachments": {},
   "cell_type": "markdown",
   "metadata": {},
   "source": [
    "#### 9.5 Model diagnostics"
   ]
  },
  {
   "cell_type": "code",
   "execution_count": 34,
   "metadata": {},
   "outputs": [
    {
     "ename": "NameError",
     "evalue": "name 'linearModel_diagnostics' is not defined",
     "output_type": "error",
     "traceback": [
      "\u001b[1;31m---------------------------------------------------------------------------\u001b[0m",
      "\u001b[1;31mNameError\u001b[0m                                 Traceback (most recent call last)",
      "Cell \u001b[1;32mIn[34], line 1\u001b[0m\n\u001b[1;32m----> 1\u001b[0m linearModel_diagnostics(model_in \u001b[39m=\u001b[39m \u001b[39m'\u001b[39m\u001b[39mmodel3_elasticNet\u001b[39m\u001b[39m'\u001b[39m, data_in \u001b[39m=\u001b[39m X_test, target \u001b[39m=\u001b[39m y2_test)\n",
      "\u001b[1;31mNameError\u001b[0m: name 'linearModel_diagnostics' is not defined"
     ]
    }
   ],
   "source": [
    "linearModel_diagnostics(model_in = 'model3_elasticNet', data_in = X_test, target = y2_test)"
   ]
  },
  {
   "cell_type": "code",
   "execution_count": null,
   "metadata": {},
   "outputs": [],
   "source": [
    "linearModel_diagnostics(model_in = 'model6_theil', data_in = X_test, target = y2_test)"
   ]
  },
  {
   "cell_type": "code",
   "execution_count": null,
   "metadata": {},
   "outputs": [],
   "source": [
    "# Finishing project timer\n",
    "toc_all = time()\n",
    "# Total project computation time\n",
    "print(f\"Done in {(tic_all - toc_all)/60.0:.3f}min\")"
   ]
  },
  {
   "attachments": {},
   "cell_type": "markdown",
   "metadata": {},
   "source": [
    "Conclusions:\n",
    "\n"
   ]
  }
 ],
 "metadata": {
  "kernelspec": {
   "display_name": "base",
   "language": "python",
   "name": "python3"
  },
  "language_info": {
   "codemirror_mode": {
    "name": "ipython",
    "version": 3
   },
   "file_extension": ".py",
   "mimetype": "text/x-python",
   "name": "python",
   "nbconvert_exporter": "python",
   "pygments_lexer": "ipython3",
   "version": "3.9.13"
  },
  "orig_nbformat": 4
 },
 "nbformat": 4,
 "nbformat_minor": 2
}
