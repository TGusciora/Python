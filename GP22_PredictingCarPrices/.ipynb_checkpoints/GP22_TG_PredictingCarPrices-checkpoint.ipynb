{
 "cells": [
  {
   "cell_type": "markdown",
   "metadata": {},
   "source": [
    "**Project:** Predicting car prices using K nearest neighbours algorithm based on \\\n",
    "1980's data \\\n",
    "**Data Source:** https://archive.ics.uci.edu/ml/datasets/automobile\n",
    "\n",
    "**Variables:** \n",
    "1. symboling: -3, -2, -1, 0, 1, 2, 3.\n",
    "2. normalized-losses: continuous from 65 to 256.\n",
    "3. make: alfa-romero, audi, bmw, chevrolet, dodge, honda,\n",
    "         isuzu, jaguar, mazda, mercedes-benz, mercury,\n",
    "         mitsubishi, nissan, peugot, plymouth, porsche,\n",
    "         renault, saab, subaru, toyota, volkswagen, volvo\n",
    "4. fuel-type: diesel, gas.\n",
    "5. aspiration: std, turbo.\n",
    "6. num-of-doors: four, two.\n",
    "7. body-style: hardtop, wagon, sedan, hatchback, convertible.\n",
    "8. drive-wheels: 4wd, fwd, rwd.\n",
    "9. engine-location: front, rear.\n",
    "10. wheel-base: continuous from 86.6 120.9.\n",
    "11. length: continuous from 141.1 to 208.1.\n",
    "12. width: continuous from 60.3 to 72.3.\n",
    "13. height: continuous from 47.8 to 59.8.\n",
    "14. curb-weight: continuous from 1488 to 4066.\n",
    "15. engine-type: dohc, dohcv, l, ohc, ohcf, ohcv, rotor.\n",
    "16. num-of-cylinders: eight, five, four, six, three, twelve, two.\n",
    "17. engine-size: continuous from 61 to 326.\n",
    "18. fuel-system: 1bbl, 2bbl, 4bbl, idi, mfi, mpfi, spdi, spfi.\n",
    "19. bore: continuous from 2.54 to 3.94.\n",
    "20. stroke: continuous from 2.07 to 4.17.\n",
    "21. compression-ratio: continuous from 7 to 23.\n",
    "22. horsepower: continuous from 48 to 288.\n",
    "23. peak-rpm: continuous from 4150 to 6600.\n",
    "24. city-mpg: continuous from 13 to 49.\n",
    "25. highway-mpg: continuous from 16 to 54.\n",
    "26. price: continuous from 5118 to 45400."
   ]
  },
  {
   "cell_type": "markdown",
   "metadata": {},
   "source": [
    "Additional remarks:  \n",
    "\t -- Results: Percent Average Deviation Error of Prediction from Actual  \n",
    "\t    -- 11.84% for the IBL algorithm  \n",
    "\t    -- 14.12% for the resulting linear regression equation  "
   ]
  },
  {
   "cell_type": "code",
   "execution_count": 1,
   "metadata": {},
   "outputs": [],
   "source": [
    "import pandas as pd\n",
    "import numpy as np\n",
    "import matplotlib.pyplot as plt\n",
    "from sklearn.neighbors import KNeighborsRegressor\n",
    "from sklearn.metrics import mean_squared_error\n",
    "from sklearn.model_selection import train_test_split\n",
    "%matplotlib inline"
   ]
  },
  {
   "cell_type": "code",
   "execution_count": 2,
   "metadata": {},
   "outputs": [],
   "source": [
    "# Parameters for project\n",
    "rd_state = 1     # random seed number - used for results reproductibility"
   ]
  },
  {
   "cell_type": "code",
   "execution_count": 3,
   "metadata": {},
   "outputs": [],
   "source": [
    "dataset_columns = ['symboling', 'normalized_losses', 'brand', 'fuel_type',\n",
    "                   'aspirations', 'num_of_doors', 'body_style', 'drive_wheels',\n",
    "                   'engine_location', 'wheel_base', 'length', 'widht', 'height',\n",
    "                   'curb_weight', 'engine_type', 'num_of_cylinders',\n",
    "                   'engine_size', 'fuel_system', 'bore', 'stroke',\n",
    "                   'compression_ratio', 'horsepower', 'peak_rpm', 'city_mpg',\n",
    "                   'highway_mpg', 'price']\n",
    "car_dataset = pd.read_csv('C:\\\\Users\\\\tgusc\\\\Documents\\\\GitHub\\\\Python\\\\GP22_PredictingCarPrices\\\\imports-85.data',\n",
    "                          names = dataset_columns)"
   ]
  },
  {
   "cell_type": "code",
   "execution_count": 4,
   "metadata": {},
   "outputs": [
    {
     "name": "stdout",
     "output_type": "stream",
     "text": [
      "1.4.3\n",
      "1.23.1\n"
     ]
    }
   ],
   "source": [
    "print(pd.__version__)\n",
    "print(np.__version__)"
   ]
  },
  {
   "cell_type": "code",
   "execution_count": 5,
   "metadata": {
    "scrolled": true
   },
   "outputs": [
    {
     "name": "stdout",
     "output_type": "stream",
     "text": [
      "<class 'pandas.core.frame.DataFrame'>\n",
      "RangeIndex: 205 entries, 0 to 204\n",
      "Data columns (total 26 columns):\n",
      " #   Column             Non-Null Count  Dtype  \n",
      "---  ------             --------------  -----  \n",
      " 0   symboling          205 non-null    int64  \n",
      " 1   normalized_losses  205 non-null    object \n",
      " 2   brand              205 non-null    object \n",
      " 3   fuel_type          205 non-null    object \n",
      " 4   aspirations        205 non-null    object \n",
      " 5   num_of_doors       205 non-null    object \n",
      " 6   body_style         205 non-null    object \n",
      " 7   drive_wheels       205 non-null    object \n",
      " 8   engine_location    205 non-null    object \n",
      " 9   wheel_base         205 non-null    float64\n",
      " 10  length             205 non-null    float64\n",
      " 11  widht              205 non-null    float64\n",
      " 12  height             205 non-null    float64\n",
      " 13  curb_weight        205 non-null    int64  \n",
      " 14  engine_type        205 non-null    object \n",
      " 15  num_of_cylinders   205 non-null    object \n",
      " 16  engine_size        205 non-null    int64  \n",
      " 17  fuel_system        205 non-null    object \n",
      " 18  bore               205 non-null    object \n",
      " 19  stroke             205 non-null    object \n",
      " 20  compression_ratio  205 non-null    float64\n",
      " 21  horsepower         205 non-null    object \n",
      " 22  peak_rpm           205 non-null    object \n",
      " 23  city_mpg           205 non-null    int64  \n",
      " 24  highway_mpg        205 non-null    int64  \n",
      " 25  price              205 non-null    object \n",
      "dtypes: float64(5), int64(5), object(16)\n",
      "memory usage: 41.8+ KB\n"
     ]
    }
   ],
   "source": [
    "car_dataset.info()"
   ]
  },
  {
   "cell_type": "code",
   "execution_count": 6,
   "metadata": {},
   "outputs": [
    {
     "data": {
      "text/html": [
       "<div>\n",
       "<style scoped>\n",
       "    .dataframe tbody tr th:only-of-type {\n",
       "        vertical-align: middle;\n",
       "    }\n",
       "\n",
       "    .dataframe tbody tr th {\n",
       "        vertical-align: top;\n",
       "    }\n",
       "\n",
       "    .dataframe thead th {\n",
       "        text-align: right;\n",
       "    }\n",
       "</style>\n",
       "<table border=\"1\" class=\"dataframe\">\n",
       "  <thead>\n",
       "    <tr style=\"text-align: right;\">\n",
       "      <th></th>\n",
       "      <th>symboling</th>\n",
       "      <th>normalized_losses</th>\n",
       "      <th>brand</th>\n",
       "      <th>fuel_type</th>\n",
       "      <th>aspirations</th>\n",
       "      <th>num_of_doors</th>\n",
       "      <th>body_style</th>\n",
       "      <th>drive_wheels</th>\n",
       "      <th>engine_location</th>\n",
       "      <th>wheel_base</th>\n",
       "      <th>...</th>\n",
       "      <th>engine_size</th>\n",
       "      <th>fuel_system</th>\n",
       "      <th>bore</th>\n",
       "      <th>stroke</th>\n",
       "      <th>compression_ratio</th>\n",
       "      <th>horsepower</th>\n",
       "      <th>peak_rpm</th>\n",
       "      <th>city_mpg</th>\n",
       "      <th>highway_mpg</th>\n",
       "      <th>price</th>\n",
       "    </tr>\n",
       "  </thead>\n",
       "  <tbody>\n",
       "    <tr>\n",
       "      <th>0</th>\n",
       "      <td>3</td>\n",
       "      <td>?</td>\n",
       "      <td>alfa-romero</td>\n",
       "      <td>gas</td>\n",
       "      <td>std</td>\n",
       "      <td>two</td>\n",
       "      <td>convertible</td>\n",
       "      <td>rwd</td>\n",
       "      <td>front</td>\n",
       "      <td>88.6</td>\n",
       "      <td>...</td>\n",
       "      <td>130</td>\n",
       "      <td>mpfi</td>\n",
       "      <td>3.47</td>\n",
       "      <td>2.68</td>\n",
       "      <td>9.0</td>\n",
       "      <td>111</td>\n",
       "      <td>5000</td>\n",
       "      <td>21</td>\n",
       "      <td>27</td>\n",
       "      <td>13495</td>\n",
       "    </tr>\n",
       "    <tr>\n",
       "      <th>1</th>\n",
       "      <td>3</td>\n",
       "      <td>?</td>\n",
       "      <td>alfa-romero</td>\n",
       "      <td>gas</td>\n",
       "      <td>std</td>\n",
       "      <td>two</td>\n",
       "      <td>convertible</td>\n",
       "      <td>rwd</td>\n",
       "      <td>front</td>\n",
       "      <td>88.6</td>\n",
       "      <td>...</td>\n",
       "      <td>130</td>\n",
       "      <td>mpfi</td>\n",
       "      <td>3.47</td>\n",
       "      <td>2.68</td>\n",
       "      <td>9.0</td>\n",
       "      <td>111</td>\n",
       "      <td>5000</td>\n",
       "      <td>21</td>\n",
       "      <td>27</td>\n",
       "      <td>16500</td>\n",
       "    </tr>\n",
       "    <tr>\n",
       "      <th>2</th>\n",
       "      <td>1</td>\n",
       "      <td>?</td>\n",
       "      <td>alfa-romero</td>\n",
       "      <td>gas</td>\n",
       "      <td>std</td>\n",
       "      <td>two</td>\n",
       "      <td>hatchback</td>\n",
       "      <td>rwd</td>\n",
       "      <td>front</td>\n",
       "      <td>94.5</td>\n",
       "      <td>...</td>\n",
       "      <td>152</td>\n",
       "      <td>mpfi</td>\n",
       "      <td>2.68</td>\n",
       "      <td>3.47</td>\n",
       "      <td>9.0</td>\n",
       "      <td>154</td>\n",
       "      <td>5000</td>\n",
       "      <td>19</td>\n",
       "      <td>26</td>\n",
       "      <td>16500</td>\n",
       "    </tr>\n",
       "    <tr>\n",
       "      <th>3</th>\n",
       "      <td>2</td>\n",
       "      <td>164</td>\n",
       "      <td>audi</td>\n",
       "      <td>gas</td>\n",
       "      <td>std</td>\n",
       "      <td>four</td>\n",
       "      <td>sedan</td>\n",
       "      <td>fwd</td>\n",
       "      <td>front</td>\n",
       "      <td>99.8</td>\n",
       "      <td>...</td>\n",
       "      <td>109</td>\n",
       "      <td>mpfi</td>\n",
       "      <td>3.19</td>\n",
       "      <td>3.40</td>\n",
       "      <td>10.0</td>\n",
       "      <td>102</td>\n",
       "      <td>5500</td>\n",
       "      <td>24</td>\n",
       "      <td>30</td>\n",
       "      <td>13950</td>\n",
       "    </tr>\n",
       "    <tr>\n",
       "      <th>4</th>\n",
       "      <td>2</td>\n",
       "      <td>164</td>\n",
       "      <td>audi</td>\n",
       "      <td>gas</td>\n",
       "      <td>std</td>\n",
       "      <td>four</td>\n",
       "      <td>sedan</td>\n",
       "      <td>4wd</td>\n",
       "      <td>front</td>\n",
       "      <td>99.4</td>\n",
       "      <td>...</td>\n",
       "      <td>136</td>\n",
       "      <td>mpfi</td>\n",
       "      <td>3.19</td>\n",
       "      <td>3.40</td>\n",
       "      <td>8.0</td>\n",
       "      <td>115</td>\n",
       "      <td>5500</td>\n",
       "      <td>18</td>\n",
       "      <td>22</td>\n",
       "      <td>17450</td>\n",
       "    </tr>\n",
       "  </tbody>\n",
       "</table>\n",
       "<p>5 rows × 26 columns</p>\n",
       "</div>"
      ],
      "text/plain": [
       "   symboling normalized_losses        brand fuel_type aspirations  \\\n",
       "0          3                 ?  alfa-romero       gas         std   \n",
       "1          3                 ?  alfa-romero       gas         std   \n",
       "2          1                 ?  alfa-romero       gas         std   \n",
       "3          2               164         audi       gas         std   \n",
       "4          2               164         audi       gas         std   \n",
       "\n",
       "  num_of_doors   body_style drive_wheels engine_location  wheel_base  ...  \\\n",
       "0          two  convertible          rwd           front        88.6  ...   \n",
       "1          two  convertible          rwd           front        88.6  ...   \n",
       "2          two    hatchback          rwd           front        94.5  ...   \n",
       "3         four        sedan          fwd           front        99.8  ...   \n",
       "4         four        sedan          4wd           front        99.4  ...   \n",
       "\n",
       "   engine_size  fuel_system  bore  stroke compression_ratio horsepower  \\\n",
       "0          130         mpfi  3.47    2.68               9.0        111   \n",
       "1          130         mpfi  3.47    2.68               9.0        111   \n",
       "2          152         mpfi  2.68    3.47               9.0        154   \n",
       "3          109         mpfi  3.19    3.40              10.0        102   \n",
       "4          136         mpfi  3.19    3.40               8.0        115   \n",
       "\n",
       "   peak_rpm city_mpg highway_mpg  price  \n",
       "0      5000       21          27  13495  \n",
       "1      5000       21          27  16500  \n",
       "2      5000       19          26  16500  \n",
       "3      5500       24          30  13950  \n",
       "4      5500       18          22  17450  \n",
       "\n",
       "[5 rows x 26 columns]"
      ]
     },
     "execution_count": 6,
     "metadata": {},
     "output_type": "execute_result"
    }
   ],
   "source": [
    "car_dataset.head()"
   ]
  },
  {
   "cell_type": "markdown",
   "metadata": {},
   "source": [
    "**Target variable:** price  \n",
    "**Variables to drop:** symboling, normalized_losses (actuarial variables)  \n",
    "**Numeric explanatory variables:** wheel_base, engine_size, bore, stroke,  \n",
    "compression_ratio, horsepowerk, peak_rpm, city_mpg, highway_mpg  \n",
    "**Categoric explanatory variables:** brand, fuel_type, aspirations,  \n",
    "num_of_doors, body_style, drive_wheels, engine_location, fuel_system  \n",
    "  \n",
    "For analytical purposes I will want to create dummy variables out of categorical  \n",
    "ones to explore their predictive power."
   ]
  },
  {
   "cell_type": "markdown",
   "metadata": {},
   "source": [
    "# Phase 1 - data exploration and feature engineering (one-hot encoding)"
   ]
  },
  {
   "cell_type": "code",
   "execution_count": 7,
   "metadata": {
    "scrolled": true
   },
   "outputs": [
    {
     "name": "stdout",
     "output_type": "stream",
     "text": [
      "<class 'pandas.core.frame.DataFrame'>\n",
      "RangeIndex: 205 entries, 0 to 204\n",
      "Data columns (total 26 columns):\n",
      " #   Column             Non-Null Count  Dtype  \n",
      "---  ------             --------------  -----  \n",
      " 0   symboling          205 non-null    Int64  \n",
      " 1   normalized_losses  164 non-null    string \n",
      " 2   brand              205 non-null    string \n",
      " 3   fuel_type          205 non-null    string \n",
      " 4   aspirations        205 non-null    string \n",
      " 5   num_of_doors       203 non-null    string \n",
      " 6   body_style         205 non-null    string \n",
      " 7   drive_wheels       205 non-null    string \n",
      " 8   engine_location    205 non-null    string \n",
      " 9   wheel_base         205 non-null    Float64\n",
      " 10  length             205 non-null    Float64\n",
      " 11  widht              205 non-null    Float64\n",
      " 12  height             205 non-null    Float64\n",
      " 13  curb_weight        205 non-null    Int64  \n",
      " 14  engine_type        205 non-null    string \n",
      " 15  num_of_cylinders   205 non-null    string \n",
      " 16  engine_size        205 non-null    Int64  \n",
      " 17  fuel_system        205 non-null    string \n",
      " 18  bore               201 non-null    string \n",
      " 19  stroke             201 non-null    string \n",
      " 20  compression_ratio  205 non-null    Float64\n",
      " 21  horsepower         203 non-null    string \n",
      " 22  peak_rpm           203 non-null    string \n",
      " 23  city_mpg           205 non-null    Int64  \n",
      " 24  highway_mpg        205 non-null    Int64  \n",
      " 25  price              201 non-null    string \n",
      "dtypes: Float64(5), Int64(5), string(16)\n",
      "memory usage: 43.8 KB\n",
      "None\n"
     ]
    }
   ],
   "source": [
    "#Dataset has missing values marked as \"?\". Replacing them to NaN and assigning proper variable types.\n",
    "car_dataset.replace('?', np.nan, inplace=True)\n",
    "car_dataset = car_dataset.convert_dtypes()\n",
    "print(car_dataset.info())"
   ]
  },
  {
   "cell_type": "code",
   "execution_count": 8,
   "metadata": {},
   "outputs": [
    {
     "name": "stdout",
     "output_type": "stream",
     "text": [
      "<class 'pandas.core.frame.DataFrame'>\n",
      "RangeIndex: 201 entries, 0 to 200\n",
      "Data columns (total 25 columns):\n",
      " #   Column             Non-Null Count  Dtype  \n",
      "---  ------             --------------  -----  \n",
      " 0   index              201 non-null    int64  \n",
      " 1   brand              201 non-null    string \n",
      " 2   fuel_type          201 non-null    string \n",
      " 3   aspirations        201 non-null    string \n",
      " 4   num_of_doors       199 non-null    string \n",
      " 5   body_style         201 non-null    string \n",
      " 6   drive_wheels       201 non-null    string \n",
      " 7   engine_location    201 non-null    string \n",
      " 8   wheel_base         201 non-null    Float64\n",
      " 9   length             201 non-null    Float64\n",
      " 10  widht              201 non-null    Float64\n",
      " 11  height             201 non-null    Float64\n",
      " 12  curb_weight        201 non-null    Int64  \n",
      " 13  engine_type        201 non-null    string \n",
      " 14  num_of_cylinders   201 non-null    string \n",
      " 15  engine_size        201 non-null    Int64  \n",
      " 16  fuel_system        201 non-null    string \n",
      " 17  bore               197 non-null    string \n",
      " 18  stroke             197 non-null    string \n",
      " 19  compression_ratio  201 non-null    Float64\n",
      " 20  horsepower         199 non-null    string \n",
      " 21  peak_rpm           199 non-null    string \n",
      " 22  city_mpg           201 non-null    Int64  \n",
      " 23  highway_mpg        201 non-null    Int64  \n",
      " 24  price              201 non-null    string \n",
      "dtypes: Float64(5), Int64(4), int64(1), string(15)\n",
      "memory usage: 41.1 KB\n",
      "None\n"
     ]
    }
   ],
   "source": [
    "# Deleting rows with missing values for 'price'\n",
    "car_dataset.dropna(subset=['price'], inplace=True)\n",
    "car_dataset.reset_index(inplace=True)\n",
    "# Deleting actuarial variables 'symboling' and 'normalized_losses', which are not useful\n",
    "# in process of price predicting (they are representing average damages for car type\n",
    "# (normalized_losses)and indicating if car is overpriced/underpriced (symboling))\n",
    "car_dataset.drop(['symboling', 'normalized_losses'], axis=1, inplace=True)\n",
    "\n",
    "# 4/201 values remain missing for 'bore' and 'stroke' variables\n",
    "# 2/201 for 'num_of_doors', 'horsepower', 'peak_rpm'\n",
    "\n",
    "print(car_dataset.info())"
   ]
  },
  {
   "cell_type": "code",
   "execution_count": 9,
   "metadata": {
    "scrolled": true
   },
   "outputs": [
    {
     "name": "stdout",
     "output_type": "stream",
     "text": [
      "   num_of_doors  bore stroke horsepower peak_rpm\n",
      "52          two  <NA>   <NA>        101     6000\n",
      "53          two  <NA>   <NA>        101     6000\n",
      "54          two  <NA>   <NA>        101     6000\n",
      "55          two  <NA>   <NA>        135     6000\n",
      "   num_of_doors  bore stroke horsepower peak_rpm\n",
      "26         <NA>  3.03   3.39        102     5500\n",
      "60         <NA>  3.39   3.39         64     4650\n",
      "    num_of_doors  bore stroke horsepower peak_rpm\n",
      "126         four  3.46   3.90       <NA>     <NA>\n",
      "127          two  3.46   3.90       <NA>     <NA>\n"
     ]
    }
   ],
   "source": [
    "# Investigating remaining missing values (8 observations total)\n",
    "cols_with_na = ['num_of_doors','bore','stroke','horsepower','peak_rpm']\n",
    "print(car_dataset[cols_with_na][car_dataset['bore'].isna()])\n",
    "print(car_dataset[cols_with_na][car_dataset['num_of_doors'].isna()])\n",
    "print(car_dataset[cols_with_na][car_dataset['horsepower'].isna()])\n",
    "# Little overlap between variables"
   ]
  },
  {
   "cell_type": "code",
   "execution_count": 10,
   "metadata": {},
   "outputs": [],
   "source": [
    "# Setting pandas display to display all rows\n",
    "pd.set_option('display.max_columns', None)\n",
    "pd.set_option('display.max_rows', None)"
   ]
  },
  {
   "cell_type": "code",
   "execution_count": 11,
   "metadata": {},
   "outputs": [
    {
     "name": "stdout",
     "output_type": "stream",
     "text": [
      "    index  brand fuel_type aspirations num_of_doors body_style drive_wheels  \\\n",
      "26     27  dodge       gas       turbo         <NA>      sedan          fwd   \n",
      "60     63  mazda    diesel         std         <NA>      sedan          fwd   \n",
      "\n",
      "   engine_location  wheel_base  length  widht  height  curb_weight  \\\n",
      "26           front        93.7   157.3   63.8    50.6         2191   \n",
      "60           front        98.8   177.8   66.5    55.5         2443   \n",
      "\n",
      "   engine_type num_of_cylinders  engine_size fuel_system  bore stroke  \\\n",
      "26         ohc             four           98        mpfi  3.03   3.39   \n",
      "60         ohc             four          122         idi  3.39   3.39   \n",
      "\n",
      "    compression_ratio horsepower peak_rpm  city_mpg  highway_mpg  price  \n",
      "26                7.6        102     5500        24           30   8558  \n",
      "60               22.7         64     4650        36           42  10795  \n",
      "four    78\n",
      "two     14\n",
      "Name: num_of_doors, dtype: Int64\n"
     ]
    }
   ],
   "source": [
    "# 'Num_of_doors' \n",
    "# We can see that both dodge and mazda are sedan type - according to google typical sedan has 4 doors\n",
    "print(car_dataset[car_dataset['num_of_doors'].isna()])\n",
    "# In our dataset we can see that this is not always true\n",
    "print(car_dataset[car_dataset['body_style']=='sedan']['num_of_doors'].value_counts())\n",
    "# We can't really use average or mode to fill missing values and we can't define accurate number of doors based\n",
    "# on presented data, hence best solution will be to drop this variable\n",
    "car_dataset.drop(['num_of_doors'], axis=1, inplace=True)\n",
    "cols_with_na.remove('num_of_doors')"
   ]
  },
  {
   "cell_type": "code",
   "execution_count": 12,
   "metadata": {
    "scrolled": true
   },
   "outputs": [
    {
     "name": "stdout",
     "output_type": "stream",
     "text": [
      "    index  brand fuel_type aspirations body_style drive_wheels  \\\n",
      "52     55  mazda       gas         std  hatchback          rwd   \n",
      "53     56  mazda       gas         std  hatchback          rwd   \n",
      "54     57  mazda       gas         std  hatchback          rwd   \n",
      "55     58  mazda       gas         std  hatchback          rwd   \n",
      "\n",
      "   engine_location  wheel_base  length  widht  height  curb_weight  \\\n",
      "52           front        95.3   169.0   65.7    49.6         2380   \n",
      "53           front        95.3   169.0   65.7    49.6         2380   \n",
      "54           front        95.3   169.0   65.7    49.6         2385   \n",
      "55           front        95.3   169.0   65.7    49.6         2500   \n",
      "\n",
      "   engine_type num_of_cylinders  engine_size fuel_system  bore stroke  \\\n",
      "52       rotor              two           70        4bbl  <NA>   <NA>   \n",
      "53       rotor              two           70        4bbl  <NA>   <NA>   \n",
      "54       rotor              two           70        4bbl  <NA>   <NA>   \n",
      "55       rotor              two           80        mpfi  <NA>   <NA>   \n",
      "\n",
      "    compression_ratio horsepower peak_rpm  city_mpg  highway_mpg  price  \n",
      "52                9.4        101     6000        17           23  10945  \n",
      "53                9.4        101     6000        17           23  11845  \n",
      "54                9.4        101     6000        17           23  13645  \n",
      "55                9.4        135     6000        16           23  15645  \n"
     ]
    }
   ],
   "source": [
    "# 'bore' and 'stroke'\n",
    "print(car_dataset[car_dataset['bore'].isna()])\n",
    "# 3/4 observations are seemingly describing same mazda model, as their remanining variables (except price) have same values\n",
    "# We will investigate if we can find similar observations in the dataset with 'bore' and 'stroke' values present"
   ]
  },
  {
   "cell_type": "code",
   "execution_count": 13,
   "metadata": {
    "scrolled": true
   },
   "outputs": [
    {
     "name": "stdout",
     "output_type": "stream",
     "text": [
      "    index  brand fuel_type aspirations body_style drive_wheels  \\\n",
      "52     55  mazda       gas         std  hatchback          rwd   \n",
      "53     56  mazda       gas         std  hatchback          rwd   \n",
      "54     57  mazda       gas         std  hatchback          rwd   \n",
      "\n",
      "   engine_location  wheel_base  length  widht  height  curb_weight  \\\n",
      "52           front        95.3   169.0   65.7    49.6         2380   \n",
      "53           front        95.3   169.0   65.7    49.6         2380   \n",
      "54           front        95.3   169.0   65.7    49.6         2385   \n",
      "\n",
      "   engine_type num_of_cylinders  engine_size fuel_system  bore stroke  \\\n",
      "52       rotor              two           70        4bbl  <NA>   <NA>   \n",
      "53       rotor              two           70        4bbl  <NA>   <NA>   \n",
      "54       rotor              two           70        4bbl  <NA>   <NA>   \n",
      "\n",
      "    compression_ratio horsepower peak_rpm  city_mpg  highway_mpg  price  \n",
      "52                9.4        101     6000        17           23  10945  \n",
      "53                9.4        101     6000        17           23  11845  \n",
      "54                9.4        101     6000        17           23  13645  \n",
      "    index  brand fuel_type aspirations body_style drive_wheels  \\\n",
      "55     58  mazda       gas         std  hatchback          rwd   \n",
      "62     65  mazda       gas         std      sedan          rwd   \n",
      "\n",
      "   engine_location  wheel_base  length  widht  height  curb_weight  \\\n",
      "55           front        95.3   169.0   65.7    49.6         2500   \n",
      "62           front       104.9   175.0   66.1    54.4         2670   \n",
      "\n",
      "   engine_type num_of_cylinders  engine_size fuel_system  bore stroke  \\\n",
      "55       rotor              two           80        mpfi  <NA>   <NA>   \n",
      "62         ohc             four          140        mpfi  3.76   3.16   \n",
      "\n",
      "    compression_ratio horsepower peak_rpm  city_mpg  highway_mpg  price  \n",
      "55                9.4        135     6000        16           23  15645  \n",
      "62                8.0        120     5000        19           27  18280  \n"
     ]
    }
   ],
   "source": [
    "# Trying to find observations with non-missing values\n",
    "print(car_dataset[(car_dataset['brand'] == 'mazda') & (car_dataset['fuel_system'] == '4bbl')])\n",
    "print(car_dataset[(car_dataset['brand'] == 'mazda') & (car_dataset['fuel_system'] == 'mpfi')]) \n",
    "# No such observations"
   ]
  },
  {
   "cell_type": "code",
   "execution_count": 14,
   "metadata": {
    "scrolled": true
   },
   "outputs": [
    {
     "name": "stdout",
     "output_type": "stream",
     "text": [
      "3.39    6\n",
      "3.03    4\n",
      "3.08    1\n",
      "3.76    1\n",
      "3.43    1\n",
      "Name: bore, dtype: Int64\n",
      "3.39    6\n",
      "3.15    5\n",
      "3.16    1\n",
      "3.64    1\n",
      "Name: stroke, dtype: Int64\n"
     ]
    }
   ],
   "source": [
    "# Finding frequent values for mazda brand\n",
    "print(car_dataset[(car_dataset['brand'] == 'mazda')]['bore'].value_counts())\n",
    "print(car_dataset[(car_dataset['brand'] == 'mazda')]['stroke'].value_counts())\n",
    "# No definitive way to fill NA values for 'bore' and 'stroke'."
   ]
  },
  {
   "cell_type": "code",
   "execution_count": 15,
   "metadata": {},
   "outputs": [
    {
     "data": {
      "image/png": "[encoded data removed]",
      "text/plain": [
       "<Figure size 432x288 with 1 Axes>"
      ]
     },
     "metadata": {
      "needs_background": "light"
     },
     "output_type": "display_data"
    }
   ],
   "source": [
    "plt.hist(car_dataset[car_dataset['bore'] != np.nan]['bore'], range=(2,4))\n",
    "plt.title('Bore distribution in dataset')\n",
    "plt.show()\n",
    "\n",
    "# Conclusion: based on the distribution of 'Bore' variable we will input average value for training dataset in place of missing values"
   ]
  },
  {
   "cell_type": "code",
   "execution_count": 16,
   "metadata": {},
   "outputs": [
    {
     "data": {
      "image/png": "[encoded data removed]",
      "text/plain": [
       "<Figure size 432x288 with 1 Axes>"
      ]
     },
     "metadata": {
      "needs_background": "light"
     },
     "output_type": "display_data"
    }
   ],
   "source": [
    "plt.hist(car_dataset[car_dataset['stroke'] != np.nan]['stroke'], range=(1.5,4.5))\n",
    "plt.title('Stroke distribution in dataset')\n",
    "plt.show()\n",
    "# Conclusion: based on the distribution of 'Stroke' variable we will input average value for training dataset in place of missing values"
   ]
  },
  {
   "cell_type": "code",
   "execution_count": 17,
   "metadata": {},
   "outputs": [
    {
     "name": "stdout",
     "output_type": "stream",
     "text": [
      "     index    brand fuel_type aspirations body_style drive_wheels  \\\n",
      "126    130  renault       gas         std      wagon          fwd   \n",
      "127    131  renault       gas         std  hatchback          fwd   \n",
      "\n",
      "    engine_location  wheel_base  length  widht  height  curb_weight  \\\n",
      "126           front        96.1   181.5   66.5    55.2         2579   \n",
      "127           front        96.1   176.8   66.6    50.5         2460   \n",
      "\n",
      "    engine_type num_of_cylinders  engine_size fuel_system  bore stroke  \\\n",
      "126         ohc             four          132        mpfi  3.46   3.90   \n",
      "127         ohc             four          132        mpfi  3.46   3.90   \n",
      "\n",
      "     compression_ratio horsepower peak_rpm  city_mpg  highway_mpg price  \n",
      "126                8.7       <NA>     <NA>        23           31  9295  \n",
      "127                8.7       <NA>     <NA>        23           31  9895  \n"
     ]
    }
   ],
   "source": [
    "# 'horsepower' and 'peak_rpm'\n",
    "print(car_dataset[car_dataset['horsepower'].isna()])"
   ]
  },
  {
   "cell_type": "code",
   "execution_count": 18,
   "metadata": {
    "scrolled": true
   },
   "outputs": [
    {
     "name": "stdout",
     "output_type": "stream",
     "text": [
      "     index    brand fuel_type aspirations body_style drive_wheels  \\\n",
      "126    130  renault       gas         std      wagon          fwd   \n",
      "127    131  renault       gas         std  hatchback          fwd   \n",
      "\n",
      "    engine_location  wheel_base  length  widht  height  curb_weight  \\\n",
      "126           front        96.1   181.5   66.5    55.2         2579   \n",
      "127           front        96.1   176.8   66.6    50.5         2460   \n",
      "\n",
      "    engine_type num_of_cylinders  engine_size fuel_system  bore stroke  \\\n",
      "126         ohc             four          132        mpfi  3.46   3.90   \n",
      "127         ohc             four          132        mpfi  3.46   3.90   \n",
      "\n",
      "     compression_ratio horsepower peak_rpm  city_mpg  highway_mpg price  \n",
      "126                8.7       <NA>     <NA>        23           31  9295  \n",
      "127                8.7       <NA>     <NA>        23           31  9895  \n"
     ]
    }
   ],
   "source": [
    "# Trying to find observations with non-missing values\n",
    "print(car_dataset[(car_dataset['brand'] == 'renault')])\n",
    "# No definitive way to fill NA values for 'horsepower' and 'peak_rpm'."
   ]
  },
  {
   "cell_type": "code",
   "execution_count": 19,
   "metadata": {},
   "outputs": [
    {
     "data": {
      "image/png": "[encoded data removed]",
      "text/plain": [
       "<Figure size 432x288 with 1 Axes>"
      ]
     },
     "metadata": {
      "needs_background": "light"
     },
     "output_type": "display_data"
    }
   ],
   "source": [
    "plt.hist(car_dataset[car_dataset['horsepower'] != np.nan]['horsepower'])\n",
    "plt.title('Horsepower distribution in dataset')\n",
    "plt.show()\n",
    "# Conclusion: based on the distribution of 'Horsepower' variable we will input average value for training dataset in place of missing values"
   ]
  },
  {
   "cell_type": "code",
   "execution_count": 20,
   "metadata": {},
   "outputs": [
    {
     "data": {
      "image/png": "[encoded data removed]",
      "text/plain": [
       "<Figure size 432x288 with 1 Axes>"
      ]
     },
     "metadata": {
      "needs_background": "light"
     },
     "output_type": "display_data"
    }
   ],
   "source": [
    "plt.hist(car_dataset[car_dataset['peak_rpm'] != np.nan]['peak_rpm'])\n",
    "plt.title('Peak rpm distribution in dataset')\n",
    "plt.show()\n",
    "# Conclusion: based on the distribution of 'Peak_rpm' variable we will input average value for training dataset in place of missing values"
   ]
  },
  {
   "cell_type": "code",
   "execution_count": 21,
   "metadata": {},
   "outputs": [
    {
     "data": {
      "text/html": [
       "<div>\n",
       "<style scoped>\n",
       "    .dataframe tbody tr th:only-of-type {\n",
       "        vertical-align: middle;\n",
       "    }\n",
       "\n",
       "    .dataframe tbody tr th {\n",
       "        vertical-align: top;\n",
       "    }\n",
       "\n",
       "    .dataframe thead th {\n",
       "        text-align: right;\n",
       "    }\n",
       "</style>\n",
       "<table border=\"1\" class=\"dataframe\">\n",
       "  <thead>\n",
       "    <tr style=\"text-align: right;\">\n",
       "      <th></th>\n",
       "      <th>index</th>\n",
       "      <th>brand</th>\n",
       "      <th>fuel_type</th>\n",
       "      <th>aspirations</th>\n",
       "      <th>body_style</th>\n",
       "      <th>drive_wheels</th>\n",
       "      <th>engine_location</th>\n",
       "      <th>wheel_base</th>\n",
       "      <th>length</th>\n",
       "      <th>widht</th>\n",
       "      <th>height</th>\n",
       "      <th>curb_weight</th>\n",
       "      <th>engine_type</th>\n",
       "      <th>num_of_cylinders</th>\n",
       "      <th>engine_size</th>\n",
       "      <th>fuel_system</th>\n",
       "      <th>bore</th>\n",
       "      <th>stroke</th>\n",
       "      <th>compression_ratio</th>\n",
       "      <th>horsepower</th>\n",
       "      <th>peak_rpm</th>\n",
       "      <th>city_mpg</th>\n",
       "      <th>highway_mpg</th>\n",
       "      <th>price</th>\n",
       "    </tr>\n",
       "  </thead>\n",
       "  <tbody>\n",
       "    <tr>\n",
       "      <th>0</th>\n",
       "      <td>0</td>\n",
       "      <td>alfa-romero</td>\n",
       "      <td>gas</td>\n",
       "      <td>std</td>\n",
       "      <td>convertible</td>\n",
       "      <td>rwd</td>\n",
       "      <td>front</td>\n",
       "      <td>88.6</td>\n",
       "      <td>168.8</td>\n",
       "      <td>64.1</td>\n",
       "      <td>48.8</td>\n",
       "      <td>2548</td>\n",
       "      <td>dohc</td>\n",
       "      <td>four</td>\n",
       "      <td>130</td>\n",
       "      <td>mpfi</td>\n",
       "      <td>3.47</td>\n",
       "      <td>2.68</td>\n",
       "      <td>9.0</td>\n",
       "      <td>111</td>\n",
       "      <td>5000</td>\n",
       "      <td>21</td>\n",
       "      <td>27</td>\n",
       "      <td>13495</td>\n",
       "    </tr>\n",
       "    <tr>\n",
       "      <th>1</th>\n",
       "      <td>1</td>\n",
       "      <td>alfa-romero</td>\n",
       "      <td>gas</td>\n",
       "      <td>std</td>\n",
       "      <td>convertible</td>\n",
       "      <td>rwd</td>\n",
       "      <td>front</td>\n",
       "      <td>88.6</td>\n",
       "      <td>168.8</td>\n",
       "      <td>64.1</td>\n",
       "      <td>48.8</td>\n",
       "      <td>2548</td>\n",
       "      <td>dohc</td>\n",
       "      <td>four</td>\n",
       "      <td>130</td>\n",
       "      <td>mpfi</td>\n",
       "      <td>3.47</td>\n",
       "      <td>2.68</td>\n",
       "      <td>9.0</td>\n",
       "      <td>111</td>\n",
       "      <td>5000</td>\n",
       "      <td>21</td>\n",
       "      <td>27</td>\n",
       "      <td>16500</td>\n",
       "    </tr>\n",
       "    <tr>\n",
       "      <th>2</th>\n",
       "      <td>2</td>\n",
       "      <td>alfa-romero</td>\n",
       "      <td>gas</td>\n",
       "      <td>std</td>\n",
       "      <td>hatchback</td>\n",
       "      <td>rwd</td>\n",
       "      <td>front</td>\n",
       "      <td>94.5</td>\n",
       "      <td>171.2</td>\n",
       "      <td>65.5</td>\n",
       "      <td>52.4</td>\n",
       "      <td>2823</td>\n",
       "      <td>ohcv</td>\n",
       "      <td>six</td>\n",
       "      <td>152</td>\n",
       "      <td>mpfi</td>\n",
       "      <td>2.68</td>\n",
       "      <td>3.47</td>\n",
       "      <td>9.0</td>\n",
       "      <td>154</td>\n",
       "      <td>5000</td>\n",
       "      <td>19</td>\n",
       "      <td>26</td>\n",
       "      <td>16500</td>\n",
       "    </tr>\n",
       "    <tr>\n",
       "      <th>3</th>\n",
       "      <td>3</td>\n",
       "      <td>audi</td>\n",
       "      <td>gas</td>\n",
       "      <td>std</td>\n",
       "      <td>sedan</td>\n",
       "      <td>fwd</td>\n",
       "      <td>front</td>\n",
       "      <td>99.8</td>\n",
       "      <td>176.6</td>\n",
       "      <td>66.2</td>\n",
       "      <td>54.3</td>\n",
       "      <td>2337</td>\n",
       "      <td>ohc</td>\n",
       "      <td>four</td>\n",
       "      <td>109</td>\n",
       "      <td>mpfi</td>\n",
       "      <td>3.19</td>\n",
       "      <td>3.40</td>\n",
       "      <td>10.0</td>\n",
       "      <td>102</td>\n",
       "      <td>5500</td>\n",
       "      <td>24</td>\n",
       "      <td>30</td>\n",
       "      <td>13950</td>\n",
       "    </tr>\n",
       "    <tr>\n",
       "      <th>4</th>\n",
       "      <td>4</td>\n",
       "      <td>audi</td>\n",
       "      <td>gas</td>\n",
       "      <td>std</td>\n",
       "      <td>sedan</td>\n",
       "      <td>4wd</td>\n",
       "      <td>front</td>\n",
       "      <td>99.4</td>\n",
       "      <td>176.6</td>\n",
       "      <td>66.4</td>\n",
       "      <td>54.3</td>\n",
       "      <td>2824</td>\n",
       "      <td>ohc</td>\n",
       "      <td>five</td>\n",
       "      <td>136</td>\n",
       "      <td>mpfi</td>\n",
       "      <td>3.19</td>\n",
       "      <td>3.40</td>\n",
       "      <td>8.0</td>\n",
       "      <td>115</td>\n",
       "      <td>5500</td>\n",
       "      <td>18</td>\n",
       "      <td>22</td>\n",
       "      <td>17450</td>\n",
       "    </tr>\n",
       "  </tbody>\n",
       "</table>\n",
       "</div>"
      ],
      "text/plain": [
       "   index        brand fuel_type aspirations   body_style drive_wheels  \\\n",
       "0      0  alfa-romero       gas         std  convertible          rwd   \n",
       "1      1  alfa-romero       gas         std  convertible          rwd   \n",
       "2      2  alfa-romero       gas         std    hatchback          rwd   \n",
       "3      3         audi       gas         std        sedan          fwd   \n",
       "4      4         audi       gas         std        sedan          4wd   \n",
       "\n",
       "  engine_location  wheel_base  length  widht  height  curb_weight engine_type  \\\n",
       "0           front        88.6   168.8   64.1    48.8         2548        dohc   \n",
       "1           front        88.6   168.8   64.1    48.8         2548        dohc   \n",
       "2           front        94.5   171.2   65.5    52.4         2823        ohcv   \n",
       "3           front        99.8   176.6   66.2    54.3         2337         ohc   \n",
       "4           front        99.4   176.6   66.4    54.3         2824         ohc   \n",
       "\n",
       "  num_of_cylinders  engine_size fuel_system  bore stroke  compression_ratio  \\\n",
       "0             four          130        mpfi  3.47   2.68                9.0   \n",
       "1             four          130        mpfi  3.47   2.68                9.0   \n",
       "2              six          152        mpfi  2.68   3.47                9.0   \n",
       "3             four          109        mpfi  3.19   3.40               10.0   \n",
       "4             five          136        mpfi  3.19   3.40                8.0   \n",
       "\n",
       "  horsepower peak_rpm  city_mpg  highway_mpg  price  \n",
       "0        111     5000        21           27  13495  \n",
       "1        111     5000        21           27  16500  \n",
       "2        154     5000        19           26  16500  \n",
       "3        102     5500        24           30  13950  \n",
       "4        115     5500        18           22  17450  "
      ]
     },
     "execution_count": 21,
     "metadata": {},
     "output_type": "execute_result"
    }
   ],
   "source": [
    "car_dataset.head()"
   ]
  },
  {
   "cell_type": "code",
   "execution_count": 22,
   "metadata": {},
   "outputs": [
    {
     "name": "stdout",
     "output_type": "stream",
     "text": [
      "<class 'pandas.core.frame.DataFrame'>\n",
      "RangeIndex: 201 entries, 0 to 200\n",
      "Data columns (total 24 columns):\n",
      " #   Column             Non-Null Count  Dtype  \n",
      "---  ------             --------------  -----  \n",
      " 0   index              201 non-null    int64  \n",
      " 1   brand              201 non-null    string \n",
      " 2   fuel_type          201 non-null    string \n",
      " 3   aspirations        201 non-null    string \n",
      " 4   body_style         201 non-null    string \n",
      " 5   drive_wheels       201 non-null    string \n",
      " 6   engine_location    201 non-null    string \n",
      " 7   wheel_base         201 non-null    Float64\n",
      " 8   length             201 non-null    Float64\n",
      " 9   widht              201 non-null    Float64\n",
      " 10  height             201 non-null    Float64\n",
      " 11  curb_weight        201 non-null    Int64  \n",
      " 12  engine_type        201 non-null    string \n",
      " 13  num_of_cylinders   201 non-null    string \n",
      " 14  engine_size        201 non-null    Int64  \n",
      " 15  fuel_system        201 non-null    string \n",
      " 16  bore               197 non-null    float64\n",
      " 17  stroke             197 non-null    float64\n",
      " 18  compression_ratio  201 non-null    Float64\n",
      " 19  horsepower         199 non-null    float64\n",
      " 20  peak_rpm           199 non-null    float64\n",
      " 21  city_mpg           201 non-null    Int64  \n",
      " 22  highway_mpg        201 non-null    Int64  \n",
      " 23  price              201 non-null    int32  \n",
      "dtypes: Float64(5), Int64(4), float64(4), int32(1), int64(1), string(9)\n",
      "memory usage: 38.8 KB\n",
      "None\n"
     ]
    }
   ],
   "source": [
    "# Correcting data types\n",
    "car_dataset['bore'] = pd.to_numeric(car_dataset['bore'], errors='coerce')\n",
    "car_dataset['stroke'] = pd.to_numeric(car_dataset['stroke'], errors='coerce')\n",
    "car_dataset['horsepower'] = pd.to_numeric(car_dataset['horsepower'], errors='coerce', downcast='integer')\n",
    "car_dataset['peak_rpm'] = pd.to_numeric(car_dataset['peak_rpm'], errors='coerce', downcast='integer')\n",
    "car_dataset['price'] = car_dataset['price'].astype(int)\n",
    "print(car_dataset.info())"
   ]
  },
  {
   "cell_type": "code",
   "execution_count": 23,
   "metadata": {},
   "outputs": [
    {
     "name": "stdout",
     "output_type": "stream",
     "text": [
      "brand\n",
      "toyota           32\n",
      "nissan           18\n",
      "mazda            17\n",
      "mitsubishi       13\n",
      "honda            13\n",
      "volkswagen       12\n",
      "subaru           12\n",
      "peugot           11\n",
      "volvo            11\n",
      "dodge             9\n",
      "bmw               8\n",
      "mercedes-benz     8\n",
      "plymouth          7\n",
      "audi              6\n",
      "saab              6\n",
      "porsche           4\n",
      "jaguar            3\n",
      "chevrolet         3\n",
      "alfa-romero       3\n",
      "isuzu             2\n",
      "renault           2\n",
      "mercury           1\n",
      "Name: brand, dtype: Int64\n",
      "\n",
      "\n",
      "fuel_type\n",
      "gas       181\n",
      "diesel     20\n",
      "Name: fuel_type, dtype: Int64\n",
      "\n",
      "\n",
      "aspirations\n",
      "std      165\n",
      "turbo     36\n",
      "Name: aspirations, dtype: Int64\n",
      "\n",
      "\n",
      "body_style\n",
      "sedan          94\n",
      "hatchback      68\n",
      "wagon          25\n",
      "hardtop         8\n",
      "convertible     6\n",
      "Name: body_style, dtype: Int64\n",
      "\n",
      "\n",
      "drive_wheels\n",
      "fwd    118\n",
      "rwd     75\n",
      "4wd      8\n",
      "Name: drive_wheels, dtype: Int64\n",
      "\n",
      "\n",
      "engine_location\n",
      "front    198\n",
      "rear       3\n",
      "Name: engine_location, dtype: Int64\n",
      "\n",
      "\n",
      "engine_type\n",
      "ohc      145\n",
      "ohcf      15\n",
      "ohcv      13\n",
      "dohc      12\n",
      "l         12\n",
      "rotor      4\n",
      "Name: engine_type, dtype: Int64\n",
      "\n",
      "\n",
      "num_of_cylinders\n",
      "four      157\n",
      "six        24\n",
      "five       10\n",
      "two         4\n",
      "eight       4\n",
      "three       1\n",
      "twelve      1\n",
      "Name: num_of_cylinders, dtype: Int64\n",
      "\n",
      "\n",
      "fuel_system\n",
      "mpfi    92\n",
      "2bbl    64\n",
      "idi     20\n",
      "1bbl    11\n",
      "spdi     9\n",
      "4bbl     3\n",
      "mfi      1\n",
      "spfi     1\n",
      "Name: fuel_system, dtype: Int64\n",
      "\n",
      "\n"
     ]
    }
   ],
   "source": [
    "# Deciding which variables to use for dummy variables creation\n",
    "for name in car_dataset.select_dtypes(include='string').columns:\n",
    "    print(name)\n",
    "    print(car_dataset[name].value_counts())\n",
    "    print('\\n')\n",
    "\n",
    "# brand - group 'isuzu', 'renault', 'mercury' into 'other'\n",
    "# number of cylinders - group into \"three or less\", \"seven or more\"\n",
    "# fuel_system - group '4bbl', 'spfi', 'mfi' into 'other'"
   ]
  },
  {
   "cell_type": "code",
   "execution_count": 24,
   "metadata": {
    "scrolled": true
   },
   "outputs": [],
   "source": [
    "# Function grouping values from 'fuel_system', 'brand', 'num_of_cylinders' and 'engine_type' variables\n",
    "# to more frequent groups \n",
    "def fother(var):\n",
    "    if var in ['4bbl','spfi','mfi','isuzu','renault','mercury']:\n",
    "        return 'other'\n",
    "    elif var in ['two','three']:\n",
    "        return 'three_or_less'\n",
    "    elif var in ['eight','twelve']:\n",
    "        return 'seven_or_more'\n",
    "    else:\n",
    "        return var"
   ]
  },
  {
   "cell_type": "code",
   "execution_count": 25,
   "metadata": {
    "scrolled": true
   },
   "outputs": [],
   "source": [
    "# Updating values\n",
    "car_dataset['brand']=car_dataset['brand'].apply(fother)\n",
    "car_dataset['fuel_system']=car_dataset['fuel_system'].apply(fother)\n",
    "car_dataset['num_of_cylinders']=car_dataset['num_of_cylinders'].apply(fother)\n",
    "car_dataset['engine_type']=car_dataset['engine_type'].apply(fother)"
   ]
  },
  {
   "cell_type": "code",
   "execution_count": 26,
   "metadata": {},
   "outputs": [],
   "source": [
    "# After using apply affected variable types got changed to 'object'\n",
    "# Swtiching them back to 'string'\n",
    "car_dataset = car_dataset.convert_dtypes()\n",
    "# car_dataset.info()"
   ]
  },
  {
   "cell_type": "code",
   "execution_count": 27,
   "metadata": {},
   "outputs": [
    {
     "name": "stdout",
     "output_type": "stream",
     "text": [
      "brand\n",
      "fuel_type\n",
      "aspirations\n",
      "body_style\n",
      "drive_wheels\n",
      "engine_location\n",
      "engine_type\n",
      "num_of_cylinders\n",
      "fuel_system\n"
     ]
    }
   ],
   "source": [
    "# Creating dummy variables based on categorical variables\n",
    "# This is done to broaden variable base for KNN algorithm\n",
    "car_dataset2=car_dataset\n",
    "for name in car_dataset2.select_dtypes(include='string').columns:\n",
    "    print(name)\n",
    "    car_dataset2=pd.get_dummies(car_dataset2, prefix=name, prefix_sep='_', columns=[name])"
   ]
  },
  {
   "cell_type": "code",
   "execution_count": 28,
   "metadata": {},
   "outputs": [
    {
     "name": "stdout",
     "output_type": "stream",
     "text": [
      "<class 'pandas.core.frame.DataFrame'>\n",
      "RangeIndex: 201 entries, 0 to 200\n",
      "Data columns (total 66 columns):\n",
      " #   Column                          Non-Null Count  Dtype  \n",
      "---  ------                          --------------  -----  \n",
      " 0   index                           201 non-null    Int64  \n",
      " 1   wheel_base                      201 non-null    Float64\n",
      " 2   length                          201 non-null    Float64\n",
      " 3   widht                           201 non-null    Float64\n",
      " 4   height                          201 non-null    Float64\n",
      " 5   curb_weight                     201 non-null    Int64  \n",
      " 6   engine_size                     201 non-null    Int64  \n",
      " 7   bore                            197 non-null    Float64\n",
      " 8   stroke                          197 non-null    Float64\n",
      " 9   compression_ratio               201 non-null    Float64\n",
      " 10  horsepower                      199 non-null    Int64  \n",
      " 11  peak_rpm                        199 non-null    Int64  \n",
      " 12  city_mpg                        201 non-null    Int64  \n",
      " 13  highway_mpg                     201 non-null    Int64  \n",
      " 14  price                           201 non-null    Int32  \n",
      " 15  brand_alfa-romero               201 non-null    uint8  \n",
      " 16  brand_audi                      201 non-null    uint8  \n",
      " 17  brand_bmw                       201 non-null    uint8  \n",
      " 18  brand_chevrolet                 201 non-null    uint8  \n",
      " 19  brand_dodge                     201 non-null    uint8  \n",
      " 20  brand_honda                     201 non-null    uint8  \n",
      " 21  brand_jaguar                    201 non-null    uint8  \n",
      " 22  brand_mazda                     201 non-null    uint8  \n",
      " 23  brand_mercedes-benz             201 non-null    uint8  \n",
      " 24  brand_mitsubishi                201 non-null    uint8  \n",
      " 25  brand_nissan                    201 non-null    uint8  \n",
      " 26  brand_other                     201 non-null    uint8  \n",
      " 27  brand_peugot                    201 non-null    uint8  \n",
      " 28  brand_plymouth                  201 non-null    uint8  \n",
      " 29  brand_porsche                   201 non-null    uint8  \n",
      " 30  brand_saab                      201 non-null    uint8  \n",
      " 31  brand_subaru                    201 non-null    uint8  \n",
      " 32  brand_toyota                    201 non-null    uint8  \n",
      " 33  brand_volkswagen                201 non-null    uint8  \n",
      " 34  brand_volvo                     201 non-null    uint8  \n",
      " 35  fuel_type_diesel                201 non-null    uint8  \n",
      " 36  fuel_type_gas                   201 non-null    uint8  \n",
      " 37  aspirations_std                 201 non-null    uint8  \n",
      " 38  aspirations_turbo               201 non-null    uint8  \n",
      " 39  body_style_convertible          201 non-null    uint8  \n",
      " 40  body_style_hardtop              201 non-null    uint8  \n",
      " 41  body_style_hatchback            201 non-null    uint8  \n",
      " 42  body_style_sedan                201 non-null    uint8  \n",
      " 43  body_style_wagon                201 non-null    uint8  \n",
      " 44  drive_wheels_4wd                201 non-null    uint8  \n",
      " 45  drive_wheels_fwd                201 non-null    uint8  \n",
      " 46  drive_wheels_rwd                201 non-null    uint8  \n",
      " 47  engine_location_front           201 non-null    uint8  \n",
      " 48  engine_location_rear            201 non-null    uint8  \n",
      " 49  engine_type_dohc                201 non-null    uint8  \n",
      " 50  engine_type_l                   201 non-null    uint8  \n",
      " 51  engine_type_ohc                 201 non-null    uint8  \n",
      " 52  engine_type_ohcf                201 non-null    uint8  \n",
      " 53  engine_type_ohcv                201 non-null    uint8  \n",
      " 54  engine_type_rotor               201 non-null    uint8  \n",
      " 55  num_of_cylinders_five           201 non-null    uint8  \n",
      " 56  num_of_cylinders_four           201 non-null    uint8  \n",
      " 57  num_of_cylinders_seven_or_more  201 non-null    uint8  \n",
      " 58  num_of_cylinders_six            201 non-null    uint8  \n",
      " 59  num_of_cylinders_three_or_less  201 non-null    uint8  \n",
      " 60  fuel_system_1bbl                201 non-null    uint8  \n",
      " 61  fuel_system_2bbl                201 non-null    uint8  \n",
      " 62  fuel_system_idi                 201 non-null    uint8  \n",
      " 63  fuel_system_mpfi                201 non-null    uint8  \n",
      " 64  fuel_system_other               201 non-null    uint8  \n",
      " 65  fuel_system_spdi                201 non-null    uint8  \n",
      "dtypes: Float64(7), Int32(1), Int64(7), uint8(51)\n",
      "memory usage: 35.8 KB\n"
     ]
    }
   ],
   "source": [
    "# Checking variable types of our new dataset - now 66 variables\n",
    "# All variables are numeric type, so we can use them in KNN algorithm\n",
    "# Still there are missing values present in 'bore', 'stroke' (4) and 'horsepower', 'peak_rpm' (2)\n",
    "car_dataset2.info()"
   ]
  },
  {
   "cell_type": "markdown",
   "metadata": {},
   "source": [
    "# Phase 2 - train/test split, missing values handling and standarization"
   ]
  },
  {
   "cell_type": "code",
   "execution_count": 29,
   "metadata": {},
   "outputs": [],
   "source": [
    "# We have low number of observations (201)\n",
    "# Arbitrarly deciding that we will use 20% holdout test dataset\n",
    "\n",
    "# Preparing list of explanatory variables \n",
    "features = car_dataset2.columns.to_list()\n",
    "features.remove('price')\n",
    "\n",
    "\n",
    "X = car_dataset2.loc[:, features]\n",
    "y = car_dataset2.loc[:, ['price']]\n",
    "X_train, X_test, y_train, y_test = train_test_split(X, y, random_state= rd_state, train_size = .8)\n"
   ]
  },
  {
   "cell_type": "code",
   "execution_count": 30,
   "metadata": {},
   "outputs": [
    {
     "name": "stdout",
     "output_type": "stream",
     "text": [
      "train size: 160\n",
      "test size: 41\n"
     ]
    }
   ],
   "source": [
    "print('train size: ' + str(X_train.shape[0]))\n",
    "print('test size: ' + str(X_test.shape[0]))\n",
    "# Sample sizes are correct"
   ]
  },
  {
   "cell_type": "code",
   "execution_count": 31,
   "metadata": {},
   "outputs": [
    {
     "data": {
      "image/png": "[encoded data removed]",
      "text/plain": [
       "<Figure size 432x288 with 1 Axes>"
      ]
     },
     "metadata": {
      "needs_background": "light"
     },
     "output_type": "display_data"
    },
    {
     "data": {
      "image/png": "[encoded data removed]",
      "text/plain": [
       "<Figure size 432x288 with 1 Axes>"
      ]
     },
     "metadata": {
      "needs_background": "light"
     },
     "output_type": "display_data"
    },
    {
     "data": {
      "image/png": "[encoded data removed]",
      "text/plain": [
       "<Figure size 432x288 with 1 Axes>"
      ]
     },
     "metadata": {
      "needs_background": "light"
     },
     "output_type": "display_data"
    }
   ],
   "source": [
    "plt.hist(y_train['price'])\n",
    "plt.title('Price distribution in train dataset')\n",
    "plt.show()\n",
    "plt.hist(y_test['price'])\n",
    "plt.title('Price distribution in train dataset')\n",
    "plt.show()\n",
    "# Distribution plot of target variable \n",
    "plt.hist(car_dataset['price'])\n",
    "plt.title('Price distribution car dataset')\n",
    "plt.show()"
   ]
  },
  {
   "cell_type": "code",
   "execution_count": 32,
   "metadata": {},
   "outputs": [
    {
     "data": {
      "text/plain": [
       "index                             0\n",
       "wheel_base                        0\n",
       "length                            0\n",
       "widht                             0\n",
       "height                            0\n",
       "curb_weight                       0\n",
       "engine_size                       0\n",
       "bore                              4\n",
       "stroke                            4\n",
       "compression_ratio                 0\n",
       "horsepower                        2\n",
       "peak_rpm                          2\n",
       "city_mpg                          0\n",
       "highway_mpg                       0\n",
       "brand_alfa-romero                 0\n",
       "brand_audi                        0\n",
       "brand_bmw                         0\n",
       "brand_chevrolet                   0\n",
       "brand_dodge                       0\n",
       "brand_honda                       0\n",
       "brand_jaguar                      0\n",
       "brand_mazda                       0\n",
       "brand_mercedes-benz               0\n",
       "brand_mitsubishi                  0\n",
       "brand_nissan                      0\n",
       "brand_other                       0\n",
       "brand_peugot                      0\n",
       "brand_plymouth                    0\n",
       "brand_porsche                     0\n",
       "brand_saab                        0\n",
       "brand_subaru                      0\n",
       "brand_toyota                      0\n",
       "brand_volkswagen                  0\n",
       "brand_volvo                       0\n",
       "fuel_type_diesel                  0\n",
       "fuel_type_gas                     0\n",
       "aspirations_std                   0\n",
       "aspirations_turbo                 0\n",
       "body_style_convertible            0\n",
       "body_style_hardtop                0\n",
       "body_style_hatchback              0\n",
       "body_style_sedan                  0\n",
       "body_style_wagon                  0\n",
       "drive_wheels_4wd                  0\n",
       "drive_wheels_fwd                  0\n",
       "drive_wheels_rwd                  0\n",
       "engine_location_front             0\n",
       "engine_location_rear              0\n",
       "engine_type_dohc                  0\n",
       "engine_type_l                     0\n",
       "engine_type_ohc                   0\n",
       "engine_type_ohcf                  0\n",
       "engine_type_ohcv                  0\n",
       "engine_type_rotor                 0\n",
       "num_of_cylinders_five             0\n",
       "num_of_cylinders_four             0\n",
       "num_of_cylinders_seven_or_more    0\n",
       "num_of_cylinders_six              0\n",
       "num_of_cylinders_three_or_less    0\n",
       "fuel_system_1bbl                  0\n",
       "fuel_system_2bbl                  0\n",
       "fuel_system_idi                   0\n",
       "fuel_system_mpfi                  0\n",
       "fuel_system_other                 0\n",
       "fuel_system_spdi                  0\n",
       "dtype: int64"
      ]
     },
     "execution_count": 32,
     "metadata": {},
     "output_type": "execute_result"
    }
   ],
   "source": [
    "X_train.isna().sum()\n",
    "# All missing values are in the train dataset"
   ]
  },
  {
   "cell_type": "code",
   "execution_count": 35,
   "metadata": {},
   "outputs": [
    {
     "name": "stdout",
     "output_type": "stream",
     "text": [
      "<class 'pandas.core.frame.DataFrame'>\n",
      "Int64Index: 160 entries, 110 to 37\n",
      "Data columns (total 65 columns):\n",
      " #   Column                          Non-Null Count  Dtype  \n",
      "---  ------                          --------------  -----  \n",
      " 0   index                           160 non-null    Int64  \n",
      " 1   wheel_base                      160 non-null    Float64\n",
      " 2   length                          160 non-null    Float64\n",
      " 3   widht                           160 non-null    Float64\n",
      " 4   height                          160 non-null    Float64\n",
      " 5   curb_weight                     160 non-null    Int64  \n",
      " 6   engine_size                     160 non-null    Int64  \n",
      " 7   bore                            160 non-null    Float64\n",
      " 8   stroke                          160 non-null    Float64\n",
      " 9   compression_ratio               160 non-null    Float64\n",
      " 10  horsepower                      158 non-null    Int64  \n",
      " 11  peak_rpm                        158 non-null    Int64  \n",
      " 12  city_mpg                        160 non-null    Int64  \n",
      " 13  highway_mpg                     160 non-null    Int64  \n",
      " 14  brand_alfa-romero               160 non-null    uint8  \n",
      " 15  brand_audi                      160 non-null    uint8  \n",
      " 16  brand_bmw                       160 non-null    uint8  \n",
      " 17  brand_chevrolet                 160 non-null    uint8  \n",
      " 18  brand_dodge                     160 non-null    uint8  \n",
      " 19  brand_honda                     160 non-null    uint8  \n",
      " 20  brand_jaguar                    160 non-null    uint8  \n",
      " 21  brand_mazda                     160 non-null    uint8  \n",
      " 22  brand_mercedes-benz             160 non-null    uint8  \n",
      " 23  brand_mitsubishi                160 non-null    uint8  \n",
      " 24  brand_nissan                    160 non-null    uint8  \n",
      " 25  brand_other                     160 non-null    uint8  \n",
      " 26  brand_peugot                    160 non-null    uint8  \n",
      " 27  brand_plymouth                  160 non-null    uint8  \n",
      " 28  brand_porsche                   160 non-null    uint8  \n",
      " 29  brand_saab                      160 non-null    uint8  \n",
      " 30  brand_subaru                    160 non-null    uint8  \n",
      " 31  brand_toyota                    160 non-null    uint8  \n",
      " 32  brand_volkswagen                160 non-null    uint8  \n",
      " 33  brand_volvo                     160 non-null    uint8  \n",
      " 34  fuel_type_diesel                160 non-null    uint8  \n",
      " 35  fuel_type_gas                   160 non-null    uint8  \n",
      " 36  aspirations_std                 160 non-null    uint8  \n",
      " 37  aspirations_turbo               160 non-null    uint8  \n",
      " 38  body_style_convertible          160 non-null    uint8  \n",
      " 39  body_style_hardtop              160 non-null    uint8  \n",
      " 40  body_style_hatchback            160 non-null    uint8  \n",
      " 41  body_style_sedan                160 non-null    uint8  \n",
      " 42  body_style_wagon                160 non-null    uint8  \n",
      " 43  drive_wheels_4wd                160 non-null    uint8  \n",
      " 44  drive_wheels_fwd                160 non-null    uint8  \n",
      " 45  drive_wheels_rwd                160 non-null    uint8  \n",
      " 46  engine_location_front           160 non-null    uint8  \n",
      " 47  engine_location_rear            160 non-null    uint8  \n",
      " 48  engine_type_dohc                160 non-null    uint8  \n",
      " 49  engine_type_l                   160 non-null    uint8  \n",
      " 50  engine_type_ohc                 160 non-null    uint8  \n",
      " 51  engine_type_ohcf                160 non-null    uint8  \n",
      " 52  engine_type_ohcv                160 non-null    uint8  \n",
      " 53  engine_type_rotor               160 non-null    uint8  \n",
      " 54  num_of_cylinders_five           160 non-null    uint8  \n",
      " 55  num_of_cylinders_four           160 non-null    uint8  \n",
      " 56  num_of_cylinders_seven_or_more  160 non-null    uint8  \n",
      " 57  num_of_cylinders_six            160 non-null    uint8  \n",
      " 58  num_of_cylinders_three_or_less  160 non-null    uint8  \n",
      " 59  fuel_system_1bbl                160 non-null    uint8  \n",
      " 60  fuel_system_2bbl                160 non-null    uint8  \n",
      " 61  fuel_system_idi                 160 non-null    uint8  \n",
      " 62  fuel_system_mpfi                160 non-null    uint8  \n",
      " 63  fuel_system_other               160 non-null    uint8  \n",
      " 64  fuel_system_spdi                160 non-null    uint8  \n",
      "dtypes: Float64(7), Int64(7), uint8(51)\n",
      "memory usage: 28.9 KB\n"
     ]
    }
   ],
   "source": [
    "X_train.info()"
   ]
  },
  {
   "cell_type": "code",
   "execution_count": 34,
   "metadata": {},
   "outputs": [
    {
     "ename": "TypeError",
     "evalue": "cannot safely cast non-equivalent float64 to int64",
     "output_type": "error",
     "traceback": [
      "\u001b[1;31m---------------------------------------------------------------------------\u001b[0m",
      "\u001b[1;31mTypeError\u001b[0m                                 Traceback (most recent call last)",
      "File \u001b[1;32mC:\\ProgramData\\Anaconda3\\lib\\site-packages\\pandas\\core\\arrays\\integer.py:120\u001b[0m, in \u001b[0;36msafe_cast\u001b[1;34m(values, dtype, copy)\u001b[0m\n\u001b[0;32m    119\u001b[0m \u001b[38;5;28;01mtry\u001b[39;00m:\n\u001b[1;32m--> 120\u001b[0m     \u001b[38;5;28;01mreturn\u001b[39;00m \u001b[43mvalues\u001b[49m\u001b[38;5;241;43m.\u001b[39;49m\u001b[43mastype\u001b[49m\u001b[43m(\u001b[49m\u001b[43mdtype\u001b[49m\u001b[43m,\u001b[49m\u001b[43m \u001b[49m\u001b[43mcasting\u001b[49m\u001b[38;5;241;43m=\u001b[39;49m\u001b[38;5;124;43m\"\u001b[39;49m\u001b[38;5;124;43msafe\u001b[39;49m\u001b[38;5;124;43m\"\u001b[39;49m\u001b[43m,\u001b[49m\u001b[43m \u001b[49m\u001b[43mcopy\u001b[49m\u001b[38;5;241;43m=\u001b[39;49m\u001b[43mcopy\u001b[49m\u001b[43m)\u001b[49m\n\u001b[0;32m    121\u001b[0m \u001b[38;5;28;01mexcept\u001b[39;00m \u001b[38;5;167;01mTypeError\u001b[39;00m \u001b[38;5;28;01mas\u001b[39;00m err:\n",
      "\u001b[1;31mTypeError\u001b[0m: Cannot cast array data from dtype('float64') to dtype('int64') according to the rule 'safe'",
      "\nThe above exception was the direct cause of the following exception:\n",
      "\u001b[1;31mTypeError\u001b[0m                                 Traceback (most recent call last)",
      "Input \u001b[1;32mIn [34]\u001b[0m, in \u001b[0;36m<cell line: 4>\u001b[1;34m()\u001b[0m\n\u001b[0;32m      1\u001b[0m \u001b[38;5;66;03m# Filling missing values with variable averages:\u001b[39;00m\n\u001b[0;32m      2\u001b[0m \u001b[38;5;66;03m# We do this based on train data, not on test data to prevent information leakage about variable distribution to test dataset\u001b[39;00m\n\u001b[0;32m      4\u001b[0m \u001b[38;5;28;01mfor\u001b[39;00m name \u001b[38;5;129;01min\u001b[39;00m cols_with_na:\n\u001b[1;32m----> 5\u001b[0m     \u001b[43mX_train\u001b[49m\u001b[43m[\u001b[49m\u001b[43mname\u001b[49m\u001b[43m]\u001b[49m\u001b[38;5;241;43m.\u001b[39;49m\u001b[43mfillna\u001b[49m\u001b[43m(\u001b[49m\u001b[43mvalue\u001b[49m\u001b[38;5;241;43m=\u001b[39;49m\u001b[43mnp\u001b[49m\u001b[38;5;241;43m.\u001b[39;49m\u001b[43mmean\u001b[49m\u001b[43m(\u001b[49m\u001b[43mX_train\u001b[49m\u001b[43m[\u001b[49m\u001b[43mname\u001b[49m\u001b[43m]\u001b[49m\u001b[43m)\u001b[49m\u001b[43m,\u001b[49m\u001b[43m \u001b[49m\u001b[43minplace\u001b[49m\u001b[38;5;241;43m=\u001b[39;49m\u001b[38;5;28;43;01mTrue\u001b[39;49;00m\u001b[43m,\u001b[49m\u001b[43m \u001b[49m\u001b[43mdowncast\u001b[49m\u001b[38;5;241;43m=\u001b[39;49m\u001b[38;5;124;43m'\u001b[39;49m\u001b[38;5;124;43minfer\u001b[39;49m\u001b[38;5;124;43m'\u001b[39;49m\u001b[43m)\u001b[49m\n",
      "File \u001b[1;32mC:\\ProgramData\\Anaconda3\\lib\\site-packages\\pandas\\util\\_decorators.py:311\u001b[0m, in \u001b[0;36mdeprecate_nonkeyword_arguments.<locals>.decorate.<locals>.wrapper\u001b[1;34m(*args, **kwargs)\u001b[0m\n\u001b[0;32m    305\u001b[0m \u001b[38;5;28;01mif\u001b[39;00m \u001b[38;5;28mlen\u001b[39m(args) \u001b[38;5;241m>\u001b[39m num_allow_args:\n\u001b[0;32m    306\u001b[0m     warnings\u001b[38;5;241m.\u001b[39mwarn(\n\u001b[0;32m    307\u001b[0m         msg\u001b[38;5;241m.\u001b[39mformat(arguments\u001b[38;5;241m=\u001b[39marguments),\n\u001b[0;32m    308\u001b[0m         \u001b[38;5;167;01mFutureWarning\u001b[39;00m,\n\u001b[0;32m    309\u001b[0m         stacklevel\u001b[38;5;241m=\u001b[39mstacklevel,\n\u001b[0;32m    310\u001b[0m     )\n\u001b[1;32m--> 311\u001b[0m \u001b[38;5;28;01mreturn\u001b[39;00m func(\u001b[38;5;241m*\u001b[39margs, \u001b[38;5;241m*\u001b[39m\u001b[38;5;241m*\u001b[39mkwargs)\n",
      "File \u001b[1;32mC:\\ProgramData\\Anaconda3\\lib\\site-packages\\pandas\\core\\series.py:4908\u001b[0m, in \u001b[0;36mSeries.fillna\u001b[1;34m(self, value, method, axis, inplace, limit, downcast)\u001b[0m\n\u001b[0;32m   4897\u001b[0m \u001b[38;5;129m@deprecate_nonkeyword_arguments\u001b[39m(version\u001b[38;5;241m=\u001b[39m\u001b[38;5;28;01mNone\u001b[39;00m, allowed_args\u001b[38;5;241m=\u001b[39m[\u001b[38;5;124m\"\u001b[39m\u001b[38;5;124mself\u001b[39m\u001b[38;5;124m\"\u001b[39m, \u001b[38;5;124m\"\u001b[39m\u001b[38;5;124mvalue\u001b[39m\u001b[38;5;124m\"\u001b[39m])\n\u001b[0;32m   4898\u001b[0m \u001b[38;5;129m@doc\u001b[39m(NDFrame\u001b[38;5;241m.\u001b[39mfillna, \u001b[38;5;241m*\u001b[39m\u001b[38;5;241m*\u001b[39m_shared_doc_kwargs)  \u001b[38;5;66;03m# type: ignore[has-type]\u001b[39;00m\n\u001b[0;32m   4899\u001b[0m \u001b[38;5;28;01mdef\u001b[39;00m \u001b[38;5;21mfillna\u001b[39m(\n\u001b[1;32m   (...)\u001b[0m\n\u001b[0;32m   4906\u001b[0m     downcast\u001b[38;5;241m=\u001b[39m\u001b[38;5;28;01mNone\u001b[39;00m,\n\u001b[0;32m   4907\u001b[0m ) \u001b[38;5;241m-\u001b[39m\u001b[38;5;241m>\u001b[39m Series \u001b[38;5;241m|\u001b[39m \u001b[38;5;28;01mNone\u001b[39;00m:\n\u001b[1;32m-> 4908\u001b[0m     \u001b[38;5;28;01mreturn\u001b[39;00m \u001b[38;5;28;43msuper\u001b[39;49m\u001b[43m(\u001b[49m\u001b[43m)\u001b[49m\u001b[38;5;241;43m.\u001b[39;49m\u001b[43mfillna\u001b[49m\u001b[43m(\u001b[49m\n\u001b[0;32m   4909\u001b[0m \u001b[43m        \u001b[49m\u001b[43mvalue\u001b[49m\u001b[38;5;241;43m=\u001b[39;49m\u001b[43mvalue\u001b[49m\u001b[43m,\u001b[49m\n\u001b[0;32m   4910\u001b[0m \u001b[43m        \u001b[49m\u001b[43mmethod\u001b[49m\u001b[38;5;241;43m=\u001b[39;49m\u001b[43mmethod\u001b[49m\u001b[43m,\u001b[49m\n\u001b[0;32m   4911\u001b[0m \u001b[43m        \u001b[49m\u001b[43maxis\u001b[49m\u001b[38;5;241;43m=\u001b[39;49m\u001b[43maxis\u001b[49m\u001b[43m,\u001b[49m\n\u001b[0;32m   4912\u001b[0m \u001b[43m        \u001b[49m\u001b[43minplace\u001b[49m\u001b[38;5;241;43m=\u001b[39;49m\u001b[43minplace\u001b[49m\u001b[43m,\u001b[49m\n\u001b[0;32m   4913\u001b[0m \u001b[43m        \u001b[49m\u001b[43mlimit\u001b[49m\u001b[38;5;241;43m=\u001b[39;49m\u001b[43mlimit\u001b[49m\u001b[43m,\u001b[49m\n\u001b[0;32m   4914\u001b[0m \u001b[43m        \u001b[49m\u001b[43mdowncast\u001b[49m\u001b[38;5;241;43m=\u001b[39;49m\u001b[43mdowncast\u001b[49m\u001b[43m,\u001b[49m\n\u001b[0;32m   4915\u001b[0m \u001b[43m    \u001b[49m\u001b[43m)\u001b[49m\n",
      "File \u001b[1;32mC:\\ProgramData\\Anaconda3\\lib\\site-packages\\pandas\\core\\generic.py:6467\u001b[0m, in \u001b[0;36mNDFrame.fillna\u001b[1;34m(self, value, method, axis, inplace, limit, downcast)\u001b[0m\n\u001b[0;32m   6460\u001b[0m     \u001b[38;5;28;01melse\u001b[39;00m:\n\u001b[0;32m   6461\u001b[0m         \u001b[38;5;28;01mraise\u001b[39;00m \u001b[38;5;167;01mTypeError\u001b[39;00m(\n\u001b[0;32m   6462\u001b[0m             \u001b[38;5;124m'\u001b[39m\u001b[38;5;124m\"\u001b[39m\u001b[38;5;124mvalue\u001b[39m\u001b[38;5;124m\"\u001b[39m\u001b[38;5;124m parameter must be a scalar, dict \u001b[39m\u001b[38;5;124m'\u001b[39m\n\u001b[0;32m   6463\u001b[0m             \u001b[38;5;124m\"\u001b[39m\u001b[38;5;124mor Series, but you passed a \u001b[39m\u001b[38;5;124m\"\u001b[39m\n\u001b[0;32m   6464\u001b[0m             \u001b[38;5;124mf\u001b[39m\u001b[38;5;124m'\u001b[39m\u001b[38;5;124m\"\u001b[39m\u001b[38;5;132;01m{\u001b[39;00m\u001b[38;5;28mtype\u001b[39m(value)\u001b[38;5;241m.\u001b[39m\u001b[38;5;18m__name__\u001b[39m\u001b[38;5;132;01m}\u001b[39;00m\u001b[38;5;124m\"\u001b[39m\u001b[38;5;124m'\u001b[39m\n\u001b[0;32m   6465\u001b[0m         )\n\u001b[1;32m-> 6467\u001b[0m     new_data \u001b[38;5;241m=\u001b[39m \u001b[38;5;28;43mself\u001b[39;49m\u001b[38;5;241;43m.\u001b[39;49m\u001b[43m_mgr\u001b[49m\u001b[38;5;241;43m.\u001b[39;49m\u001b[43mfillna\u001b[49m\u001b[43m(\u001b[49m\n\u001b[0;32m   6468\u001b[0m \u001b[43m        \u001b[49m\u001b[43mvalue\u001b[49m\u001b[38;5;241;43m=\u001b[39;49m\u001b[43mvalue\u001b[49m\u001b[43m,\u001b[49m\u001b[43m \u001b[49m\u001b[43mlimit\u001b[49m\u001b[38;5;241;43m=\u001b[39;49m\u001b[43mlimit\u001b[49m\u001b[43m,\u001b[49m\u001b[43m \u001b[49m\u001b[43minplace\u001b[49m\u001b[38;5;241;43m=\u001b[39;49m\u001b[43minplace\u001b[49m\u001b[43m,\u001b[49m\u001b[43m \u001b[49m\u001b[43mdowncast\u001b[49m\u001b[38;5;241;43m=\u001b[39;49m\u001b[43mdowncast\u001b[49m\n\u001b[0;32m   6469\u001b[0m \u001b[43m    \u001b[49m\u001b[43m)\u001b[49m\n\u001b[0;32m   6471\u001b[0m \u001b[38;5;28;01melif\u001b[39;00m \u001b[38;5;28misinstance\u001b[39m(value, (\u001b[38;5;28mdict\u001b[39m, ABCSeries)):\n\u001b[0;32m   6472\u001b[0m     \u001b[38;5;28;01mif\u001b[39;00m axis \u001b[38;5;241m==\u001b[39m \u001b[38;5;241m1\u001b[39m:\n",
      "File \u001b[1;32mC:\\ProgramData\\Anaconda3\\lib\\site-packages\\pandas\\core\\internals\\managers.py:414\u001b[0m, in \u001b[0;36mBaseBlockManager.fillna\u001b[1;34m(self, value, limit, inplace, downcast)\u001b[0m\n\u001b[0;32m    413\u001b[0m \u001b[38;5;28;01mdef\u001b[39;00m \u001b[38;5;21mfillna\u001b[39m(\u001b[38;5;28mself\u001b[39m: T, value, limit, inplace: \u001b[38;5;28mbool\u001b[39m, downcast) \u001b[38;5;241m-\u001b[39m\u001b[38;5;241m>\u001b[39m T:\n\u001b[1;32m--> 414\u001b[0m     \u001b[38;5;28;01mreturn\u001b[39;00m \u001b[38;5;28;43mself\u001b[39;49m\u001b[38;5;241;43m.\u001b[39;49m\u001b[43mapply\u001b[49m\u001b[43m(\u001b[49m\n\u001b[0;32m    415\u001b[0m \u001b[43m        \u001b[49m\u001b[38;5;124;43m\"\u001b[39;49m\u001b[38;5;124;43mfillna\u001b[39;49m\u001b[38;5;124;43m\"\u001b[39;49m\u001b[43m,\u001b[49m\u001b[43m \u001b[49m\u001b[43mvalue\u001b[49m\u001b[38;5;241;43m=\u001b[39;49m\u001b[43mvalue\u001b[49m\u001b[43m,\u001b[49m\u001b[43m \u001b[49m\u001b[43mlimit\u001b[49m\u001b[38;5;241;43m=\u001b[39;49m\u001b[43mlimit\u001b[49m\u001b[43m,\u001b[49m\u001b[43m \u001b[49m\u001b[43minplace\u001b[49m\u001b[38;5;241;43m=\u001b[39;49m\u001b[43minplace\u001b[49m\u001b[43m,\u001b[49m\u001b[43m \u001b[49m\u001b[43mdowncast\u001b[49m\u001b[38;5;241;43m=\u001b[39;49m\u001b[43mdowncast\u001b[49m\n\u001b[0;32m    416\u001b[0m \u001b[43m    \u001b[49m\u001b[43m)\u001b[49m\n",
      "File \u001b[1;32mC:\\ProgramData\\Anaconda3\\lib\\site-packages\\pandas\\core\\internals\\managers.py:304\u001b[0m, in \u001b[0;36mBaseBlockManager.apply\u001b[1;34m(self, f, align_keys, ignore_failures, **kwargs)\u001b[0m\n\u001b[0;32m    302\u001b[0m         applied \u001b[38;5;241m=\u001b[39m b\u001b[38;5;241m.\u001b[39mapply(f, \u001b[38;5;241m*\u001b[39m\u001b[38;5;241m*\u001b[39mkwargs)\n\u001b[0;32m    303\u001b[0m     \u001b[38;5;28;01melse\u001b[39;00m:\n\u001b[1;32m--> 304\u001b[0m         applied \u001b[38;5;241m=\u001b[39m \u001b[38;5;28mgetattr\u001b[39m(b, f)(\u001b[38;5;241m*\u001b[39m\u001b[38;5;241m*\u001b[39mkwargs)\n\u001b[0;32m    305\u001b[0m \u001b[38;5;28;01mexcept\u001b[39;00m (\u001b[38;5;167;01mTypeError\u001b[39;00m, \u001b[38;5;167;01mNotImplementedError\u001b[39;00m):\n\u001b[0;32m    306\u001b[0m     \u001b[38;5;28;01mif\u001b[39;00m \u001b[38;5;129;01mnot\u001b[39;00m ignore_failures:\n",
      "File \u001b[1;32mC:\\ProgramData\\Anaconda3\\lib\\site-packages\\pandas\\core\\internals\\blocks.py:1705\u001b[0m, in \u001b[0;36mExtensionBlock.fillna\u001b[1;34m(self, value, limit, inplace, downcast)\u001b[0m\n\u001b[0;32m   1702\u001b[0m \u001b[38;5;28;01mdef\u001b[39;00m \u001b[38;5;21mfillna\u001b[39m(\n\u001b[0;32m   1703\u001b[0m     \u001b[38;5;28mself\u001b[39m, value, limit\u001b[38;5;241m=\u001b[39m\u001b[38;5;28;01mNone\u001b[39;00m, inplace: \u001b[38;5;28mbool\u001b[39m \u001b[38;5;241m=\u001b[39m \u001b[38;5;28;01mFalse\u001b[39;00m, downcast\u001b[38;5;241m=\u001b[39m\u001b[38;5;28;01mNone\u001b[39;00m\n\u001b[0;32m   1704\u001b[0m ) \u001b[38;5;241m-\u001b[39m\u001b[38;5;241m>\u001b[39m \u001b[38;5;28mlist\u001b[39m[Block]:\n\u001b[1;32m-> 1705\u001b[0m     values \u001b[38;5;241m=\u001b[39m \u001b[38;5;28;43mself\u001b[39;49m\u001b[38;5;241;43m.\u001b[39;49m\u001b[43mvalues\u001b[49m\u001b[38;5;241;43m.\u001b[39;49m\u001b[43mfillna\u001b[49m\u001b[43m(\u001b[49m\u001b[43mvalue\u001b[49m\u001b[38;5;241;43m=\u001b[39;49m\u001b[43mvalue\u001b[49m\u001b[43m,\u001b[49m\u001b[43m \u001b[49m\u001b[43mlimit\u001b[49m\u001b[38;5;241;43m=\u001b[39;49m\u001b[43mlimit\u001b[49m\u001b[43m)\u001b[49m\n\u001b[0;32m   1706\u001b[0m     \u001b[38;5;28;01mreturn\u001b[39;00m [\u001b[38;5;28mself\u001b[39m\u001b[38;5;241m.\u001b[39mmake_block_same_class(values\u001b[38;5;241m=\u001b[39mvalues)]\n",
      "File \u001b[1;32mC:\\ProgramData\\Anaconda3\\lib\\site-packages\\pandas\\core\\arrays\\masked.py:212\u001b[0m, in \u001b[0;36mBaseMaskedArray.fillna\u001b[1;34m(self, value, method, limit)\u001b[0m\n\u001b[0;32m    209\u001b[0m     \u001b[38;5;28;01melse\u001b[39;00m:\n\u001b[0;32m    210\u001b[0m         \u001b[38;5;66;03m# fill with value\u001b[39;00m\n\u001b[0;32m    211\u001b[0m         new_values \u001b[38;5;241m=\u001b[39m \u001b[38;5;28mself\u001b[39m\u001b[38;5;241m.\u001b[39mcopy()\n\u001b[1;32m--> 212\u001b[0m         new_values[mask] \u001b[38;5;241m=\u001b[39m value\n\u001b[0;32m    213\u001b[0m \u001b[38;5;28;01melse\u001b[39;00m:\n\u001b[0;32m    214\u001b[0m     new_values \u001b[38;5;241m=\u001b[39m \u001b[38;5;28mself\u001b[39m\u001b[38;5;241m.\u001b[39mcopy()\n",
      "File \u001b[1;32mC:\\ProgramData\\Anaconda3\\lib\\site-packages\\pandas\\core\\arrays\\masked.py:224\u001b[0m, in \u001b[0;36mBaseMaskedArray.__setitem__\u001b[1;34m(self, key, value)\u001b[0m\n\u001b[0;32m    222\u001b[0m \u001b[38;5;28;01mif\u001b[39;00m _is_scalar:\n\u001b[0;32m    223\u001b[0m     value \u001b[38;5;241m=\u001b[39m [value]\n\u001b[1;32m--> 224\u001b[0m value, mask \u001b[38;5;241m=\u001b[39m \u001b[38;5;28;43mself\u001b[39;49m\u001b[38;5;241;43m.\u001b[39;49m\u001b[43m_coerce_to_array\u001b[49m\u001b[43m(\u001b[49m\u001b[43mvalue\u001b[49m\u001b[43m)\u001b[49m\n\u001b[0;32m    226\u001b[0m \u001b[38;5;28;01mif\u001b[39;00m _is_scalar:\n\u001b[0;32m    227\u001b[0m     value \u001b[38;5;241m=\u001b[39m value[\u001b[38;5;241m0\u001b[39m]\n",
      "File \u001b[1;32mC:\\ProgramData\\Anaconda3\\lib\\site-packages\\pandas\\core\\arrays\\integer.py:336\u001b[0m, in \u001b[0;36mIntegerArray._coerce_to_array\u001b[1;34m(self, value)\u001b[0m\n\u001b[0;32m    335\u001b[0m \u001b[38;5;28;01mdef\u001b[39;00m \u001b[38;5;21m_coerce_to_array\u001b[39m(\u001b[38;5;28mself\u001b[39m, value) \u001b[38;5;241m-\u001b[39m\u001b[38;5;241m>\u001b[39m \u001b[38;5;28mtuple\u001b[39m[np\u001b[38;5;241m.\u001b[39mndarray, np\u001b[38;5;241m.\u001b[39mndarray]:\n\u001b[1;32m--> 336\u001b[0m     \u001b[38;5;28;01mreturn\u001b[39;00m \u001b[43mcoerce_to_array\u001b[49m\u001b[43m(\u001b[49m\u001b[43mvalue\u001b[49m\u001b[43m,\u001b[49m\u001b[43m \u001b[49m\u001b[43mdtype\u001b[49m\u001b[38;5;241;43m=\u001b[39;49m\u001b[38;5;28;43mself\u001b[39;49m\u001b[38;5;241;43m.\u001b[39;49m\u001b[43mdtype\u001b[49m\u001b[43m)\u001b[49m\n",
      "File \u001b[1;32mC:\\ProgramData\\Anaconda3\\lib\\site-packages\\pandas\\core\\arrays\\integer.py:230\u001b[0m, in \u001b[0;36mcoerce_to_array\u001b[1;34m(values, dtype, mask, copy)\u001b[0m\n\u001b[0;32m    228\u001b[0m     values \u001b[38;5;241m=\u001b[39m values\u001b[38;5;241m.\u001b[39mastype(dtype, copy\u001b[38;5;241m=\u001b[39mcopy)\n\u001b[0;32m    229\u001b[0m \u001b[38;5;28;01melse\u001b[39;00m:\n\u001b[1;32m--> 230\u001b[0m     values \u001b[38;5;241m=\u001b[39m \u001b[43msafe_cast\u001b[49m\u001b[43m(\u001b[49m\u001b[43mvalues\u001b[49m\u001b[43m,\u001b[49m\u001b[43m \u001b[49m\u001b[43mdtype\u001b[49m\u001b[43m,\u001b[49m\u001b[43m \u001b[49m\u001b[43mcopy\u001b[49m\u001b[38;5;241;43m=\u001b[39;49m\u001b[38;5;28;43;01mFalse\u001b[39;49;00m\u001b[43m)\u001b[49m\n\u001b[0;32m    232\u001b[0m \u001b[38;5;28;01mreturn\u001b[39;00m values, mask\n",
      "File \u001b[1;32mC:\\ProgramData\\Anaconda3\\lib\\site-packages\\pandas\\core\\arrays\\integer.py:126\u001b[0m, in \u001b[0;36msafe_cast\u001b[1;34m(values, dtype, copy)\u001b[0m\n\u001b[0;32m    123\u001b[0m \u001b[38;5;28;01mif\u001b[39;00m (casted \u001b[38;5;241m==\u001b[39m values)\u001b[38;5;241m.\u001b[39mall():\n\u001b[0;32m    124\u001b[0m     \u001b[38;5;28;01mreturn\u001b[39;00m casted\n\u001b[1;32m--> 126\u001b[0m \u001b[38;5;28;01mraise\u001b[39;00m \u001b[38;5;167;01mTypeError\u001b[39;00m(\n\u001b[0;32m    127\u001b[0m     \u001b[38;5;124mf\u001b[39m\u001b[38;5;124m\"\u001b[39m\u001b[38;5;124mcannot safely cast non-equivalent \u001b[39m\u001b[38;5;132;01m{\u001b[39;00mvalues\u001b[38;5;241m.\u001b[39mdtype\u001b[38;5;132;01m}\u001b[39;00m\u001b[38;5;124m to \u001b[39m\u001b[38;5;132;01m{\u001b[39;00mnp\u001b[38;5;241m.\u001b[39mdtype(dtype)\u001b[38;5;132;01m}\u001b[39;00m\u001b[38;5;124m\"\u001b[39m\n\u001b[0;32m    128\u001b[0m ) \u001b[38;5;28;01mfrom\u001b[39;00m \u001b[38;5;21;01merr\u001b[39;00m\n",
      "\u001b[1;31mTypeError\u001b[0m: cannot safely cast non-equivalent float64 to int64"
     ]
    }
   ],
   "source": [
    "# Filling missing values with variable averages:\n",
    "# We do this based on train data, not on test data to prevent information leakage about variable distribution to test dataset\n",
    "\n",
    "for name in cols_with_na:\n",
    "    X_train[name].fillna(value=np.mean(X_train[name]), inplace=True, downcast='infer')"
   ]
  }
 ],
 "metadata": {
  "kernelspec": {
   "display_name": "Python 3 (ipykernel)",
   "language": "python",
   "name": "python3"
  },
  "language_info": {
   "codemirror_mode": {
    "name": "ipython",
    "version": 3
   },
   "file_extension": ".py",
   "mimetype": "text/x-python",
   "name": "python",
   "nbconvert_exporter": "python",
   "pygments_lexer": "ipython3",
   "version": "3.9.12"
  }
 },
 "nbformat": 4,
 "nbformat_minor": 4
}
